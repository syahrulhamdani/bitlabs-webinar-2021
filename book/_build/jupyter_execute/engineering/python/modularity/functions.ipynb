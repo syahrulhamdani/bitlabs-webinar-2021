{
 "cells": [
  {
   "cell_type": "markdown",
   "id": "62e870dd-938f-4013-bbc3-f853d5c0c028",
   "metadata": {},
   "source": [
    "# Fungsi\n",
    "\n",
    "Sampai dengan sekarang, semua kode Python yang kita tulis berupa potongan-potongan kode dan dijalankan secara sendiri-sendiri. Ini mungkin berguna dan dipakai untuk eksplorasi dan eksekusi singkat, tapi jika skrip kode sudah mulai kompleks, tidak mungkin kita menulis ulang semua kode tersebut. Oleh karena itu, diperlukan suatu cara untuk **mengelompokkan dan mengorganisir** kode menjadi **bagian-bagian yang lebih mudah untuk di kelola**.\n",
    "\n",
    "Cara pertama yang bisa dilakukan adalah mengumpulkan kode-kode yang memiliki alur dan tujuan agar bisa digunakan kembali tanpa menulis ulang kodenya ke dalam sebuah **fungsi (*function*)**. Kita bisa anggap sebuah fungsi sebagai **kumpulan kode yang bekerja untuk suatu tugas tertentu yang bisa menerima *input* apapun jenisnya dan berapapun jumlahnya, serta mengembalikan *output* apapun jenisnya dan berapapun jumlahnya**. {cite}`lubanovic2019intropython2nd`\n",
    "\n",
    "\n",
    "## Mendefinisikan Fungsi dengan `def`\n",
    "\n",
    "Untuk mendefinisikan fungsi, kita mulai dengan kata kunci `def`, diikuti oleh **nama fungsi** (aturan penamaan sama dengan variabel), tanda kurung (`()`) yang berisikan nol atau lebih parameter masukan yang diperlukan fungsi tersebut, dan diakhiri dengan `:`.\n",
    "\n",
    "Mari kita coba definisikan fungsi yang paling sederhana terlebih dahulu yang tidak memerlukan parameter masukan apapun dan tidak melakukan apapun.\n",
    "\n",
    "```python\n",
    "def do_nothing():\n",
    "    pass\n",
    "```\n",
    "\n",
    "```{note}\n",
    "Pernyataan `pass` pada Python digunakan sebagai penampung atau *placeholder* untuk kode nantinya. Ketika dieksekusi, `pass` tidak melakukan apa-apa, tapi kode tetap berjalan tanpa eror kekosongan kode, karena kode kosong (*empty code*) tidak diperbolehkan dalam sebuah perulangan, pendefinisian fungsi, pendefinisan kelas (*class*), atau pernyataan kondisional `if`.\n",
    "```"
   ]
  },
  {
   "cell_type": "code",
   "execution_count": 1,
   "id": "689c2187-63dc-4d33-a6fa-77a01d86ab5a",
   "metadata": {},
   "outputs": [],
   "source": [
    "def do_nothing():\n",
    "    pass"
   ]
  },
  {
   "cell_type": "markdown",
   "id": "8027e16a-4261-4272-a66b-fb2ab6ab3732",
   "metadata": {},
   "source": [
    "### Pemanggilan Fungsi\n",
    "\n",
    "Fungsi yang sudah didefinisikan dapat digunakan dengan cara memanggilnya dengan menuliskan nama fungsi, diikuti dengan tanda kurung, dan menyediakan parameter masukan sesuai dengan yang dibutuhkan oleh fungsi tersebut. Jika suatu fungsi tidak memerlukan parameter masukan, seperti pada fungsi `do_nothing` di atas, maka kita bisa langsung dipanggil seperti pada cell di bawah ini."
   ]
  },
  {
   "cell_type": "code",
   "execution_count": 2,
   "id": "64055a4f-383c-41a4-ab81-789bd5a26753",
   "metadata": {},
   "outputs": [],
   "source": [
    "do_nothing()"
   ]
  },
  {
   "cell_type": "markdown",
   "id": "d86e01d8-3735-476e-9ace-c4f66f0cd7ce",
   "metadata": {},
   "source": [
    "Sekarang, kita coba buat fungsi baru yang masih tidak memerlukan parameter masukan, tapi akan menampilkan suatu string dengan fungsi `print`."
   ]
  },
  {
   "cell_type": "code",
   "execution_count": 3,
   "id": "8bc67b2d-1729-492c-a6e6-54d02ac175e4",
   "metadata": {},
   "outputs": [],
   "source": [
    "def make_sound():\n",
    "    print(\"moo..\")"
   ]
  },
  {
   "cell_type": "code",
   "execution_count": 4,
   "id": "b1e90b9f-ab30-4d66-b8f6-84a1f6c2c793",
   "metadata": {},
   "outputs": [
    {
     "name": "stdout",
     "output_type": "stream",
     "text": [
      "moo..\n"
     ]
    }
   ],
   "source": [
    "make_sound()"
   ]
  },
  {
   "cell_type": "markdown",
   "id": "1447ea65-5288-4979-ae40-d7ab1c268027",
   "metadata": {},
   "source": [
    "Fungsi `make_sound` yang sudah didefinisikan, jika dipanggil, akan menampilkan string `\"moo..\"` sesuai dengan blok kode di dalamnya.\n",
    "\n",
    "### Pernyataan `return` pada Fungsi\n",
    "\n",
    "Sekarang, kita coba buat fungsi yang mengembalikan sebuah nilai `True` seperti di bawah ini."
   ]
  },
  {
   "cell_type": "code",
   "execution_count": 5,
   "id": "87999e4f-4ce0-49f2-9e0c-3482bad7b459",
   "metadata": {},
   "outputs": [],
   "source": [
    "def agree():\n",
    "    return True"
   ]
  },
  {
   "cell_type": "code",
   "execution_count": 6,
   "id": "aab7fd0d-9ad5-4ec6-bff2-c736cf5883b8",
   "metadata": {},
   "outputs": [
    {
     "data": {
      "text/plain": [
       "True"
      ]
     },
     "execution_count": 6,
     "metadata": {},
     "output_type": "execute_result"
    }
   ],
   "source": [
    "agree()"
   ]
  },
  {
   "cell_type": "markdown",
   "id": "9faaceee-ae36-40a3-8e37-5e609c965bd3",
   "metadata": {},
   "source": [
    "Suatu fungsi yang memiliki pernyataan `return`, akan **mengembalikan sebuah nilai keluaran ke pernyataan yang memanggilnya**. Pernyataan `return` terdiri dari kata kunci `return` yang kemudian diikuti oleh nilai balikan, dan dipisahkan dengan spasi. Jika kita ingin mengembalikan lebih dari satu nilai dari suatu fungsi, maka kita bisa tulis nilai-nilai tersebut dan dipisahkan dengan `,`, seperti `return value1, value2`.\n",
    "\n",
    "```{note}\n",
    "Suatu fungsi yang tidak memiliki pernyataan `return`, seperti pada fungsi `do_nothing` ataupun `make_sound`, maka nilai balikannya adalah `None`.\n",
    "```\n",
    "\n",
    "Untuk membandingkan fungsi dengan `return` dan yang tidak, mari kita coba definisikan sebuah variabel `sound` dan `is_agree` dengan memanggil fungsi `make_sound` dan `agree` secara berturut-turut."
   ]
  },
  {
   "cell_type": "code",
   "execution_count": 7,
   "id": "cd69934a-3ed3-4c57-a938-dbd516c9fc50",
   "metadata": {},
   "outputs": [
    {
     "name": "stdout",
     "output_type": "stream",
     "text": [
      "moo..\n"
     ]
    }
   ],
   "source": [
    "sound = make_sound()\n",
    "is_agree = agree()"
   ]
  },
  {
   "cell_type": "markdown",
   "id": "5434e85f-0dbc-49c2-a89a-9b2a364564c4",
   "metadata": {},
   "source": [
    "Setelah kita jalankan cell di atas, kita mendapatkan tampilan `moo..` yang berasal dari fungsi `make_sound`. Sedangkan, variabel `is_agree` tidak menampilkan apa-apa. Ini sama halnya saat kita mendefinisikan variabel sebelumnya, kita hanya memberikan nilai pada variabel.\n",
    "\n",
    "Jika kita coba tampilkan kedua variabel tersebut dengan `print`, maka `sound` tidak akan menampilkan apa-apa, sedangkan `is_agree` akan menampilkan nilai `True`. Ini terjadi karena fungsi `make_sound` **tidak mengembalikan nilai apa-apa** untuk disimpan dalam variabel `sound`, sedangkan `agree` mengembalikan nilai `True` yang kemudian disimpan dalam variabel `is_agree`."
   ]
  },
  {
   "cell_type": "code",
   "execution_count": 8,
   "id": "ba9314e3-de3e-42a0-848a-409492655633",
   "metadata": {},
   "outputs": [
    {
     "name": "stdout",
     "output_type": "stream",
     "text": [
      "None\n"
     ]
    }
   ],
   "source": [
    "print(sound)"
   ]
  },
  {
   "cell_type": "code",
   "execution_count": 9,
   "id": "26e7b064-8b8a-4580-af79-040b37b8af37",
   "metadata": {},
   "outputs": [
    {
     "name": "stdout",
     "output_type": "stream",
     "text": [
      "True\n"
     ]
    }
   ],
   "source": [
    "print(is_agree)"
   ]
  },
  {
   "cell_type": "markdown",
   "id": "84824f4e-cd60-4af9-9bcf-71e638deeec9",
   "metadata": {},
   "source": [
    "Karena fungsi `agree` mengembalikan nilai boolean, maka kita bisa gunakan fungsi tersebut sebagai kondisi dalam `if`. Kita bisa memilih untuk menyimpan nilai balikannya dalam sebuah variabel terlebih dahulu, seperti `is_agree`, atau kita bisa langsung panggil `agree` dalam pernyataan `if`. Blok kode di bawah ini,\n",
    "\n",
    "```python\n",
    "if is_agree:\n",
    "    print(\"Awesome!\")\n",
    "else:\n",
    "    print(\"Very unexpected..\")\n",
    "```\n",
    "\n",
    "ekuivalen dengan blok kode berikut\n",
    "\n",
    "```python\n",
    "if agree():\n",
    "    print(\"Awesome!\")\n",
    "else:\n",
    "    print(\"Very unexpected..\")\n",
    "```"
   ]
  },
  {
   "cell_type": "code",
   "execution_count": 10,
   "id": "961664fb-6a9e-4560-b676-556acd3dfd11",
   "metadata": {},
   "outputs": [
    {
     "name": "stdout",
     "output_type": "stream",
     "text": [
      "Awesome!\n"
     ]
    }
   ],
   "source": [
    "if agree():\n",
    "    print(\"Awesome!\")\n",
    "else:\n",
    "    print(\"Very unexpected..\")"
   ]
  },
  {
   "cell_type": "markdown",
   "id": "e33aed50-b18d-4eb8-89d4-c2bc9d2f6f00",
   "metadata": {},
   "source": [
    "### Fungsi dengan Parameter Masukan\n",
    "\n",
    "Misalkan kita ingin membuat sebuah fungsi, yang bisa gunakan berkali-kali, untuk menghitung volume sebuah silinder. Ada beberapa hal yang harus kita ketahui terlebih dahulu:\n",
    "1. Nilai $\\Pi$\n",
    "2. Tinggi silinder\n",
    "3. Jari-jari silinder\n",
    "\n",
    "Ingat bahwa persamaan volume silinder adalah\n",
    "\n",
    "$$\n",
    "V = \\Pi \\cdot r^2 \\cdot h\n",
    "$$\n",
    "\n",
    "di mana $V$ adalah volume yang dihasilkan, $r$ adalah jari-jari silinder, dan $h$ adalah tinggi silinder.\n",
    "\n",
    "Untuk membuat fungsi tersebut dengan 3 nilai yang harus diketahui terlebih dahulu, ini berarti kita bisa membuat fungsi yang membutuhkan parameter masukan, dalam hal ini yaitu `r` dan `h`. Nilai $Pi$ tidak perlu kita anggap sebagai parameter karena nilainya yang selalu konstan. Sehingga, kita definisikan fungsi `cylinder_volume` seperti di bawah ini.\n",
    "\n",
    "```python\n",
    "def cylinder_volume(radius, height):\n",
    "    pi = 3.14159\n",
    "    return pi * height * radius**2\n",
    "```\n",
    "\n",
    "Mari kita implementasikan fungsi di atas dan kita coba gunakan dengan menyediakan argumen `10` dan `3` untuk `radius` dan `height` secara berturut-turut."
   ]
  },
  {
   "cell_type": "code",
   "execution_count": 11,
   "id": "b74b829a-de91-4cb5-a744-2005679ae906",
   "metadata": {},
   "outputs": [],
   "source": [
    "def cylinder_volume(radius, height):\n",
    "    pi = 3.14159\n",
    "    return pi * height * radius**2"
   ]
  },
  {
   "cell_type": "code",
   "execution_count": 12,
   "id": "c9ed8437-5b05-4379-8c28-04d3305402ac",
   "metadata": {},
   "outputs": [
    {
     "name": "stdout",
     "output_type": "stream",
     "text": [
      "Cylinder volume: 942.4769999999999\n"
     ]
    }
   ],
   "source": [
    "volume = cylinder_volume(10, 3)\n",
    "print(\"Cylinder volume:\", volume)"
   ]
  },
  {
   "cell_type": "markdown",
   "id": "796b9199-a07a-4ae5-9c90-1213c5acb67b",
   "metadata": {},
   "source": [
    "```{div} alert alert-block alert-info\n",
    "**Kuis:** Buatlah sebuah fungsi `commentary` yang menerima masukan dalam parameter `color` dan mengembalikan string tertentu sesuai dengan nilai `color` pada tabel di bawah ini.\n",
    "\n",
    "| color | comment |\n",
    "| --- | --- |\n",
    "| red | It's a tomato |\n",
    "| green | It's a green pepper |\n",
    "| bees | I don't know what it is, but looks like a bee |\n",
    "\n",
    "Jika nilai `color` tidak tersedia dalam tabel di atas, kembalikan string dengan pola di bawah ini\n",
    "\n",
    "```python\n",
    "\"I've never heard of the color\" + color + \"before\"\n",
    "```"
   ]
  },
  {
   "cell_type": "code",
   "execution_count": 13,
   "id": "2b48e149-86a3-42a7-8e14-8bf60a717f16",
   "metadata": {},
   "outputs": [],
   "source": [
    "def commentary(color):\n",
    "    # KETIK DI SINI\n",
    "    pass"
   ]
  },
  {
   "cell_type": "markdown",
   "id": "405d4868-fe2e-45e3-b550-20d976c1ceef",
   "metadata": {},
   "source": [
    "## Argumen dan Parameter\n",
    "\n",
    "Argumen dan parameter beberapa kali disebut pada penjelasan di atas. Kedua istilah ini seringkali disebut untuk mengacu pada hal yang sama, meskipun argumen berbeda dengan parameter. Fungsi `cylinder_volume` sebelumnya memiliki **2 parameter**, `height` dan `radius`. Saat `cylinder_volume` dipanggil, kita menyediakkan **2 argumen**, `10` dan `3` untuk `radius` dan `height` secara berturut-turut.\n",
    "\n",
    "```{note}\n",
    "Saying it another way: they're called *arguments* ouside of the function, but *parameters* inside. {cite}`lubanovic2019intropython2nd`\n",
    "```\n",
    "\n",
    "Kita bisa anggap parameter adalah variabel khusus dalam sebuah fungsi yang nilainya diambil dari argumen yang dimasukkan saat pemanggilan. Pada fungsi `echo` yang didefinisikan di bawah ini, nilai `bitlabs` yang kita masukkan saat memanggil fungsi `echo` akan \"diganti\" dengan parameter `anything` dalam fungsi tersebut. Nilai `bitlabs` disebut sebagai argumen, sedangkan `anything` adalah parameter dalam fungsi."
   ]
  },
  {
   "cell_type": "code",
   "execution_count": 14,
   "id": "846fe0aa-f326-4682-af9d-c4042cc0e508",
   "metadata": {},
   "outputs": [],
   "source": [
    "def echo(anything):\n",
    "    return anything + \" \" + anything"
   ]
  },
  {
   "cell_type": "code",
   "execution_count": 15,
   "id": "f3d56646-8d81-44f3-8c5c-70f2c496ffdd",
   "metadata": {},
   "outputs": [
    {
     "data": {
      "text/plain": [
       "'bitlabs bitlabs'"
      ]
     },
     "execution_count": 15,
     "metadata": {},
     "output_type": "execute_result"
    }
   ],
   "source": [
    "echo(\"bitlabs\")"
   ]
  },
  {
   "cell_type": "markdown",
   "id": "778ffe2e-f9e1-44b9-bb6b-8f874cd30f24",
   "metadata": {},
   "source": [
    "Jika kita memasukkan sejumlah argumen yang kurang atau lebih dari jumlah parameter yang seharusnya fungsi tersebut butuhkan, maka kita akan mendapatkan eror `TypeError` yang memberi tahu kita bahwa ada kesalahan dalam memasukkan argumen. Perhatikan contoh kode di bawah ini."
   ]
  },
  {
   "cell_type": "code",
   "execution_count": 16,
   "id": "8b7ba820-e509-4300-9814-a7cbd36a2382",
   "metadata": {},
   "outputs": [
    {
     "ename": "TypeError",
     "evalue": "cylinder_volume() missing 1 required positional argument: 'height'",
     "output_type": "error",
     "traceback": [
      "\u001b[0;31m---------------------------------------------------------------------------\u001b[0m",
      "\u001b[0;31mTypeError\u001b[0m                                 Traceback (most recent call last)",
      "\u001b[0;32m/var/folders/93/ql5vn23d6c7bs3rnsd0z7q8c0000gn/T/ipykernel_12836/1510587952.py\u001b[0m in \u001b[0;36m<module>\u001b[0;34m\u001b[0m\n\u001b[0;32m----> 1\u001b[0;31m \u001b[0mcylinder_volume\u001b[0m\u001b[0;34m(\u001b[0m\u001b[0;36m10\u001b[0m\u001b[0;34m)\u001b[0m\u001b[0;34m\u001b[0m\u001b[0;34m\u001b[0m\u001b[0m\n\u001b[0m",
      "\u001b[0;31mTypeError\u001b[0m: cylinder_volume() missing 1 required positional argument: 'height'"
     ]
    }
   ],
   "source": [
    "cylinder_volume(10)"
   ]
  },
  {
   "cell_type": "code",
   "execution_count": 17,
   "id": "df2439d9-1490-4e89-98c5-fe904c82749e",
   "metadata": {},
   "outputs": [
    {
     "ename": "TypeError",
     "evalue": "echo() takes 1 positional argument but 2 were given",
     "output_type": "error",
     "traceback": [
      "\u001b[0;31m---------------------------------------------------------------------------\u001b[0m",
      "\u001b[0;31mTypeError\u001b[0m                                 Traceback (most recent call last)",
      "\u001b[0;32m/var/folders/93/ql5vn23d6c7bs3rnsd0z7q8c0000gn/T/ipykernel_12836/2668369315.py\u001b[0m in \u001b[0;36m<module>\u001b[0;34m\u001b[0m\n\u001b[0;32m----> 1\u001b[0;31m \u001b[0mecho\u001b[0m\u001b[0;34m(\u001b[0m\u001b[0;36m100\u001b[0m\u001b[0;34m,\u001b[0m \u001b[0;36m200\u001b[0m\u001b[0;34m)\u001b[0m\u001b[0;34m\u001b[0m\u001b[0;34m\u001b[0m\u001b[0m\n\u001b[0m",
      "\u001b[0;31mTypeError\u001b[0m: echo() takes 1 positional argument but 2 were given"
     ]
    }
   ],
   "source": [
    "echo(100, 200)"
   ]
  },
  {
   "cell_type": "markdown",
   "id": "c2404321-a527-47f2-a2be-e4b0bed97ae5",
   "metadata": {},
   "source": [
    "### Menyediakan Argumen berdasarkan Posisi\n",
    "\n",
    "Nilai yang kita masukkan saat pemanggilan `cylinder_volume` akan disimpan ke masing-masing parameter sesuai dengan **posisinya**. Artinya, `cylinder_volume(10, 3)` akan menugaskan `radius=10` dan `height=3`, sesuai dengan posisi parameter saat pendefinisian fungsi `def cylinder_volume(radius, height)`. Jika kita balik argumennya dan memanggil dengan `cylinder_volume(3, 10)`, maka sekarang nilai `10` dan `3` akan disimpan pada parameter `height` dan `radius` secara berturut-turut.\n",
    "\n",
    "```{note}\n",
    "Nilai atau ekspresi yang kita memasukkan argumen ke dalam sebuah fungsi apa adanya (hanya berupa nilai/ekspresi) disebut sebagai ***positional argument***. Kita bisa bilang bahwa `radius` dan `height` diberikan *positional arguments* saat kita memanggilnya dengan `cylinder_volume`.\n",
    "```\n",
    "\n",
    "### Menyediakan Argumen berdasarkan Nama Parameter\n",
    "\n",
    "Jika kita memasukkan nilai saat pemanggilan suatu fungsi dengan juga menyediakan nama parameternya secara eksplisit, maka urutan posisi argumen mana yang disimpan dalam parameter yang mana tidak lagi berlaku. Pemberian argumen dengan cara seperti ini membuat penulisan kode lebih jelas dan juga memudahkan pembaca untuk memahami nilai yang diberikan untuk masing-masing parameter. Untuk mendemonstrasikannya, mari kita defnisikan fungsi `is_bounded` di bawah ini. {cite}`python-like-you-mean-it`\n",
    "\n",
    "```python\n",
    "def is_bounded(x, lower, upper):\n",
    "    return lower <= x <= upper\n",
    "```\n",
    "\n",
    "Fungsi di atas akan mengembalikan sebuah boolean `True` jika dan hanya jika nilai `x` berada di dalam interval $[lower, upper]$ dan `False` jika sebaliknya."
   ]
  },
  {
   "cell_type": "code",
   "execution_count": 18,
   "id": "a656f038-0301-4ea2-af01-8672d7e1cf05",
   "metadata": {},
   "outputs": [],
   "source": [
    "def is_bounded(x, lower, upper):\n",
    "    return lower <= x <= upper"
   ]
  },
  {
   "cell_type": "code",
   "execution_count": 19,
   "id": "321875c1-5323-4e71-85dc-587460f2b154",
   "metadata": {},
   "outputs": [
    {
     "data": {
      "text/plain": [
       "False"
      ]
     },
     "execution_count": 19,
     "metadata": {},
     "output_type": "execute_result"
    }
   ],
   "source": [
    "is_bounded(2, 3, 4)"
   ]
  },
  {
   "cell_type": "code",
   "execution_count": 20,
   "id": "9dfc497b-3131-4751-a519-63c62132a1a7",
   "metadata": {},
   "outputs": [
    {
     "data": {
      "text/plain": [
       "True"
      ]
     },
     "execution_count": 20,
     "metadata": {},
     "output_type": "execute_result"
    }
   ],
   "source": [
    "is_bounded(lower=2, x=3, upper=4)"
   ]
  },
  {
   "cell_type": "markdown",
   "id": "f347b954-7dfa-4a15-93fb-655229225939",
   "metadata": {},
   "source": [
    "Pemanggilan fungsi yang pertama, `is_bounded(2, 3, 4)`, menghasilkan nilai `False` karena `x=2`, `lower=3`, dan `upper=4`, sehingga `3 <= 2 <= 4` sama dengan `False`. Sedangkan, pada pemanggilan fungsi yang kedua, karena kita memasukkan argumen dengan berdasarkan dan menyediakan parameternya, maka meskipun urutan nilai masukannya sama dengan pemanggilan fungsi pertama, tapi kita memberi tahu `is_bounded` bahwa argumen pertama ditujukan untuk `lower` dengan menuliskan `lower=2`. Urutan parameter tidak berlaku di sini dan yang terpenting adalah semua parameter yang **dibutuhkan** fungsi ditentukan."
   ]
  },
  {
   "cell_type": "code",
   "execution_count": 21,
   "id": "f8612947-ff9b-43da-930a-b2336a8fb44a",
   "metadata": {},
   "outputs": [
    {
     "name": "stdout",
     "output_type": "stream",
     "text": [
      "True\n",
      "True\n",
      "True\n"
     ]
    }
   ],
   "source": [
    "# pernyataan di bawah ini semuanya ekuivalen\n",
    "print(is_bounded(3, 2, 4))\n",
    "print(is_bounded(upper=4, lower=2, x=3))\n",
    "print(is_bounded(upper=4, x=3, lower=2))"
   ]
  },
  {
   "cell_type": "markdown",
   "id": "f5631b9a-e1d6-40fa-87da-cf9651cff315",
   "metadata": {},
   "source": [
    "Pemberian argumen dengan cara seperti ini disebut dengan ***keyword argument***, yaitu pemberian argumen dengan *keyword* parameter yang dituju.\n",
    "\n",
    "```{note}\n",
    "*Keyword argument* adalah sebuah argumen yang didahului oleh pengindentifikasi (misal `name=`) dalam sebuah pemanggilan fungsi. {cite}`pythonglossary`\n",
    "```\n",
    "\n",
    "````{div} alert alert-block alert-info\n",
    "**Kuis:** Buatlah sebuah fungsi `readable_timedelta` yang menerima satu masukan `days`, dan mengembalikan sebuah string yang menyatakan berapa minggu dan berapa hari nilai `days` tersebut. Sebagai contoh, penggunaan fungsi di bawah ini\n",
    "\n",
    "```python\n",
    "readable_timedelta(10)\n",
    "```\n",
    "\n",
    "akan mengembalikan\n",
    "\n",
    "```python\n",
    "\"1 week(s) and 3 day(s)\"\n",
    "```\n",
    "````"
   ]
  },
  {
   "cell_type": "code",
   "execution_count": 22,
   "id": "5d537cc3-e36b-4dd6-97e0-327917487012",
   "metadata": {},
   "outputs": [],
   "source": [
    "# KETIK DI SINI"
   ]
  },
  {
   "cell_type": "markdown",
   "id": "61f5eb65-0bb1-49c2-af5c-630e6677193a",
   "metadata": {},
   "source": [
    "Tidak semua argumen harus disediakan dengan *keyword argument*. Kita juga bisa menggabungkan *positional argument* dengan *keyword argment* seperti di bawah ini.\n",
    "\n",
    "```python\n",
    "is_bounded(3, lower=2, upper=4)\n",
    "```\n",
    "\n",
    "Potongan kode di atas berarti kita menyediakan argumen `3` sebagai *positional argument* sehingga akan ditempatkan sesuai dengan posisi pertama parameter fungsi, yaitu `x`. Sedangkan, argumen `2` dan `3` sebagai *keyword argument* yang tidak dipengaruhi oleh posisi parameter.\n",
    "\n",
    "```{warning}\n",
    "Jika kita sudah memberikan argumen dalam bentuk *keyword argument*, maka argumen-argumen setelahnya juga harus dalam *keyword argument*. Jika setelah *keyword argument* kita memberikan argumen sebagai *positional argument*, maka akan memunculkan eror `SyntaxError`.\n",
    "```"
   ]
  },
  {
   "cell_type": "code",
   "execution_count": 23,
   "id": "3cc7a32b-dcc0-4e02-8b01-691b07b4d259",
   "metadata": {},
   "outputs": [
    {
     "data": {
      "text/plain": [
       "True"
      ]
     },
     "execution_count": 23,
     "metadata": {},
     "output_type": "execute_result"
    }
   ],
   "source": [
    "is_bounded(3, lower=2, upper=4)"
   ]
  },
  {
   "cell_type": "code",
   "execution_count": 24,
   "id": "675d00a2-d710-4d35-b1a1-1511c9fe1327",
   "metadata": {},
   "outputs": [
    {
     "ename": "SyntaxError",
     "evalue": "positional argument follows keyword argument (2158825987.py, line 1)",
     "output_type": "error",
     "traceback": [
      "\u001b[0;36m  File \u001b[0;32m\"/var/folders/93/ql5vn23d6c7bs3rnsd0z7q8c0000gn/T/ipykernel_12836/2158825987.py\"\u001b[0;36m, line \u001b[0;32m1\u001b[0m\n\u001b[0;31m    is_bounded(3, upper=3, 4)\u001b[0m\n\u001b[0m                           ^\u001b[0m\n\u001b[0;31mSyntaxError\u001b[0m\u001b[0;31m:\u001b[0m positional argument follows keyword argument\n"
     ]
    }
   ],
   "source": [
    "is_bounded(3, upper=3, 4)"
   ]
  },
  {
   "cell_type": "markdown",
   "id": "d56ee95d-e707-4fdd-8fe9-1a4463100388",
   "metadata": {},
   "source": [
    "### Argumen dengan Nilai Default\n",
    "\n",
    "Kita bisa menyediakan nilai default parameter saat pendefinisian fungsi. Nilai default ini akan dipakai jika fungsi dipanggil **tanpa menyediakan argumen** untuk parameter tersebut atau memang ingin **menggunakan nilai default**. Coba kita lihat fungsi `is_bounded` sebelumnya. Andaikan fungsi tersebut dipanggil untuk menentukan apakah `x` berada pada interval $[0, 10]$ dan sangat jarang untuk interval yang lain. Jika demikian, kita bisa menyediakan parameter `lower` dan `upper` dengan nilai default seperti di bawah ini.\n",
    "\n",
    "```python\n",
    "def is_bounded(x, lower=0, upper=10):\n",
    "    return lower <= x <= upper\n",
    "```\n",
    "\n",
    "Sekarang, kita bisa memanggil `is_bounded` hanya dengan menyediakan nilai `x` saja karena parameter yang lain sudah memiliki argumen default."
   ]
  },
  {
   "cell_type": "code",
   "execution_count": 25,
   "id": "13e97509-9203-4046-b2ac-381d967c3c40",
   "metadata": {},
   "outputs": [],
   "source": [
    "def is_bounded(x, lower=0, upper=10):\n",
    "    return lower <= x <= upper"
   ]
  },
  {
   "cell_type": "code",
   "execution_count": 26,
   "id": "cdd0684c-74ec-469d-8e7a-a795a45b8c52",
   "metadata": {},
   "outputs": [
    {
     "data": {
      "text/plain": [
       "True"
      ]
     },
     "execution_count": 26,
     "metadata": {},
     "output_type": "execute_result"
    }
   ],
   "source": [
    "is_bounded(2)"
   ]
  },
  {
   "cell_type": "code",
   "execution_count": 27,
   "id": "3ad58005-1414-4334-8f14-0c1a2133943e",
   "metadata": {},
   "outputs": [
    {
     "data": {
      "text/plain": [
       "True"
      ]
     },
     "execution_count": 27,
     "metadata": {},
     "output_type": "execute_result"
    }
   ],
   "source": [
    "is_bounded(8)"
   ]
  },
  {
   "cell_type": "markdown",
   "id": "98dd08ac-e978-45f1-818c-30ce170c64e6",
   "metadata": {},
   "source": [
    "Tentu saja, jika kita ingin menggunakan interval yang berbeda, kita bisa memberikan argumen sendiri yang akan mengganti argumen default fungsi."
   ]
  },
  {
   "cell_type": "code",
   "execution_count": 28,
   "id": "549a50d6-1376-441e-be50-93e2a826952f",
   "metadata": {},
   "outputs": [
    {
     "data": {
      "text/plain": [
       "False"
      ]
     },
     "execution_count": 28,
     "metadata": {},
     "output_type": "execute_result"
    }
   ],
   "source": [
    "is_bounded(2, upper=1)"
   ]
  },
  {
   "cell_type": "code",
   "execution_count": 29,
   "id": "84defcf9-f5be-45cf-b8f0-bebb496bf423",
   "metadata": {},
   "outputs": [
    {
     "data": {
      "text/plain": [
       "False"
      ]
     },
     "execution_count": 29,
     "metadata": {},
     "output_type": "execute_result"
    }
   ],
   "source": [
    "is_bounded(2, lower=5)"
   ]
  },
  {
   "cell_type": "code",
   "execution_count": 30,
   "id": "81d458a6-94b0-411f-8a05-a59a449e0ba7",
   "metadata": {},
   "outputs": [
    {
     "data": {
      "text/plain": [
       "False"
      ]
     },
     "execution_count": 30,
     "metadata": {},
     "output_type": "execute_result"
    }
   ],
   "source": [
    "is_bounded(5, 0, 1)"
   ]
  },
  {
   "cell_type": "markdown",
   "id": "3ae460b4-3be4-4f5b-9aa3-01400382eaee",
   "metadata": {},
   "source": [
    "````{warning}\n",
    "Pendefinisian fungsi dengan argumen default pada parameter tidak boleh diikuti oleh *positional argument*, seperti di bawah ini.\n",
    "\n",
    "```python\n",
    "def is_bounded(x, lower=0, upper):\n",
    "    return lower <= x <= upper\n",
    "```\n",
    "\n",
    "Definisi fungsi di atas akan memunculkan eror `SyntaxError`, sama dengan saat kita menyediakan *keyword argument* dan diikuti oleh *positional argument* sebelumya.\n",
    "````"
   ]
  },
  {
   "cell_type": "code",
   "execution_count": 31,
   "id": "53365437-fe21-4ca4-afd7-23d1a9a9286b",
   "metadata": {},
   "outputs": [
    {
     "ename": "SyntaxError",
     "evalue": "non-default argument follows default argument (2451436096.py, line 1)",
     "output_type": "error",
     "traceback": [
      "\u001b[0;36m  File \u001b[0;32m\"/var/folders/93/ql5vn23d6c7bs3rnsd0z7q8c0000gn/T/ipykernel_12836/2451436096.py\"\u001b[0;36m, line \u001b[0;32m1\u001b[0m\n\u001b[0;31m    def is_bounded(x, lower=0, upper):\u001b[0m\n\u001b[0m                   ^\u001b[0m\n\u001b[0;31mSyntaxError\u001b[0m\u001b[0;31m:\u001b[0m non-default argument follows default argument\n"
     ]
    }
   ],
   "source": [
    "def is_bounded(x, lower=0, upper):\n",
    "    return lower <= x <= upper"
   ]
  },
  {
   "cell_type": "markdown",
   "id": "d55aaac4-d80d-4e31-8b2d-6bb677b12081",
   "metadata": {},
   "source": [
    "### *Variable-length Positional Argument*\n",
    "\n",
    "Python membolehkan kita untuk menyediakan *positional argument* berapapun jumlahnya. Hal ini dapat dilakukan dengan mendefinisikan fungsi dengan parameter yang diawali oleh `*`. Perhatikan contoh kode di bawah. {cite}`python-like-you-mean-it`\n",
    "\n",
    "```python\n",
    "def func(*args):\n",
    "    return args\n",
    "```\n",
    "\n",
    "Dengan mengawali parameter dengan `*`, parameter `args` dalam fungsi di atas bisa menerima masukan argumen berapapun jumlahnya, mulai dari 0 sampai sebanyak apapun. Argumen-argumen yang dimasukkan dalam `func` dipisahkan dengan `,` layaknya kita memberi masukan untuk beberapa parameter.\n",
    "\n",
    "Atas perilaku ini, semua argumen yang disediakan akan dibungkus menjadi sebuah `tuple`. Dengan kata lain, `args` adalah `tuple` berisikan argumen-argumen yang disediakan. Fitur ini biasa disebut dengan ***tuple packing*** dan operator `*` disebut juga sebagai ***packing operator***.\n",
    "\n",
    "```{tip}\n",
    "Penggunaan nama parameter `args` dalam *variable-length positional argument* adalah konvensi pada Python yang bertujuan untuk memberitahu pengembang bahwa argumen-argumen yang diberikan akan di bungkus bersamaan.\n",
    "```"
   ]
  },
  {
   "cell_type": "code",
   "execution_count": 32,
   "id": "84a920d1-becb-44d6-b0b6-3f378830f3e1",
   "metadata": {},
   "outputs": [],
   "source": [
    "def func(*args):\n",
    "    return args"
   ]
  },
  {
   "cell_type": "code",
   "execution_count": 33,
   "id": "5eea0d95-80e5-4d41-9681-d177f75e6977",
   "metadata": {},
   "outputs": [
    {
     "data": {
      "text/plain": [
       "()"
      ]
     },
     "execution_count": 33,
     "metadata": {},
     "output_type": "execute_result"
    }
   ],
   "source": [
    "func()"
   ]
  },
  {
   "cell_type": "code",
   "execution_count": 34,
   "id": "8aaccf8f-52a1-4936-8c03-570b4af6f894",
   "metadata": {},
   "outputs": [
    {
     "data": {
      "text/plain": [
       "(1, 2)"
      ]
     },
     "execution_count": 34,
     "metadata": {},
     "output_type": "execute_result"
    }
   ],
   "source": [
    "func(1, 2)"
   ]
  },
  {
   "cell_type": "code",
   "execution_count": 35,
   "id": "4ab3408d-2e24-4ba5-af64-3bbbe126861c",
   "metadata": {},
   "outputs": [
    {
     "data": {
      "text/plain": [
       "(1, 3, 5, 7, 'done!')"
      ]
     },
     "execution_count": 35,
     "metadata": {},
     "output_type": "execute_result"
    }
   ],
   "source": [
    "func(1, 3, 5, 7, \"done!\")"
   ]
  },
  {
   "cell_type": "code",
   "execution_count": 36,
   "id": "1ce63559-064b-4098-a6e7-90430cdd3b47",
   "metadata": {},
   "outputs": [
    {
     "data": {
      "text/plain": [
       "(['a', 'list'], ('another', 'tuple'), True, False)"
      ]
     },
     "execution_count": 36,
     "metadata": {},
     "output_type": "execute_result"
    }
   ],
   "source": [
    "func([\"a\", \"list\"], (\"another\", \"tuple\"), True, False)"
   ]
  },
  {
   "cell_type": "markdown",
   "id": "e1b2b17a-69cf-44a3-89b8-7f33943050b6",
   "metadata": {},
   "source": [
    "Fitur ini juga bisa dikombinasikan dengan *positional argument* dan juga *keyword argument*. Misal kita ingin menghitung rata-rata dari beberapa data. Daripada kita membatasi jumlah data yang diterima oleh fungsi, atau memasukkan sebuah barisan secara eksplisit, kita bisa masukkan data-data tersebut sebagai beberapa argumen."
   ]
  },
  {
   "cell_type": "code",
   "execution_count": 37,
   "id": "eb40f0d8-0972-43ef-9754-753ceb41b01e",
   "metadata": {},
   "outputs": [],
   "source": [
    "def do_mean(prefix, *data, suffix):\n",
    "    print(\"prefix:\", prefix)\n",
    "    print(\"suffix:\", suffix)\n",
    "\n",
    "    if len(data):\n",
    "        return sum(data) / len(data)\n",
    "    return \"no data provided\""
   ]
  },
  {
   "cell_type": "code",
   "execution_count": 38,
   "id": "f8239bf9-88dd-411d-9c0f-eb6a2876a8bd",
   "metadata": {},
   "outputs": [
    {
     "name": "stdout",
     "output_type": "stream",
     "text": [
      "prefix: 100\n",
      "suffix: 50\n"
     ]
    },
    {
     "data": {
      "text/plain": [
       "5.0"
      ]
     },
     "execution_count": 38,
     "metadata": {},
     "output_type": "execute_result"
    }
   ],
   "source": [
    "do_mean(100, 1, 2, 3, 4, 5, 6, 7, 8, 9, suffix=50)"
   ]
  },
  {
   "cell_type": "markdown",
   "id": "e06c7ba8-b377-4683-85f5-0e8690fee558",
   "metadata": {},
   "source": [
    "Perhatikan bahwa arugmen untuk `suffix` harus diberikan sebagai *keyword argument*. Jika tidak, maka Python akan kebingungan menentukan apakah argumen tersebut termasuk ke dalam `data` atau sudah ke dalam `suffix`. Oleh karena itu, kita akan mendapat eror `TypeError` seperti di bawah ini."
   ]
  },
  {
   "cell_type": "code",
   "execution_count": 39,
   "id": "25628330-dcdb-4404-af96-36941c647416",
   "metadata": {},
   "outputs": [
    {
     "ename": "TypeError",
     "evalue": "do_mean() missing 1 required keyword-only argument: 'suffix'",
     "output_type": "error",
     "traceback": [
      "\u001b[0;31m---------------------------------------------------------------------------\u001b[0m",
      "\u001b[0;31mTypeError\u001b[0m                                 Traceback (most recent call last)",
      "\u001b[0;32m/var/folders/93/ql5vn23d6c7bs3rnsd0z7q8c0000gn/T/ipykernel_12836/3776530050.py\u001b[0m in \u001b[0;36m<module>\u001b[0;34m\u001b[0m\n\u001b[0;32m----> 1\u001b[0;31m \u001b[0mdo_mean\u001b[0m\u001b[0;34m(\u001b[0m\u001b[0;36m1\u001b[0m\u001b[0;34m,\u001b[0m \u001b[0;36m2\u001b[0m\u001b[0;34m,\u001b[0m \u001b[0;36m3\u001b[0m\u001b[0;34m,\u001b[0m \u001b[0;36m4\u001b[0m\u001b[0;34m)\u001b[0m\u001b[0;34m\u001b[0m\u001b[0;34m\u001b[0m\u001b[0m\n\u001b[0m",
      "\u001b[0;31mTypeError\u001b[0m: do_mean() missing 1 required keyword-only argument: 'suffix'"
     ]
    }
   ],
   "source": [
    "do_mean(1, 2, 3, 4)"
   ]
  },
  {
   "cell_type": "markdown",
   "id": "2819946d-c653-47f5-a6a2-ba4fc9b8bdbd",
   "metadata": {},
   "source": [
    "Karena `data` bisa menerima 0 argumen, maka `do_mean(1, suffix=2)` akan mengembalikan `\"no data provided\"` seperti cell di bawah ini."
   ]
  },
  {
   "cell_type": "code",
   "execution_count": 40,
   "id": "a751c01b-73ca-4b4d-b8a9-8ebc0f3428ad",
   "metadata": {},
   "outputs": [
    {
     "name": "stdout",
     "output_type": "stream",
     "text": [
      "prefix: 1\n",
      "suffix: 2\n"
     ]
    },
    {
     "data": {
      "text/plain": [
       "'no data provided'"
      ]
     },
     "execution_count": 40,
     "metadata": {},
     "output_type": "execute_result"
    }
   ],
   "source": [
    "do_mean(1, suffix=2)"
   ]
  },
  {
   "cell_type": "markdown",
   "id": "cf37e03f-4321-4fd8-bee8-0f1f81515762",
   "metadata": {},
   "source": [
    "### *Variable-length Keyword Argument*\n",
    "\n",
    "Selain dengan *positional argument*, Python membolehkan kita untuk menyediakan *keyword argument* berapapun banyaknya dan apapun *keyword*-nya. Kita bisa melakukan ini dengan mengawali parameter dengan `**`. Mari kita modifikasi `func` sebagai berikut. {cite}`python-like-you-mean-it`\n",
    "\n",
    "```python\n",
    "def func(**kwargs):\n",
    "    return kwargs\n",
    "```\n",
    "\n",
    "Dengan cara yang masih sama dengan *variable-length positional argument* sebelumnya, hanya yang berbeda adalah argumen-argumen yang disediakan haruslah berupa *keyword argument*, yaitu dengan menyediakan nama parameter yang dituju. Berbeda dengan sebelumnya, argume-argumen tersebut sekarang memiliki parameter yang melekat, sehingga semuanya akan dibungkus ke dalam sebuah `dict`.\n",
    "\n",
    "```{tip}\n",
    "Penggunaan nama parameter `kwargs`, singkatan dari *keyword arguments*, juga merupakan sebuah konvensi pada Python untuk memberti tahu bahwa *keyword argument* yang disediaka akan dibungkus ke dalam sebuah `dict` bernama `kwargs`.\n",
    "```"
   ]
  },
  {
   "cell_type": "code",
   "execution_count": 41,
   "id": "254daac4-1198-47b5-9c0b-ffd1bfc1fbfe",
   "metadata": {},
   "outputs": [],
   "source": [
    "def func(**kwargs):\n",
    "    return kwargs"
   ]
  },
  {
   "cell_type": "code",
   "execution_count": 42,
   "id": "adf25e1f-9d41-4d14-8555-98e4fa49bb7a",
   "metadata": {},
   "outputs": [
    {
     "data": {
      "text/plain": [
       "{'name': 'bitlabs',\n",
       " 'rank': 1,\n",
       " 'another': 'another',\n",
       " 'whatever': 'whatever',\n",
       " 'params': 'params'}"
      ]
     },
     "execution_count": 42,
     "metadata": {},
     "output_type": "execute_result"
    }
   ],
   "source": [
    "func(name=\"bitlabs\", rank=1, another=\"another\", whatever=\"whatever\", params=\"params\")"
   ]
  },
  {
   "cell_type": "code",
   "execution_count": 43,
   "id": "c0bab72e-e99e-449f-abfc-dcf45fdb57f4",
   "metadata": {},
   "outputs": [
    {
     "data": {
      "text/plain": [
       "{}"
      ]
     },
     "execution_count": 43,
     "metadata": {},
     "output_type": "execute_result"
    }
   ],
   "source": [
    "func()"
   ]
  },
  {
   "cell_type": "markdown",
   "id": "44797181-fe0b-4e3b-a622-73a45486c966",
   "metadata": {},
   "source": [
    "Kita juga mengombinasikan fitur ini dengan jenis argumen yang sudah kita pelajari selama ini. Mari kita modifikasi sekali lagi fungsi `func` untuk mengakomodir eksperimen kita."
   ]
  },
  {
   "cell_type": "code",
   "execution_count": 44,
   "id": "d1521afe-b38e-4298-b495-5343a7495289",
   "metadata": {},
   "outputs": [],
   "source": [
    "def func(x, y, *args, **kwargs):\n",
    "    print(\"x:\", x)\n",
    "    print(\"y:\", y)\n",
    "    print(\"args:\", args)\n",
    "    print(\"kwargs\", kwargs)"
   ]
  },
  {
   "cell_type": "code",
   "execution_count": 45,
   "id": "7b6a9cb1-82aa-4745-b280-2e64cd473bf4",
   "metadata": {},
   "outputs": [
    {
     "name": "stdout",
     "output_type": "stream",
     "text": [
      "x: 1\n",
      "y: 2\n",
      "args: (3, 4, 5)\n",
      "kwargs {'name': 'bitlabs', 'year': 2021}\n"
     ]
    }
   ],
   "source": [
    "func(1, 2, 3, 4, 5, name=\"bitlabs\", year=2021)"
   ]
  },
  {
   "cell_type": "code",
   "execution_count": 46,
   "id": "0a081239-1c08-4d00-9c1b-4bc83f3362e2",
   "metadata": {},
   "outputs": [
    {
     "name": "stdout",
     "output_type": "stream",
     "text": [
      "x: 1\n",
      "y: 2\n",
      "args: ()\n",
      "kwargs {}\n"
     ]
    }
   ],
   "source": [
    "func(1, 2)"
   ]
  },
  {
   "cell_type": "markdown",
   "id": "b093b010-f02f-4de6-ba41-bfb8ea788c50",
   "metadata": {},
   "source": [
    "```{admonition} Eksplorasi Mandiri\n",
    "Python mengutamakan *readability* yang berarti kode yang ditulis haruslah mudah dibaca dan dipahami, baik bagi pengembang, pengguna, ataupun pembaca. Oleh karena itu, coba **baca, eksplor, dan terapkan** bagaimana kita membuat dokumentasi fungsi yang sudah kita buat melalui link berikut: [PEP-257 Docstring Convention](https://www.python.org/dev/peps/pep-0257/)\n",
    "```"
   ]
  },
  {
   "cell_type": "markdown",
   "id": "75e9d8b3-7587-4b09-b0d8-a039c67293c6",
   "metadata": {},
   "source": [
    "## Cakupan Variabel\n",
    "\n",
    "Cakupan variabel merujuk pada bagaimana suatu variabel dapat diakses oleh interpreter {cite}`python-like-you-mean-it`. Variabel-variabel atau parameter dalam sebuah fungsi **hanya bisa diakses dan berlaku di dalam fungsi** tersebut. Andaikan kita mendefinisikan variabel dengan nama yang sama diluar fungsi tersebut, maka fungsi tersebut tetap menggunakan variabel yang didefinisikan di dalamnya. Akan tetapi, jika kita mendefinisikan variabel di luar fungsi, lalu mengaksesnya di dalam fungsi, di mana tidak ada variabel dengan nama yang sama, maka fungsi tersebut akan menggunakan variabel dari luar fungsi.\n",
    "\n",
    "Untuk lebih jelasnya, kita gunakan fungsi `func` terakhir kita yang mengombinasikan *positional argument* dan *variable-length positional/keyword argument*"
   ]
  },
  {
   "cell_type": "code",
   "execution_count": 47,
   "id": "155281dd-98bb-4c48-ada8-223a74f926cd",
   "metadata": {},
   "outputs": [
    {
     "name": "stdout",
     "output_type": "stream",
     "text": [
      "x: 5\n",
      "y: 50\n",
      "args: ()\n",
      "kwargs {}\n",
      "x outside function: 10\n",
      "y outside function: 100\n"
     ]
    }
   ],
   "source": [
    "x = 10\n",
    "y = 100\n",
    "\n",
    "func(5, 50)\n",
    "\n",
    "print(\"x outside function:\", x)\n",
    "print(\"y outside function:\", y)"
   ]
  },
  {
   "cell_type": "markdown",
   "id": "cf976a39-56f0-4d39-9cdf-c414d4ff329a",
   "metadata": {},
   "source": [
    "```{admonition} Good practice\n",
    "It is best to define variables in the smallest scope they will be needed in. While functions can refer to variables defined in a larger scope, this is very rarely a good idea since you may not know what variables you have defined if your program has a lot of variables. {cite}`intro-python-udacity`\n",
    "```"
   ]
  }
 ],
 "metadata": {
  "kernelspec": {
   "display_name": "Python 3",
   "language": "python",
   "name": "python3"
  },
  "language_info": {
   "codemirror_mode": {
    "name": "ipython",
    "version": 3
   },
   "file_extension": ".py",
   "mimetype": "text/x-python",
   "name": "python",
   "nbconvert_exporter": "python",
   "pygments_lexer": "ipython3",
   "version": "3.8.6"
  }
 },
 "nbformat": 4,
 "nbformat_minor": 5
}