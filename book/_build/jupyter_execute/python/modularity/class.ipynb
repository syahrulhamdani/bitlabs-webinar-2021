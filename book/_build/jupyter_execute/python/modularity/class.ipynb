{
 "cells": [
  {
   "cell_type": "markdown",
   "id": "a8b3cd17-3a75-4aa7-b49d-b5d6d0d19901",
   "metadata": {},
   "source": [
    "# Objek dan Kelas dalam Python\n",
    "\n",
    "Semua yang ada di dalam Python adalah objek. Mulai dari angka (`int` sampai `complex`) sampai fungsi, semua adalah objek. Setiap ekspresi yang kita tulis, seperti penugasan pada variabel, dalam Python juga merupakan objek. Bahkan, kita sendiri juga bisa membuat objek secara manual dari awal, salah satunya menggunakan `class`.\n",
    "\n",
    "\n",
    "## Apa Itu Objek?\n",
    "\n",
    "Objek adalah **sebuah abstraksi Python untuk data**. Semua data yang ada dalam sebuah program Python direpresentasikan oleh objek atau berelasi dengan objek. Bahkan, kode yang kita tulis juga merupakan objek. {cite}`pythondatamodel`\n",
    "\n",
    "Kita bisa menganggap objek sebagai **kata benda** dan metode yang melekat di dalamnya sebagai **kata kerja**. Sebuah objek merepresentasikan suatu individu, dan bagaimana objek tersebut berinteraksi dengan objek lain didefinisikan dengan metode yang melekat di dalamnya. {cite}`lubanovic2019intropython2nd`\n",
    "\n",
    "Sebagai contoh, misalkan kita definisikan variabel `num = 7`. Maka, `num` merupakan sebuah *instance* dari objek `7` yang menyimpan nilai `7` yang memiliki metode untuk penjumlahan, perkalian, dan lainnya. Jika kita definisikan variabel lain yang menyimpan objek `8`, ini adalah objek yang berbeda. Dibalik layar, Python menyediakan kelas integer bawaan yang menyimpan nilai `7` dan `8`.\n",
    "\n",
    "Contoh yang lain adalah string `bitlabs` dan `bootcamp` juga merupakan objek dalam Python.  Metode yang berlaku untuk kedua string tersebut seperti `capitalize()` dan `join()`.\n",
    "\n",
    "```{tip}\n",
    "Setiap objek dalam Python memiliki sebuah **identitas**, **tipe data**, dan **nilai**. Untuk lebih jelasnya, bisa dibaca dokumentasi [data model dalam Python](https://docs.python.org/3/reference/datamodel.html)\n",
    "```"
   ]
  },
  {
   "cell_type": "markdown",
   "id": "50a6636d-662c-40f3-af14-987ccbb2c678",
   "metadata": {},
   "source": [
    "## Kelas dalam Python\n",
    "\n",
    "Secara umum, kelas (*class*) adalah sebuah cetak biru sebuah program untuk membuat objek baru beserta tipe data, atribut, dan perilaku baru. Dengan kelas, kita bisa mendesain bagaimana objek baru bisa terbuat dan apa yang bisa dilakukan oleh objek tersebut.\n",
    "\n",
    "Sintaks umum untuk membuat sebuah *class* adalah sebagai berikut. {cite}`pythonclasses`\n",
    "\n",
    "```python\n",
    "class ClassName:\n",
    "    <statement-1>\n",
    "    .\n",
    "    .\n",
    "    <statement-N>\n",
    "```\n",
    "\n",
    "Sebuah kelas harus diawali dengan kata kunci *class*, kemudian diikuti oleh nama kelas, lalu diakhiri dengan `:`. Umumnya, pernyataan dalam sebuah kelas berbentuk definisi fungsi yang berguna untuk menyimpan atribut dan metode. Sebagai contoh, mari kita buat sebuah kelas `Cat` yang sangat sederhana karena tidak memiliki informasi apa-apa.\n",
    "\n",
    "```python\n",
    "class Cat:\n",
    "    pass\n",
    "```\n",
    "\n",
    "```{note}\n",
    "Sekali lagi, pernyataan `pass` digunakan sebagai pengganti kode dan menyatakan bahwa blok kode tersebut tidak melakukan apa-apa.\n",
    "```"
   ]
  },
  {
   "cell_type": "code",
   "execution_count": 1,
   "id": "97df9c5a-6646-4036-a856-3a1b708b9673",
   "metadata": {},
   "outputs": [],
   "source": [
    "class Cat:\n",
    "    pass"
   ]
  },
  {
   "cell_type": "markdown",
   "id": "7f69b136-df5f-4191-a8bd-28839d313c9d",
   "metadata": {},
   "source": [
    "Instansiasi objek dari kelas `Cat` bisa dilakukan dengan memanggil nama kelasnya sama seperti pemanggilan fungsi."
   ]
  },
  {
   "cell_type": "code",
   "execution_count": 2,
   "id": "d3e488e4-f90a-4d63-9597-7671159ed5f4",
   "metadata": {},
   "outputs": [],
   "source": [
    "persian = Cat()\n",
    "scottish_fold = Cat()"
   ]
  },
  {
   "cell_type": "code",
   "execution_count": 3,
   "id": "4b5e9775-c6f2-4dbb-91a4-bb3ff01844e8",
   "metadata": {},
   "outputs": [
    {
     "name": "stdout",
     "output_type": "stream",
     "text": [
      "<__main__.Cat object at 0x10cb3cb50> <class '__main__.Cat'>\n",
      "<__main__.Cat object at 0x10cb3cb20> <class '__main__.Cat'>\n"
     ]
    }
   ],
   "source": [
    "print(persian, type(persian))\n",
    "print(scottish_fold, type(scottish_fold))"
   ]
  },
  {
   "cell_type": "markdown",
   "id": "f5cc5f0d-18cf-4b88-872d-0d4c92afad13",
   "metadata": {},
   "source": [
    "Kita sudah membuat 2 buah objek, `Persian` dan `ScottishFold`. Pada pernyatan `print` di atas, karena kita tidak menentukan bagaimana implementasi fungsi `print` kelas `Cat`, kita akan mendapatkan sesuatu seperti `<__main__.Cat object at 0x108ea3340>`. Kedua objek tersebut tidak bisa melakukan apa-apa dan tidak memiliki informasi apapun karena kita tidak menyediakannya."
   ]
  },
  {
   "cell_type": "markdown",
   "id": "6b0e22db-6777-4105-86da-75d7888745a8",
   "metadata": {},
   "source": [
    "### Atribut\n",
    "\n",
    "Atribut adalah **sebuah variabel yang berada dalam sebuah *class* atau objek**. Selama pendefinisian kelas atau setelah suatu objek dibuat dari kelas tersebut, kita bisa mendefinisikan atribut pada objek tersebut. Sebagai contoh, kita akan tambahkan atribut `kind` pada objek `persian` dan `scottish_fold` yang merepresentasikan jenis kucing."
   ]
  },
  {
   "cell_type": "code",
   "execution_count": 4,
   "id": "b8be2f09-7cf4-485b-a468-2b26bd098139",
   "metadata": {},
   "outputs": [],
   "source": [
    "persian.kind = \"persian\"\n",
    "scottish_fold.kind = \"scottish fold\""
   ]
  },
  {
   "cell_type": "code",
   "execution_count": 5,
   "id": "1c6a84c6-5cf2-42a9-8ab9-1a645228036f",
   "metadata": {},
   "outputs": [
    {
     "name": "stdout",
     "output_type": "stream",
     "text": [
      "kind of cat: persian\n",
      "kinf of cat: scottish fold\n"
     ]
    }
   ],
   "source": [
    "print(\"kind of cat:\", persian.kind)\n",
    "print(\"kinf of cat:\", scottish_fold.kind)"
   ]
  },
  {
   "cell_type": "markdown",
   "id": "2cd69d87-92dc-4437-a67e-f42e7c23c6cf",
   "metadata": {},
   "source": [
    "Cara pendefinisian atribut seperti di atas tentu saja tidak efektif dan tidak akan melekat pada objek yang akan dibuat setelahnya. Hal ini dikarenakan atribut `kind` merupakan atribut objek (*instance attribute*) yang melekat pada objek tertentu saja. Apa yang kita inginkan mungkin adalah atribut objek untuk merepresentasikan informasi yang sama pada setiap objek yang dibuat, meskipun nilai nya bisa berbeda.\n",
    "\n",
    "```{tip}\n",
    "Untuk itulah, sangat disarankan mendefinisikan atribut objek pada saat pendefinisian *class*.\n",
    "```\n",
    "\n",
    "Selain atribut objek, *class* juga bisa diberikan atribut kelas yang akan melekat pada kelas, bagaimanapun dan apapun objek yang kita buat, nilai atribut kelas akan tetap sama untuk satu kelas. Misalkan, karena semua kucing normal memiliki 4 kaki, kita bisa tambahkan informasi ini sebagai atribut kelas `Cat`."
   ]
  },
  {
   "cell_type": "code",
   "execution_count": 6,
   "id": "e25579a7-6987-4dc0-8148-4f2e66c13fd2",
   "metadata": {},
   "outputs": [],
   "source": [
    "class Cat:\n",
    "    num_feet = 4"
   ]
  },
  {
   "cell_type": "code",
   "execution_count": 7,
   "id": "a3d95aa3-d0b2-4838-926d-e0f091acbed2",
   "metadata": {},
   "outputs": [
    {
     "name": "stdout",
     "output_type": "stream",
     "text": [
      "num of feet of persian cat: 4\n",
      "num of feet of scottish fold cat: 4\n"
     ]
    }
   ],
   "source": [
    "persian = Cat()\n",
    "persian.kind = \"persian\"\n",
    "\n",
    "scottish_fold = Cat()\n",
    "scottish_fold.kind = \"scottish fold\"\n",
    "\n",
    "print(\"num of feet of persian cat:\", persian.num_feet)\n",
    "print(\"num of feet of scottish fold cat:\", scottish_fold.num_feet)"
   ]
  },
  {
   "cell_type": "markdown",
   "id": "3ecd0769-2026-47f9-ba8c-304b4328c9ef",
   "metadata": {},
   "source": [
    "Pada kode di atas, nilai `num_feet` akan selalu sama untuk satu kelas meskipun objek yang dibuat berbeda. Untuk pendefinisian atribut objek pada saat definisi kelas, kita bisa menggunakan metode `__init__`. Tapi, sebelum kita membahasnya lebih jauh, kita perlu tahu secara umum apa yang dimaksud dengan metode dalam sebuah kelas.\n",
    "\n",
    "### Metode\n",
    "\n",
    "Pada dasarnya, metode adalah **sebuah fungsi yang melekat pada kelas atau objek**. Sebelumnya pada {doc}`../data-structures/index`, kita mengenal beberapa metode yang hanya dimiliki oleh tipe data tertentu, seperti `title()` yang hanya ada pada tipe data string, `append()` yang hanya ada pada tipe data list, dan lainnya. Karena kita sedang membuat sebuah objek baru, yang tentu saja akan melahirkan tipe data baru, kita juga bisa mendefinisikan metode tertentu **yang membantu tugas dan objektif dari kelas tersebut**.\n",
    "\n",
    "#### Metode Inisialisasi\n",
    "\n",
    "Metode pertama adalah metode inisialisasi yang digunakan untuk menginisialisasi atribut objek setiap kali objek baru dibuat. Metode ini, secara khusus, **harus didefinisikan dengan nama `__init__`** (perhatikan dua garis bawah `__` yang mengapit kata kunci `init`). Umumnya, bentuk sebuah definisi kelas dalam Python seperti di bawah ini.\n",
    "\n",
    "```python\n",
    "class Cat:\n",
    "    def __init__(self):\n",
    "        pass\n",
    "```\n",
    "\n",
    "Ada 2 kata kunci baru pada kode di atas: `__init__` dan `self`. *Keyword* `__init__` merupakan metode spesial bawaan Python untuk menginisialisasi objek baru dari kelas tersebut. Sedangkan, parameter `self` merujuk pada objek yang akan dibuat. Meskipun `self` bukanlah kata kunci bawaan Python dan kita bisa menggantinya dengan parameter lain, tapi ini adalah suatu konvensi dari komunitas Python untuk memudahkan perawatan kode di masa mendatang.\n",
    "\n",
    "```{tip}\n",
    "* Pada bagian ini, kita mungkin akan sering melihat kata kunci sejenis sebagai penamaan metode dalam kelas. Python punya sebutan sendiri untuk memudahkan penyebutan, yaitu *dunder method*.\n",
    "* Parameter pertama dari setiap metode yang didefinisikan dalam kelas harus merujuk pada objek yang akan dibuat, yaitu `self`.\n",
    "* Sangat disarankan untuk mengikuti konvensi dari komunitas seperti menggunakan `self` dan bukan yang lainnya, supaya tidak ada orang (termasuk kita sendiri) yang harus menebak-nebak apa yang dimaksud dengan `self`.\n",
    "```\n",
    "\n",
    "Misalkan, kita ingin membuat sebuah objek yang merepresentasikan seekor kucing lengkap dengan informasi seperti karakter, dan perilaku seekor kucing. Contoh definisi kelasnya seperti di bawah ini.\n",
    "\n",
    "```python\n",
    "class Cat:\n",
    "    \"\"\"Cat class.\"\"\"\n",
    "    def __init__(self, name, kind=\"persian\"):\n",
    "        self.kind = kind\n",
    "        self.name = name\n",
    "\n",
    "    def sound(self):\n",
    "        return \"meow..\"\n",
    "````"
   ]
  },
  {
   "cell_type": "code",
   "execution_count": 8,
   "id": "980676f8-009d-4dcc-92a1-a1a9eeee488f",
   "metadata": {},
   "outputs": [],
   "source": [
    "class Cat:\n",
    "    \"\"\"Cat class.\"\"\"\n",
    "    def __init__(self, name, kind=\"persian\"):\n",
    "        self.kind = kind\n",
    "        self.name = name\n",
    "\n",
    "    def sound(self):\n",
    "        return \"meow..\""
   ]
  },
  {
   "cell_type": "markdown",
   "id": "1fccf938-7b3c-4ac1-8c0c-d9cbf2f4d373",
   "metadata": {},
   "source": [
    "Setiap inisialisasi objek dari kelas `Cat`, karena pada metode inisialisasi terdapat 1 parameter `name` untuk *positional argument* dan 1 parameter `kind` untuk *optional parameter*, kita harus menyediakan argumen-argumen tersebut. Ingat bahwa, kata kunci **`self` hanya digunakan untuk merujuk ke objek yang dibuat** dan **tidak perlu diberi argumen**, sehingga kita bisa hiraukan pada saat inisialisasi. Dengan definisi kelas di atas, objek yang dibuat pasti akan memiliki atribut `kind` dan `name` yang melekat pada objek, **bukan kelas**."
   ]
  },
  {
   "cell_type": "code",
   "execution_count": 9,
   "id": "ed2eab8d-d343-457d-b8dd-cbff9629ab4c",
   "metadata": {},
   "outputs": [
    {
     "name": "stdout",
     "output_type": "stream",
     "text": [
      "molly is a persian cat. She sounds like meow....\n",
      "ben is a bengal cat. He sounds like meow....\n"
     ]
    }
   ],
   "source": [
    "persian = Cat(\"molly\")\n",
    "bengal = Cat(\"ben\", kind=\"bengal\")\n",
    "\n",
    "print(\"{} is a {} cat. She sounds like {}..\".format(persian.name, persian.kind, persian.sound()))\n",
    "print(\"{} is a {} cat. He sounds like {}..\".format(bengal.name, bengal.kind, bengal.sound()))"
   ]
  },
  {
   "cell_type": "markdown",
   "id": "695d8ae3-71d1-4929-a0b1-d80eb9931cf0",
   "metadata": {},
   "source": [
    "Perhatikan bahwa kita bisa mengakses atribut objek dengan menggunakan notasi `object.attr`, di mana `object` adalah objek yang dibuat (`persian`/`bengal`), dipisahkan oleh `.`, lalu nama atribut yang ingin diakses (`kind` dan `name`). Kita bisa menambahkan berapapun banyaknya atribut objek pada suatu kelas, tinggal tambahkan saja sebagai parameter pada metode inisialisasi `__init__`.\n",
    "\n",
    "Metode `sound` pada kelas `Cat` juga memiliki parameter `self` sebagai parameter pertama. Bahkan, hanya satu parameter saja, `self`. Ini sama saja seperti fungsi biasa yang tidak memiliki parameter karena pemanggilan metode sebuah objek menghiraukan `self`.\n",
    "\n",
    "```{note}\n",
    "Setiap kali kita ingin membuat metode objek dalam kelas, parameter pertama haruslah `self` yang merujuk pada objek yang dibuat. Pengaksesan atribut objek menggunakan sintaks `object.attr` setelah inisialisasi objek. Sedangkan, pengaksesan atribut atau metode objek dalam kelas, menggunakan `self.attr` atau `self.method` dengan `attr` dan `method` berturut-turut adalah nama atribut dan metode objeknya.\n",
    "```\n",
    "\n",
    "Sebagai contoh, mari kita perbarui kelas `Cat` dengan metode yang lebih kompleks seperti di bawah ini dan eksplor beberapa metode dan atributnya.\n",
    "\n",
    "```python\n",
    "class Cat:\n",
    "    \"\"\"Define a cat.\"\"\"\n",
    "    def __init__(self, name, food, kind=\"persian\", gender=\"male\"):\n",
    "        \"\"\"Initiate a cat.\n",
    "        \n",
    "        Args:\n",
    "            name: cat's name\n",
    "            food: cat's food\n",
    "            kind: cat breed. By default is persian.\n",
    "            gender: male/female. By default is male.\n",
    "        \"\"\"\n",
    "        self.name = name\n",
    "        self.food = food\n",
    "        self.kind = kind\n",
    "        self.is_male = True if gender == \"male\" else False\n",
    "\n",
    "    def sound(self):\n",
    "        return \"meow..\"\n",
    "\n",
    "    def eat(self, food):\n",
    "        \"\"\"Eat a given food.\"\"\"\n",
    "        if food == self.food:\n",
    "            return \"Yeay! it's {}. Time to eat!\".format(food)\n",
    "        return \"Oh no, it's {}. Only {}, please.\".format(food, self.food)\n",
    "\n",
    "    def greet_person(self, person):\n",
    "        \"\"\"Greet a given person.\"\"\"\n",
    "        return \"Hi, {}! nice to meet you.\".format(person)\n",
    "\n",
    "    def greet_cat(self, another_cat):\n",
    "        \"\"\"Greet another cat.\"\"\"\n",
    "        looks = \"handsome\" if another_cat.is_male else \"beautiful\"\n",
    "        return \"Hi, {}! You look {}\".format(another_cat.name, looks)\n",
    "```"
   ]
  },
  {
   "cell_type": "code",
   "execution_count": 10,
   "id": "afdb34fc-fd70-4149-b288-9c5c795710a5",
   "metadata": {},
   "outputs": [],
   "source": [
    "class Cat:\n",
    "    \"\"\"Define a cat.\"\"\"\n",
    "    def __init__(self, name, food, kind=\"persian\", gender=\"male\"):\n",
    "        \"\"\"Initiate a cat.\n",
    "        \n",
    "        Args:\n",
    "            name: cat's name\n",
    "            food: cat's food\n",
    "            kind: cat breed. By default is persian.\n",
    "            gender: male/female. By default is male.\n",
    "        \"\"\"\n",
    "        self.name = name\n",
    "        self.food = food\n",
    "        self.kind = kind\n",
    "        self.is_male = True if gender == \"male\" else False\n",
    "\n",
    "    def sound(self):\n",
    "        return \"meow..\"\n",
    "\n",
    "    def eat(self, food):\n",
    "        \"\"\"Eat a given food.\"\"\"\n",
    "        if food == self.food:\n",
    "            return \"Yeay! it's {}. Time to eat!\".format(food)\n",
    "        return \"Oh no, it's {}. Only {}, please.\".format(food, self.food)\n",
    "\n",
    "    def greet_person(self, person):\n",
    "        \"\"\"Greet a given person.\"\"\"\n",
    "        return \"Hi, {}! nice to meet you.\".format(person)\n",
    "\n",
    "    def greet_cat(self, another_cat):\n",
    "        \"\"\"Greet another cat.\"\"\"\n",
    "        looks = \"handsome\" if another_cat.is_male else \"beautiful\"\n",
    "        return \"Hi, {}! You look {}\".format(another_cat.name, looks)"
   ]
  },
  {
   "cell_type": "code",
   "execution_count": 11,
   "id": "5b8d82c2-6f03-486e-add2-b994991d6a59",
   "metadata": {},
   "outputs": [],
   "source": [
    "molly = Cat(\"Molly\", food=\"fish\")\n",
    "ben = Cat(\"Ben\", food=\"pizza\", kind=\"bengal\", gender=\"non-binary\")"
   ]
  },
  {
   "cell_type": "code",
   "execution_count": 12,
   "id": "e32ba0e5-6587-4c91-940e-76748c4d1e54",
   "metadata": {},
   "outputs": [
    {
     "name": "stdout",
     "output_type": "stream",
     "text": [
      "name: Molly\n",
      "breed: persian\n",
      "gender: male\n",
      "favorite food: fish\n",
      "Hi, john! nice to meet you.\n",
      "Hi, Ben! You look beautiful\n"
     ]
    }
   ],
   "source": [
    "print(\"name:\", molly.name)\n",
    "print(\"breed:\", molly.kind)\n",
    "print(\"gender:\", \"male\" if molly.is_male else \"female\")\n",
    "print(\"favorite food:\", molly.food)\n",
    "print(molly.greet_person(\"john\"))\n",
    "print(molly.greet_cat(ben))"
   ]
  },
  {
   "cell_type": "code",
   "execution_count": 13,
   "id": "3ba1ed0d-8da4-4368-bda5-b552b9b6ab8d",
   "metadata": {},
   "outputs": [
    {
     "name": "stdout",
     "output_type": "stream",
     "text": [
      "name: Ben\n",
      "breed: bengal\n",
      "gender: female\n",
      "favorite food: pizza\n",
      "Hi, anna! nice to meet you.\n",
      "Hi, Molly! You look handsome\n"
     ]
    }
   ],
   "source": [
    "print(\"name:\", ben.name)\n",
    "print(\"breed:\", ben.kind)\n",
    "print(\"gender:\", \"male\" if ben.is_male else \"female\")\n",
    "print(\"favorite food:\", ben.food)\n",
    "print(ben.greet_person(\"anna\"))\n",
    "print(ben.greet_cat(molly))"
   ]
  },
  {
   "cell_type": "code",
   "execution_count": 14,
   "id": "45766c3d-58b7-461d-b6d7-2a137356a827",
   "metadata": {},
   "outputs": [
    {
     "name": "stdout",
     "output_type": "stream",
     "text": [
      "Oh no, it's pizza. Only fish, please.\n"
     ]
    }
   ],
   "source": [
    "print(molly.eat(\"pizza\"))"
   ]
  },
  {
   "cell_type": "code",
   "execution_count": 15,
   "id": "d64aa51e-f68b-49f0-8afc-023b823ac0ad",
   "metadata": {},
   "outputs": [
    {
     "name": "stdout",
     "output_type": "stream",
     "text": [
      "Oh no, it's tacos. Only pizza, please.\n"
     ]
    }
   ],
   "source": [
    "print(ben.eat(\"tacos\"))"
   ]
  },
  {
   "cell_type": "markdown",
   "id": "ed115160-18c0-41c2-8445-68d6c45dc167",
   "metadata": {},
   "source": [
    "```{div} alert alert-block alert-info\n",
    "**Kuis:** Buatlah sebuah kelas `ProductList` yang merepresentasikan daftar produk suatu toko yang menyimpan daftar nama produk yang masih/akan dijual dan daftar nama produk yang sudah terjual. Sebagai sebuah daftar produk suatu toko, beberapa perilaku yang bisa dilakukan atau dikenai pekerjaan adalah sebagai berikut:\n",
    "* Menambah produk baru ke dalam produk yang akan dijual\n",
    "* Memindahkan produk yang terjual dari daftar produk dijual ke dalam daftar produk terjual.\n",
    "* Menampilkan daftar produk yang sedang dijual\n",
    "* Menampilkan daftar produk yang sudah terjual\n",
    "```"
   ]
  },
  {
   "cell_type": "code",
   "execution_count": 16,
   "id": "e093a7c9-4497-4492-aa6c-1452cd8c9662",
   "metadata": {},
   "outputs": [],
   "source": [
    "# KETIK DI SINI"
   ]
  }
 ],
 "metadata": {
  "kernelspec": {
   "display_name": "Python 3",
   "language": "python",
   "name": "python3"
  },
  "language_info": {
   "codemirror_mode": {
    "name": "ipython",
    "version": 3
   },
   "file_extension": ".py",
   "mimetype": "text/x-python",
   "name": "python",
   "nbconvert_exporter": "python",
   "pygments_lexer": "ipython3",
   "version": "3.8.6"
  }
 },
 "nbformat": 4,
 "nbformat_minor": 5
}