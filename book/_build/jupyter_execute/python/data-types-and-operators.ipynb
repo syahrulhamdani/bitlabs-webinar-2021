{
 "cells": [
  {
   "cell_type": "markdown",
   "id": "16fbea1a-0e1b-481f-921d-a8ae18fcca0c",
   "metadata": {},
   "source": [
    "# Tipe Data dan Operator\n",
    "\n",
    "Setiap pemrograman memiliki tipe data bawaan, begitu juga Python. Dalam notebook ini, kita akan mulai berkenalan dengan tipe data yang ada dalam Python dan juga bagaimana kita bisa menggunakan Python untuk melakukan operasi-operasi yang biasa kita lakukan menggunakan kalkulator."
   ]
  },
  {
   "cell_type": "markdown",
   "id": "d574c278-1e97-4abf-a6c4-fa6f91524e01",
   "metadata": {
    "tags": []
   },
   "source": [
    "## Python Sebagai Kalkulator\n",
    "\n",
    "Salah satu tujuan awal manusia membuat sebuah program komputer adalah untuk membantu melakukan komputasi, mulai dari yang sederhana sampai komputasi yang bagi manusia terlalu rumit untuk dikerjakan. Python tentu saja dengan sangat mudah bisa melakukan komputasi macam itu.\n",
    "\n",
    "Di matematika, kita mengenal beberapa operasi aritmatika seperti penjumlahan, pengurangan, perkalian, dan lainnya. Dari situ, kita mengenal operator `+` untuk penjumlahan, `x` untuk perkalian, dan seterusnya. Di Python, kita bisa melakukan operasi yang sama dengan notasi operator yang hampir sama.\n",
    "\n",
    "Beberapa operator di Python:\n",
    "* `+` penjumlahan\n",
    "* `-` pengurangan\n",
    "* `*` perkalian\n",
    "* `/` pembagian\n",
    "* `**` operasi eksponen/pangkat (bahasa pemrograman yang lain mungkin menggunakan `^`)\n",
    "* `//` pembagian yang hasillnya dibulatkan ke bawah."
   ]
  },
  {
   "cell_type": "markdown",
   "id": "29544ce9-f8fb-4439-81f5-e9ce03a68f43",
   "metadata": {},
   "source": [
    "```{note}\n",
    "`print` adalah fungsi bawaan dari Python yang digunakan untuk menampilkan nilai masukan (*input*) apapun ke luaran sebagai **teks**\n",
    "```\n",
    "\n",
    "Sebagai contoh penggunaan operator di atas, kita bisa melakukan beberapa operasi sederhana seperti berikut."
   ]
  },
  {
   "cell_type": "code",
   "execution_count": 1,
   "id": "3856320e-42c0-409a-bcbd-3a9ea23d10b7",
   "metadata": {},
   "outputs": [
    {
     "name": "stdout",
     "output_type": "stream",
     "text": [
      "55\n",
      "-90\n",
      "2.0\n",
      "0\n",
      "144\n",
      "22\n"
     ]
    }
   ],
   "source": [
    "print(25 + 30)\n",
    "print(10 - 5 * 20)\n",
    "print(4 / 2)\n",
    "print(4 % 2)\n",
    "print(12 ** 2)\n",
    "print(111 // 5)"
   ]
  },
  {
   "cell_type": "markdown",
   "id": "a58efcc3-24c8-46b4-84df-47394998ad2b",
   "metadata": {},
   "source": [
    "## Variabel dan Operator Penugasan\n",
    "\n",
    "Pendefinisian variabel dalam Python sangat sederhana. Kita bisa mendefinisikan variabel dengan menggunakan operator `=`, sebagai contoh, `current_year = 2021`. Di sini, `current_year` adalah **nama variabel**, **=** adalah operator penugasan (*assignment operator*), yang diberi nilai **2021**.\n",
    "\n",
    "Jika kita ingin mendefinisikan lebih dari satu variabel, kita bisa menuliskan seperti di bawah ini.\n",
    "\n",
    "```{code-block} python\n",
    "x = 10\n",
    "y = 7\n",
    "z = 12\n",
    "```\n",
    "\n",
    "atau, cara pendefinisian yang lebih *pythonic*,\n",
    "\n",
    "```{code-block} python\n",
    "x, y, z = 10, 7, 12\n",
    "```\n",
    "\n",
    "Dalam pendefinisian variabel, ada beberapa aturan yang perlu diperhatikan:\n",
    "1. Hanya gunakan **huruf**, **angka**, dan **garis bawah (`_`)**.\n",
    "2. **Jangan** menggunakan **spasi**.\n",
    "3. **Diawali** dengan **huruf** atau **garis bawah**\n",
    "4. Tidak bisa menggunakan **kata kunci yang sudah dipakai** yang merupakan bawaan dari Python. Contoh kata kunci bawaan yang tidak bisa kita pakai seperti pada gambar di bawah ini dan selengkapnya bisa dilihat [di sini](https://pentangle.net/python/handbook/node52.html).\n",
    "5. Cara yang lebih *pythonic* untuk menamai variabel adalah dengan menggunakan semua **hurus kecil** dan setiap suku kata **dipisahkan** oleh **garis bawah (`_`)**.\n",
    "\n",
    "![](../assets/images/python-keywords.png)\n",
    "\n",
    "```{note}\n",
    "Cara kita menamai sebuah variabel disebut dengan **snake case** karena kita cenderung menghubungkan atau memisahkan setiap suku kata dengan garis bawah, layaknya tubuh ular.\n",
    "```"
   ]
  },
  {
   "cell_type": "code",
   "execution_count": 2,
   "id": "05b8e6de-33cc-4e46-83b1-716eed14ddbc",
   "metadata": {},
   "outputs": [
    {
     "ename": "SyntaxError",
     "evalue": "invalid syntax (40327442.py, line 2)",
     "output_type": "error",
     "traceback": [
      "\u001b[0;36m  File \u001b[0;32m\"/var/folders/gn/lh5142px2tb1x8mbqzsf3ckh0000gn/T/ipykernel_52377/40327442.py\"\u001b[0;36m, line \u001b[0;32m2\u001b[0m\n\u001b[0;31m    my population = 12091849\u001b[0m\n\u001b[0m       ^\u001b[0m\n\u001b[0;31mSyntaxError\u001b[0m\u001b[0;31m:\u001b[0m invalid syntax\n"
     ]
    }
   ],
   "source": [
    "# akan muncul error karena ada spasi\n",
    "my population = 12091849"
   ]
  },
  {
   "cell_type": "code",
   "execution_count": 3,
   "id": "1e771d3a-26e5-4553-8396-4a30936ecc1e",
   "metadata": {},
   "outputs": [
    {
     "ename": "SyntaxError",
     "evalue": "invalid decimal literal (1046914688.py, line 2)",
     "output_type": "error",
     "traceback": [
      "\u001b[0;36m  File \u001b[0;32m\"/var/folders/gn/lh5142px2tb1x8mbqzsf3ckh0000gn/T/ipykernel_52377/1046914688.py\"\u001b[0;36m, line \u001b[0;32m2\u001b[0m\n\u001b[0;31m    1_var = 100\u001b[0m\n\u001b[0m     ^\u001b[0m\n\u001b[0;31mSyntaxError\u001b[0m\u001b[0;31m:\u001b[0m invalid decimal literal\n"
     ]
    }
   ],
   "source": [
    "# akan muncul error karena diawali dengan angka\n",
    "1_var = 100"
   ]
  },
  {
   "cell_type": "code",
   "execution_count": 4,
   "id": "2daf9e45-2dbd-4a98-83bc-9c1057e4868a",
   "metadata": {},
   "outputs": [
    {
     "name": "stdout",
     "output_type": "stream",
     "text": [
      "2021 2020\n"
     ]
    }
   ],
   "source": [
    "current_year = 2021\n",
    "last_year = 2020\n",
    "\n",
    "print(current_year, last_year)"
   ]
  },
  {
   "cell_type": "code",
   "execution_count": 5,
   "id": "9036853a-1f1e-4067-b609-b81f2e8c6902",
   "metadata": {},
   "outputs": [
    {
     "name": "stdout",
     "output_type": "stream",
     "text": [
      "10\n",
      "11\n",
      "12\n"
     ]
    }
   ],
   "source": [
    "# ini adalah baris komentar dalam Python (baris yang dimulai dengan `#`)\n",
    "x, y, z = 10, 11, 12\n",
    "\n",
    "print(x)\n",
    "print(y)\n",
    "print(z)"
   ]
  },
  {
   "cell_type": "markdown",
   "id": "a6861c31-5bd0-4178-8d39-ae6b998c26d3",
   "metadata": {},
   "source": [
    "## Operator Penugasan Lain\n",
    "\n",
    "Selain `=`, ada beberapa operator penugasan lain yang mungkin berguna dan menyingkat penulisan seperti `+=`, `-=`, atau juga `*=`.\n",
    "\n",
    "Sebagai contoh, jika kita ingin melakukan perubahan variabel `current_year`, kita bisa menulis\n",
    "\n",
    "```python\n",
    "current_year = current_year + 1\n",
    "```\n",
    "\n",
    "Karena kita hanya akan memperbarui nilai `current_year` dan akan masih menggunakan nama variabel yang sama, kita bisa menggunakan operator `+=`. Sehinga, akan jadi seperti\n",
    "\n",
    "```{code-block} python\n",
    "current_year += 1\n",
    "```\n",
    "\n",
    "Mari kita praktikkan ⬇"
   ]
  },
  {
   "cell_type": "code",
   "execution_count": 6,
   "id": "67c0c09f-dd84-4c8d-a82c-d5e67f5297fd",
   "metadata": {},
   "outputs": [
    {
     "name": "stdout",
     "output_type": "stream",
     "text": [
      "13091840\n",
      "6545920.0\n"
     ]
    }
   ],
   "source": [
    "my_population = 12091840\n",
    "my_population = my_population + 1000000\n",
    "print(my_population)\n",
    "\n",
    "my_population *= 0.5\n",
    "print(my_population)"
   ]
  },
  {
   "cell_type": "markdown",
   "id": "da577a10-2e35-4736-a2d3-c52e37167ab3",
   "metadata": {},
   "source": [
    "Selain operator penugasan di atas, ada juga operator perbandingan yang digunakan untuk membandingkan suatu nilai dengan nilai lainnya. Berikut adalah tabel operator perbandingan.\n",
    "\n",
    "(comparison-operator)=\n",
    "\n",
    "|Symbol Use Case|Bool|Operation|\n",
    "|---------------|----|---------|\n",
    "5 < 3 | False | Less Than\n",
    "5 > 3 | True | Greater Than\n",
    "3 <= 3 | True | Less Than or Equal To\n",
    "3 >= 5 | False | Greater Than or Equal To\n",
    "3 == 5 | False | Equal To\n",
    "3 != 5 | True | Not Equal To\n",
    "\n",
    "Hasil dari operasi perbandingan tersebut adalah sebuah `Boolean`, yaitu salah satu tipe data yang menyatakan suatu objek bernilai **benar** (`True`) atau **salah** (`False`)."
   ]
  },
  {
   "cell_type": "markdown",
   "id": "f1a3fcc9-ada1-4fa0-8029-6af694a162a2",
   "metadata": {},
   "source": [
    "## Tipe Data dalam Python\n",
    "\n",
    "### Numerik\n",
    "\n",
    "Tipe data pertama yang akan kita bahas adalah tipe data numerik. Dalam tipe data numerik, terdapat dua jenis tipe data:\n",
    "* `int`, untuk nilai-nilai bilangan bulat\n",
    "* `float`, untuk nilai-nilai bilangan desimal atau real\n",
    "* `complex`, untuk nilai-nilai bilanga kompleks\n",
    "\n",
    "```{note}\n",
    "Untuk mengetahui tipe data suatu objek dalam Python, kita bisa menggunakan fungsi bawaan Python yaitu `type`, misal `type(10)`.\n",
    "```\n",
    "\n",
    "#### Integers\n",
    "\n",
    "Dengan kita menulis `1`, `-10`, `1000000`, `-999`, dan sejenisnya, kita sudah menginisiasi data integer. Sebagai contoh, kita bisa mencari tahu secara langsung tipe data dari nilai tersebut atau juga dengan mendefinisikannya ke dalam sebuah variabel.\n",
    "\n",
    "```python\n",
    "print(type(1), type(-10))\n",
    "```\n",
    "\n",
    "atau dengan memasukkannya ke dalam variabel seperti berikut.\n",
    "\n",
    "```python\n",
    "value = -100\n",
    "print(type(value))\n",
    "```"
   ]
  },
  {
   "cell_type": "code",
   "execution_count": 7,
   "id": "ca5cc910-8682-4041-aa8e-6f2949cf9216",
   "metadata": {},
   "outputs": [
    {
     "name": "stdout",
     "output_type": "stream",
     "text": [
      "<class 'int'>\n",
      "<class 'int'> <class 'int'>\n"
     ]
    }
   ],
   "source": [
    "print(type(10))\n",
    "print(type(1), type(-10))"
   ]
  },
  {
   "cell_type": "markdown",
   "id": "8937ba50-1051-484f-83c7-7ff1e5cd2b69",
   "metadata": {},
   "source": [
    "#### Float\n",
    "\n",
    "Tipe data `float` adalah semua nilai desimal seperti `0.14`, `-10.2092`, dan bahkan `100.0`. Contoh terakhir bertipe data `float` karena meskipun dalam matematika sama dengan `100`, tapi karena kita membubuhi notasi desimal (`.`), maka Python akan menganggap objek tersebut bertipe data `float`."
   ]
  },
  {
   "cell_type": "code",
   "execution_count": 8,
   "id": "62036b23-3317-459e-814a-b6cf0c0c301c",
   "metadata": {},
   "outputs": [
    {
     "name": "stdout",
     "output_type": "stream",
     "text": [
      "3.15 <class 'float'>\n",
      "0.5101 <class 'float'>\n",
      "10.0 <class 'float'>\n"
     ]
    }
   ],
   "source": [
    "print(3.15, type(3.14))\n",
    "print(.5101, type(.05101))\n",
    "print(10.0, type(10.0))"
   ]
  },
  {
   "cell_type": "markdown",
   "id": "c5c04d5b-274a-4f10-922f-fa7bccf06d1a",
   "metadata": {},
   "source": [
    "Python juga menyediakan fungsi bawaan `float` dan `int` yang salah satu kegunaanny adalah untuk mengubah tipe data yang awalnya integer menjadi float dan sebaliknya.\n",
    "\n",
    "````{tip}\n",
    "fungsi `float` dan `int` juga bisa digunakan untuk mendefinisikan nilai kosong (`0`) jika kita memanggilnya tanpa ada argumen\n",
    "\n",
    "```python\n",
    "simple_int = int()\n",
    "simple_float = float()\n",
    "```\n",
    "\n",
    "````"
   ]
  },
  {
   "cell_type": "code",
   "execution_count": 9,
   "id": "f4f38117-ea58-47b0-926f-4e5f6de5d7d6",
   "metadata": {},
   "outputs": [
    {
     "name": "stdout",
     "output_type": "stream",
     "text": [
      "10 3\n",
      "10.0 3.14\n",
      "3.14\n"
     ]
    }
   ],
   "source": [
    "# konversi tipe data dari float ke int, dan sebaliknya\n",
    "x_int = 10\n",
    "y_float = 3.14\n",
    "\n",
    "x_float = float(x_int)\n",
    "y_int = int(y_float)\n",
    "\n",
    "print(x_int, y_int)\n",
    "print(x_float, y_float)\n",
    "print(float(y_float))"
   ]
  },
  {
   "cell_type": "code",
   "execution_count": 10,
   "id": "bb50e8ba-00aa-4b22-8551-724abfab5dc9",
   "metadata": {},
   "outputs": [
    {
     "name": "stdout",
     "output_type": "stream",
     "text": [
      "0 0.0\n"
     ]
    }
   ],
   "source": [
    "simple_int = int()\n",
    "simple_float = float()\n",
    "\n",
    "print(simple_int, simple_float)"
   ]
  },
  {
   "cell_type": "markdown",
   "id": "edf2969c-8f63-424d-804e-f2d874b135e3",
   "metadata": {},
   "source": [
    "### Teks\n",
    "\n",
    "Suatu teks, dalam Python, diwakili dengan tipe data `str` (baca: *string*). Teks adalah salah satu tipe data barisan dalam Python. Ada beberapa cara untuk mendefiniskan teks, yaitu membungkus teks dengan:\n",
    "* *double quotes* (`\"\"`)\n",
    "* *single quotes* (`''`)\n",
    "* *triple double quotes* (`\"\"\" \"\"\"`)\n",
    "* atau, *triple single quotes* (`''' '''`)\n",
    "\n",
    "Kita bisa menggunakan *double qoutes* atau *single qoute* untuk menulis teks dalam satu baris yang sama dan menggunakan *triple double quotes* atau *triple single quotes* untuk lebih dari satu baris.\n",
    "\n",
    "````{admonition} Eksplorasi\n",
    "Buat 3 variabel yang memuat masing-masing teks di bawah ini sesuai dengan nama variabel yang sudah ditentukan:\n",
    "* nama variabel → `bootcamp`\n",
    "```\n",
    "Selamat datang di Bitlabs!\n",
    "```\n",
    "* nama variabel → `novel`\n",
    "```\n",
    "\"Arif, cepat ke sini!\", ujar ibunya.\n",
    "```\n",
    "* nama variabel → `text`\n",
    "```\n",
    "Mungkin al'ad sudah tidak sanggup.\n",
    "\n",
    "Tapi, apa mungkin?\n",
    "```\n",
    "````"
   ]
  },
  {
   "cell_type": "code",
   "execution_count": 11,
   "id": "948d3a70-c84c-4040-8240-9ee02b89b6b8",
   "metadata": {},
   "outputs": [
    {
     "name": "stdout",
     "output_type": "stream",
     "text": [
      "Ellipsis Ellipsis Ellipsis\n"
     ]
    }
   ],
   "source": [
    "bootcamp = ...\n",
    "novel = ...\n",
    "text = ...\n",
    "\n",
    "print(bootcamp, novel, text)"
   ]
  },
  {
   "cell_type": "markdown",
   "id": "8b376313-9288-4030-be1d-640249d10505",
   "metadata": {},
   "source": [
    "### Boolean\n",
    "\n",
    "Jika kita lihat kembali tabel [operator perbandingan](comparison-operator) di atas, semua nilai yang dikembalikan bertipe `boolean` atau `bool`. Nilai boolean terdiri dari 2 jenis, `True` dan `False`. Dalam bahasa pemrograman lain, penulisannya mungkin akan sedikit berbeda, seperti javascript menggunakan huruf kecil `true`.\n",
    "\n",
    "Nilai `True` dan `False` juga sering dikonversi ke dalam bentuk numerik yang memiliki nilai `1` dan `0` secara berturut-turut. Mari kita coba di cell bawah ini."
   ]
  },
  {
   "cell_type": "code",
   "execution_count": 12,
   "id": "23dda006-34f1-4b90-8c02-095320a82083",
   "metadata": {},
   "outputs": [
    {
     "name": "stdout",
     "output_type": "stream",
     "text": [
      "False\n",
      "True\n",
      "False\n",
      "False\n",
      "True\n",
      "False\n",
      "False\n"
     ]
    }
   ],
   "source": [
    "print(5 < 3)\n",
    "print(3 <= 5)\n",
    "print(5 != 5.)\n",
    "print(\"bit\" == \"Bit\")\n",
    "print(\"abjad\" > \"Abjad\")\n",
    "print(\"abjad\" > \"abjaf\")\n",
    "print(\"1\" >= \"10\")"
   ]
  },
  {
   "cell_type": "code",
   "execution_count": 13,
   "id": "97fe6d54-1bcd-43f5-bc4d-5c7f6417459c",
   "metadata": {},
   "outputs": [
    {
     "name": "stdout",
     "output_type": "stream",
     "text": [
      "False <class 'bool'>\n"
     ]
    }
   ],
   "source": [
    "is_more = x > z\n",
    "print(is_more, type(is_more))"
   ]
  },
  {
   "cell_type": "markdown",
   "id": "199e364e-543c-4b84-b1e1-d0d865baec06",
   "metadata": {},
   "source": [
    "Kita juga bisa menggabungkan beberapa perbandingan menggunakan logika penggabungan `and`, `or`, atau `not`.  Selengkapnya dapat dilihat pada tabel di bawah ini.\n",
    "\n",
    "|Logical Use Case|Bool|Operation|\n",
    "|---------------|----|---------|\n",
    "15 < 13 `and` 5 == 5 | False | `and` - Dievaluasi `True` jika semua pernyataan benar\n",
    "15 > 13 `or` 5 != 5. | True | `or` - Dievaluasi `True` jika salah satu pernyataan benar\n",
    "`not` 15 < 13 | True | `not` - Kebalikan dari nilai boolean\n",
    "\n",
    "```{admonition} Eksplorasi\n",
    "Lengkapilah tabel kebenaran di bawah ini jika kita definisikan `p = q = 1`.\n",
    "\n",
    "| p | q | p `and` q | p `or` q |\n",
    "| :-: | :-: | :---------: | :---------: |\n",
    "| p | q | `True` | `True` |\n",
    "| p | `not` q | ... | ... |\n",
    "| `not` p | q | ... | ... |\n",
    "| `not` p | `not` q | `False` | `False` |\n",
    "```"
   ]
  },
  {
   "cell_type": "code",
   "execution_count": 14,
   "id": "8189a846-452f-470c-a2df-06bf21b3af84",
   "metadata": {},
   "outputs": [],
   "source": [
    "p = q = 1\n",
    "\n",
    "p_and_notq = ...\n",
    "notp_and_q = ...\n",
    "notp_and_notq = ...\n",
    "\n",
    "p_or_notq = ...\n",
    "notp_or_q = ...\n",
    "notp_or_notq = ..."
   ]
  },
  {
   "cell_type": "markdown",
   "id": "f912c764-58eb-4bdc-afac-49ad54e355f0",
   "metadata": {},
   "source": [
    "Jika kita memasukkan nilai boolean ke dalam fungsi bawaan `int` atau `float`, maka nilai `True` akan berubah menjadi `1` dan `1.0` untuk integer dan float secara berturut-turut, dan sebaliknya untuk `False`.\n",
    "\n",
    "Python juga menyediakan fungsi bawaan `bool` yang bisa mengonversi tipe data lain ke dalam bentuk boolean.\n",
    "\n",
    "```python\n",
    "print(bool(0))\n",
    "print(bool(1))\n",
    "print(bool(\"False\"))\n",
    "print(bool(\"\"))\n",
    "print(bool(0.))\n",
    "print(bool)\n",
    "```"
   ]
  }
 ],
 "metadata": {
  "jupytext": {
   "text_representation": {
    "format_name": "myst"
   }
  },
  "kernelspec": {
   "display_name": "Python 3 (ipykernel)",
   "language": "python",
   "name": "python3"
  },
  "language_info": {
   "codemirror_mode": {
    "name": "ipython",
    "version": 3
   },
   "file_extension": ".py",
   "mimetype": "text/x-python",
   "name": "python",
   "nbconvert_exporter": "python",
   "pygments_lexer": "ipython3",
   "version": "3.8.11"
  }
 },
 "nbformat": 4,
 "nbformat_minor": 5
}