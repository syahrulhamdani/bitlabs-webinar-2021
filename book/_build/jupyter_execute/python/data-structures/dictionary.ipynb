{
 "cells": [
  {
   "cell_type": "markdown",
   "id": "066eed80-7063-4243-9922-756249be92ca",
   "metadata": {},
   "source": [
    "# Dictionary\n",
    "\n",
    "Sekarang kita akan membahas struktur data terakhir yang perlu kita pahami dalam Python, yaitu *dictionary*. *Dictionary* adalah objek pemetaan (*mapping*) yang memetakan **objek-objek yang memiliki nilai *hash* (*hashable*)** ke **sebarang objek**. Semua objek pemetaan memiliki karakteristik *mutable*, yaitu bisa diubah. Artinya, kita bisa mengubah elemen-elemen di dalam dictionary. {cite}`pythondocs`\n",
    "\n",
    "Karena dictionary memetakan suatu nilai ke nilai yang lain, maka suatu elemen dalam dictionary terdiri dari 2 jenis: **key** dan **value**.\n",
    "* **key**, adalah tipe data yang *hashable*, yang berarti antara angka, string, atau tuple, yang berfungsi sebagai indeks.\n",
    "* **value**, adalah objek sebarang tipe data yang melekat pada satu *key* tertentu.\n",
    "\n",
    "## List vs Dictionary\n",
    "\n",
    "Untuk list, kita bisa mengakses suatu elemen dengan menggunakan indeks yang dimulai dari `0` sampai dengan `n-1` atau negatif indeks yang dimulai dari `-n` sampai `-1`. Dictionary juga mengizinkan kita untuk mengakses elemen, umumnya *value*, dengan menggunakan suatu indeks. Hanya saja, pada dictionary, kita menggunakan *key* untuk mengakses suatu *value*.\n",
    "\n",
    "Sebagai contoh, misalkan kita ingin mencatat data tinggi badan beberapa orang sebagai berikut: `166`, `169`, `172`. Kita bisa saja membuat sebuah list yang berisi 3 data tersebut yang kemudian bisa kita akses dengan indeks. Akan tetapi, kita juga ingin **memasangkan** data tinggi badan tersebut dengan nama orang yang bersangkutan. Dengan menggunakan dictionary, kita bisa masangkan nama orang dan tinggi badan orang tersebut dengan pemetaan berikut:\n",
    "* `john` → `166`\n",
    "* `stuart` → `169`\n",
    "* `kevin` -> `171`\n",
    "\n",
    "Kemudian, jika kita ingin mengakses data pertama, alih-alih kita menuliskan `height[0]` untuk list, kita bisa dengan jelas memasukkan nama orang yang sudah berfungsi sebagai *key* dan menggunakannya sebagai indeks semacam `height[\"john\"]`.\n",
    "\n",
    "## Mendefinisikan Dictionary dengan `{}`\n",
    "\n",
    "Perhatikan bahwa sintaks yang digunakan untuk mendefinisikan dictionary sama dengan yang digunakan untuk [set](./set.ipynb). Hanya saja, penulisan elemennya yang berbeda.\n",
    "\n",
    "Karena elemen suatu dictionary terdiri dari pasangan *key* dan *value*, kita harus menuliskan keduanya dalam satu elemen. Sintaks yang akan digunakan berbentuk: `key: value` dan setiap elemen atau pasangan `key: value` dipisahkan dengan `,`.\n",
    "\n",
    "Untuk kasus yang sama pada data tinggi badan di atas, maka kita bisa mendefinisikannya sebagai dictionary seperti di bawah ini.\n",
    "\n",
    "```python\n",
    "height = {\"john\": 166, \"stuart\": 169, \"kevin\": 171}\n",
    "```\n",
    "\n",
    "Mari kita coba implementasi kode di atas pada cell di bawah ini."
   ]
  },
  {
   "cell_type": "code",
   "execution_count": 1,
   "id": "4751d86d-5de8-4b94-8043-2ad1e61ac111",
   "metadata": {},
   "outputs": [
    {
     "name": "stdout",
     "output_type": "stream",
     "text": [
      "{'john': 166, 'stuart': 169, 'kevin': 171} <class 'dict'>\n"
     ]
    }
   ],
   "source": [
    "height = {\"john\": 166, \"stuart\": 169, \"kevin\": 171}\n",
    "\n",
    "print(height, type(height))"
   ]
  },
  {
   "cell_type": "markdown",
   "id": "2b2b6659-1c9d-4bde-a88c-72713c0dcde1",
   "metadata": {},
   "source": [
    "Jika kita ingin cari tahu berapa tinggi badan Stuart, dengan notasi *indexing* yang sama dengan list (`var[indeks]`), kita bisa langsung tulis saja\n",
    "\n",
    "```python\n",
    "print(height[\"stuart\"])\n",
    "```"
   ]
  },
  {
   "cell_type": "code",
   "execution_count": 2,
   "id": "4aaea48d-774b-4883-98c4-36a426ace1e6",
   "metadata": {},
   "outputs": [
    {
     "name": "stdout",
     "output_type": "stream",
     "text": [
      "166\n",
      "169\n",
      "171\n"
     ]
    }
   ],
   "source": [
    "print(height[\"john\"])\n",
    "print(height[\"stuart\"])\n",
    "print(height[\"kevin\"])"
   ]
  },
  {
   "cell_type": "markdown",
   "id": "0b8a0a08-e42f-4b56-9b72-3de0e94db48b",
   "metadata": {},
   "source": [
    "Bagaimana jika kita mendefinisikan dictionary dengan duplikat *key*?"
   ]
  },
  {
   "cell_type": "code",
   "execution_count": 3,
   "id": "2387d3ae-a0a1-42e6-a3cc-f8a792c0e7e8",
   "metadata": {},
   "outputs": [
    {
     "name": "stdout",
     "output_type": "stream",
     "text": [
      "{'john': 190, 'stuart': 169, 'kevin': 171, 'Kevin': 170}\n"
     ]
    }
   ],
   "source": [
    "height = {\"john\": 166, \"stuart\": 169, \"kevin\": 171, \"john\": 190, \"Kevin\": 170}\n",
    "\n",
    "print(height)"
   ]
  },
  {
   "cell_type": "markdown",
   "id": "2ad4c61d-6889-45ed-a76c-033f5b287d77",
   "metadata": {},
   "source": [
    "```{note}\n",
    "Saat kita mendefinisikan dictionary dengan memasukkan *key* yang sama lebih dari satu kali, maka pasangan terakhir yang akan disimpan.\n",
    "```\n",
    "\n",
    "Karena dictionary merupakan *mutable* object, kita bisa mengubah elemen pada dictionary. Untuk mengubah *value* pada *key* tertentu, kita bisa langsung menugaskan *value* yang baru pada *key* tersebut seperti di bawah ini.\n",
    "\n",
    "```python\n",
    "height[\"Kevin\"] = 167\n",
    "```"
   ]
  },
  {
   "cell_type": "code",
   "execution_count": 4,
   "id": "f6c213f5-6246-4cba-a2c4-a1d766499b1c",
   "metadata": {},
   "outputs": [
    {
     "name": "stdout",
     "output_type": "stream",
     "text": [
      "{'john': 190, 'stuart': 169, 'kevin': 180, 'Kevin': 167}\n"
     ]
    }
   ],
   "source": [
    "# ubah value kevin dan Kevin\n",
    "height[\"kevin\"] = 180\n",
    "height[\"Kevin\"] = 167\n",
    "\n",
    "print(height)"
   ]
  },
  {
   "cell_type": "markdown",
   "id": "289f10f0-e17a-410b-aac6-d13a3acaf712",
   "metadata": {},
   "source": [
    "## Mendefinisikan Dictionary dengan `dict()`\n",
    "\n",
    "Python menyediakan fungsi bawaan `dict()` untuk mendefinisikan dictionary baru dengan cara:\n",
    "* `dict()` untuk dictionary kosong\n",
    "* `dict(john=166, stuart=169, kevin=171)` untuk mendefinisikan dictionary yang sama pada kasus sebelumnya\n",
    "* `dict()` untuk menginisiasi dictionary kosong, kemudian mengisi pasangan *key-value* satu per satu, baris per baris\n",
    "\n",
    "```python\n",
    "# dictionary kosong\n",
    "empty_dict = dict()\n",
    "\n",
    "# cara 1\n",
    "functional_dict = dict(john=166, stuart=169, kevin=171)\n",
    "\n",
    "# cara 2\n",
    "sequential_dict = dict()\n",
    "sequential_dict[\"john\"] = 166\n",
    "sequential_dict[\"stuart\"] = 169\n",
    "sequential_dict[\"kevin\"] = 171\n",
    "```\n",
    "\n",
    "```{admonition} Eksplorasi\n",
    "Buatlah dictionary dengan nama `population` yang berisikan data berikut ini.\n",
    "\n",
    "| keys | value |\n",
    "| ---- | ----- |\n",
    "| Jakarta | 20.8 |\n",
    "| Surabaya | 18.2 |\n",
    "| Bandung | 15.1 |\n",
    "| Semarang | 12.3 |\n",
    "```"
   ]
  },
  {
   "cell_type": "code",
   "execution_count": 5,
   "id": "ed037a4c-7a6a-4afa-871f-abac15f282f4",
   "metadata": {},
   "outputs": [],
   "source": [
    "# KETIK DI SINI"
   ]
  },
  {
   "cell_type": "markdown",
   "id": "4fab962a-e3e9-4430-aa5f-5987bb741860",
   "metadata": {},
   "source": [
    "## Fungsi dan Metode Bawaan Dictionary\n",
    "\n",
    "```{note}\n",
    "Kita hanya mencoba fungsi dan metode bawaan dictionary yang paling sering dipakai karena jumlahnya yang banyak. Untuk detail fungsi dan metode apa saja serta apa kegunaannya, silakan dilihat di halaman [dokumentasi](https://docs.python.org/3.8/library/stdtypes.html#mapping-types-dict).\n",
    "```\n",
    "\n",
    "Beberapa fungsi dan metode bawaan yang sering dipakai disajikan pada tabel di bawah ini.\n",
    "\n",
    "(function-method-dict)=\n",
    "| name | function/method | usage | example |\n",
    "| --- | --- | --- | --- |\n",
    "| keys | *method* | return a sequence of dictionary's keys | `height.keys()` |\n",
    "| values | *method* | return a sequence of dictionary's values | `height.values()` |\n",
    "| items | *method* | return a sequence of tuple of key and value pair for first and second index, respectively | `height.items()` |\n",
    "| get | *method* | return a value of the *key* passed into `get` if exist. If not, choose to provide a default value or not | `height.get(\"kevin\")` |\n",
    "| len | *function* | return the length or number of element in dictionary | `len(height)` |\n",
    "| update | *method* | update the corresponding dictionary with new key-value pair, if the key is already exist, update the value instead | `height.update({\"kevin\": 190\"})` |"
   ]
  },
  {
   "cell_type": "code",
   "execution_count": 6,
   "id": "04d77b04-bb23-49a9-8bfc-9b629550490c",
   "metadata": {},
   "outputs": [
    {
     "name": "stdout",
     "output_type": "stream",
     "text": [
      "dict_keys(['john', 'stuart', 'kevin', 'Kevin'])\n"
     ]
    }
   ],
   "source": [
    "print(height.keys())"
   ]
  },
  {
   "cell_type": "code",
   "execution_count": 7,
   "id": "bb98b2dc-c6f9-44d9-9467-6931db68b0fc",
   "metadata": {},
   "outputs": [
    {
     "name": "stdout",
     "output_type": "stream",
     "text": [
      "dict_values([190, 169, 180, 167])\n"
     ]
    }
   ],
   "source": [
    "print(height.values())"
   ]
  },
  {
   "cell_type": "code",
   "execution_count": 8,
   "id": "9078fdfd-4ed0-4f3b-b47f-785ee288eac9",
   "metadata": {},
   "outputs": [
    {
     "name": "stdout",
     "output_type": "stream",
     "text": [
      "dict_items([('john', 190), ('stuart', 169), ('kevin', 180), ('Kevin', 167)])\n"
     ]
    }
   ],
   "source": [
    "print(height.items())"
   ]
  },
  {
   "cell_type": "code",
   "execution_count": 9,
   "id": "468b9183-8356-47d6-a8c7-57202bc3032c",
   "metadata": {},
   "outputs": [
    {
     "name": "stdout",
     "output_type": "stream",
     "text": [
      "167\n",
      "None\n",
      "Oops. Key not found!\n"
     ]
    }
   ],
   "source": [
    "print(height.get(\"Kevin\"))\n",
    "print(height.get(\"michael\"))\n",
    "print(height.get(\"michael\", \"Oops. Key not found!\"))"
   ]
  },
  {
   "cell_type": "code",
   "execution_count": 10,
   "id": "2a403633-35e2-41b9-8024-62ff5196f4a0",
   "metadata": {},
   "outputs": [
    {
     "name": "stdout",
     "output_type": "stream",
     "text": [
      "{'john': 190, 'stuart': 169, 'kevin': 190, 'Kevin': 167, 'michael': 177}\n"
     ]
    }
   ],
   "source": [
    "height.update({\"michael\": 177, \"kevin\": 190})\n",
    "print(height)"
   ]
  }
 ],
 "metadata": {
  "kernelspec": {
   "display_name": "Python 3 (ipykernel)",
   "language": "python",
   "name": "python3"
  },
  "language_info": {
   "codemirror_mode": {
    "name": "ipython",
    "version": 3
   },
   "file_extension": ".py",
   "mimetype": "text/x-python",
   "name": "python",
   "nbconvert_exporter": "python",
   "pygments_lexer": "ipython3",
   "version": "3.8.11"
  }
 },
 "nbformat": 4,
 "nbformat_minor": 5
}