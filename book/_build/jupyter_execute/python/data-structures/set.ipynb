{
 "cells": [
  {
   "cell_type": "markdown",
   "id": "ab76cadc-721a-4975-8e6f-5f03730f1542",
   "metadata": {
    "tags": []
   },
   "source": [
    "# Set\n",
    "\n",
    "Set adalah sebuah struktur data dalam Python yang **tidak terurut** (*unordered*), *immutable*, dan setiap elemennya unik. Oleh karena setiap elemen dalam `set` adalah unik, maka tidak ada duplikat di dalamny, meskipun kita \"dengan sengaja\" mendefinisikan `set` dengan nilai duplikat.\n",
    "\n",
    "## Mendefinisikan Set dengan `{}`\n",
    "\n",
    "Cara pertama untuk mendefinisikan `set` adalah dengan mendaftarkan objek-objek yang memiliki nilai *hash* di dalam `{}` dan setiap elemennya dipisahkan dengan `,`.\n",
    "\n",
    "```{note}\n",
    "Nilai hash adalah nilai atau kode hasil dari enkripsi (fungsi) yang nilainya tidak akan berubah selamanya. Nilai hash, pada bidang ilmu komputer, digunakan untuk mengakses suatu data, yang memakan banyak memori, dengan efisien.\n",
    "\n",
    "Semua objek *immutable* dalam Python, yaitu angka, string, dan tuple, memiliki nilai *hash* yang berarti *hashable*. Sehingga, objek-objek tersebut bisa kita masukkan dalam `set` dan **objek selain itu tidak bisa** {cite}`pythondocs`.\n",
    "```\n",
    "\n",
    "Perhatikan contoh kode dan luarannya di bawah ini."
   ]
  },
  {
   "cell_type": "code",
   "execution_count": 1,
   "id": "1797fcbc-4b5e-4590-98c5-f0072be90398",
   "metadata": {},
   "outputs": [
    {
     "name": "stdout",
     "output_type": "stream",
     "text": [
      "{1, 2, 3, 4, 5} <class 'set'>\n",
      "{'Kevin', 'Michael', 'Bob', 'Stuart'} <class 'set'>\n"
     ]
    }
   ],
   "source": [
    "set_is_unique = {1, 2, 3, 4, 4, 5, 1}  # akan menghasilkan {1, 2, 3, 4, 5}\n",
    "string_in_set = {\"Bob\", \"Michael\", \"Kevin\", \"Stuart\", \"Bob\", \"Stuart\"}\n",
    "\n",
    "print(set_is_unique, type(set_is_unique))\n",
    "print(string_in_set, type(string_in_set))"
   ]
  },
  {
   "cell_type": "markdown",
   "id": "e3b25f48-d5b7-422e-8c52-89b089fc085b",
   "metadata": {},
   "source": [
    "Tipe data `set` merepresentasikan arti sebenarnya, yaitu **himpunan**. Di matematika, kita mengenal ciri-ciri himpunan dan juga operasi yang melibatkan himpunan, seperti irisan, gabungan, dan lainnya.\n",
    "\n",
    "<!-- ![set illustration](../../assets/images/set-illustration.png) -->\n",
    "````{figure} ../../assets/images/set-illustration.png\n",
    "---\n",
    "name: set-illustration\n",
    "---\n",
    "Ilustrasi dari {cite}`lubanovic2019intropython2nd`\n",
    "````\n",
    "\n",
    "Untuk mendukung operasi tersebut, Python sudah menyediakan beberapa fungsi dan metode bawaan. Silakan baca dokumentasi Python [ini](https://docs.python.org/3.8/library/stdtypes.html#set-types-set-frozenset). Mari kita coba implementasikan beberapa pada kuis berikut.\n",
    "\n",
    "````{admonition} Eksplorasi\n",
    "Menggunakan fungsi dan metode bawaan untuk `set`, jawab/implementasikan soal di bawah ini:\n",
    "1. Definisikan 2 set menurut gambar di atas, dengan nama variabel `female_names` (kiri) dan `male_names` (kanan).\n",
    "2. Tampilkan 2 variabel tersebut dan jumlah masing-masing elemen.\n",
    "3. Buat variabel `all_names` yang berisikan semua nama gabungan dari `female_names` dan `male_names`.\n",
    "4. Buat variabel `female_male_names` yang memuat nama yang bisa termasuk dalam dua himpunan tersebut.\n",
    "5. Buat variabel `only_females` dan `only_males` yang memuat nama-nama dalam `female_names` yang tidak ada dalam `male_names` dan sebaliknya, secara beruturut-turut.\n",
    "````"
   ]
  },
  {
   "cell_type": "code",
   "execution_count": 2,
   "id": "4bcbca9c-0ca3-4c52-8e9a-aecc1286e11a",
   "metadata": {},
   "outputs": [],
   "source": [
    "# KETIK DI SINI"
   ]
  },
  {
   "cell_type": "markdown",
   "id": "b6cb2053-80e8-4eea-a345-b7c7b3faed2e",
   "metadata": {
    "jp-MarkdownHeadingCollapsed": true,
    "tags": []
   },
   "source": [
    "## Mendefinisikan Set dengan Fungsi `set()`\n",
    "\n",
    "Sama dengan `tuple` dan `list`, untuk mendefinisikan set, Python menyediakan fungsi bawaan `set()` yang bisa digunakan untuk mendefinisikan set kosong (*empty set*) dan mengonversi objek dengan tipe data lain menjadi set.\n",
    "\n",
    "Mari kita coba implementasi kode di bawah ini.\n",
    "\n",
    "```python\n",
    "empty_set = set()\n",
    "purchased_history = [\"batman\", \"robin\", \"iron man\", \"robin\", \"captain america\",\n",
    "                     \"iron man\", \"iron man\", \"superman\", \"batman\", \"superman\"]\n",
    "unique_purchased = set(purchased_history)\n",
    "```\n",
    "\n",
    "```{note}\n",
    "Kita hanya bisa mendefinisikan set kosong dengan fungsi `set()`. Jika kita mendefinisikan set kosong seperti list dan tuple sebelumnya, yaitu dengan `{}`, maka kita akan mendapat sebuah `dictionary` yang akan kita bahas setelah bagian ini.\n",
    "```"
   ]
  }
 ],
 "metadata": {
  "kernelspec": {
   "display_name": "Python 3 (ipykernel)",
   "language": "python",
   "name": "python3"
  },
  "language_info": {
   "codemirror_mode": {
    "name": "ipython",
    "version": 3
   },
   "file_extension": ".py",
   "mimetype": "text/x-python",
   "name": "python",
   "nbconvert_exporter": "python",
   "pygments_lexer": "ipython3",
   "version": "3.8.11"
  }
 },
 "nbformat": 4,
 "nbformat_minor": 5
}