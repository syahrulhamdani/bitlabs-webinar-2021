{
 "cells": [
  {
   "cell_type": "markdown",
   "id": "0e753112-1042-4063-8259-8927f7d9c002",
   "metadata": {},
   "source": [
    "# Tuple\n",
    "\n",
    "Tuple adalah salah satu tipe data barisan dalam Python yang memiliki sifat *immutable* atau tidak bisa diubah. Ini berarti elemen-elemen yang ada di dalam sebuah tuple, tidak bisa kita ubah, baik ditambah, dikurangi, diganti, atau diubah urutannya.\n",
    "\n",
    "Kita bisa mendefinisikan sebuah tuple dengan beberapa cara {cite}`pythondocs`:\n",
    "* Menggunakan tanda kurung untuk tuple kosong: `()`\n",
    "* Menggunakan (membubuhi) tanda koma (`,`) untuk tuple dengan 1 elemen, misal: `a,` atau `(a,)`\n",
    "* Mendaftar elemen-elemen yang dipisahkan dengan tanda koma, misal: `a, b, c` atau `(a, b, c, d)`\n",
    "* Menggunakan fungsi bawaan `tuple()`\n",
    "\n",
    "Mari kita coba satu persatu.\\\n",
    "\n",
    "## Mendefinisikan Tuple dengan `,` dan `()`\n",
    "\n",
    "Kita bisa membuat tuple kosong hanya dengan membuat tanda kurung `()` tanpa ada elemen di dalamnya.\n",
    "\n",
    "```python\n",
    "empty_tuple = ()\n",
    "```\n",
    "\n",
    "Berbeda dengan list, kita bisa membungkus beberapa elemen dengan tanda kurung untuk mendefinisikan tuple dengan `,` yang memisahkan setiap elemennya.\n",
    "\n",
    "```python\n",
    "ceo = (\"mark\", \"elon\")\n",
    "```\n",
    "\n",
    "Penggunaan tanda kurung sebenarnya opsional jika kita membuat tuple yang memiliki satu atau beberapa elemen di dalamnya. Caranya, kita hanya perlu menambahkan `,` setelah setiap elemen atau sebagai akhiran hanya ada satu elemen. Perhatikan contoh di bawah.\n",
    "\n",
    "```python\n",
    "# ini adalah tuple yang sama dengan `ceo`\n",
    "same_ceo = \"mark\", \"elon\"\n",
    "\n",
    "# ini juga tuple dengan satu elemen\n",
    "bootcamp = \"bitlabs\",\n",
    "```\n",
    "\n",
    "```{tip}\n",
    "ketelitian diperlukan di sini ketika membuat tuple dengan satu elemen tanpa ada tanda kurung `()`. Jika kita lupa menambahkan `,` di akhir, maka `bootcamp` akan menjadi sebuah string\n",
    "```"
   ]
  },
  {
   "cell_type": "code",
   "execution_count": 1,
   "id": "092487e2-15b6-4ab0-afe8-6a7ffeaa8d00",
   "metadata": {},
   "outputs": [
    {
     "name": "stdout",
     "output_type": "stream",
     "text": [
      "() <class 'tuple'>\n",
      "('mark', 'elon') <class 'tuple'>\n",
      "('mark', 'elon') <class 'tuple'>\n",
      "('',) <class 'tuple'>\n",
      "bitlabs <class 'str'>\n",
      "False\n"
     ]
    }
   ],
   "source": [
    "empty_tuple = ()\n",
    "print(empty_tuple, type(empty_tuple))\n",
    "\n",
    "ceo = (\"mark\", \"elon\")\n",
    "print(ceo, type(ceo))\n",
    "\n",
    "same_ceo = \"mark\", \"elon\"\n",
    "print(same_ceo, type(same_ceo))\n",
    "\n",
    "bootcamp = \"\",\n",
    "print(bootcamp, type(bootcamp))\n",
    "\n",
    "str_bootcamp = \"bitlabs\"\n",
    "print(str_bootcamp, type(str_bootcamp))\n",
    "print(str_bootcamp == bootcamp)"
   ]
  },
  {
   "cell_type": "markdown",
   "id": "a5344079-4bee-4b46-8b02-26d3b53e7e01",
   "metadata": {
    "tags": []
   },
   "source": [
    "Tuple yang termasuk dalam kategori *sequence* dalam Python, juga memiliki sistem indeks dan irisan yang sama dengan list. Tidak ada yang berbeda dalam hal ini.\n",
    "\n",
    "```python\n",
    "# akses ceo pertama\n",
    "print(ceo[0])\n",
    "\n",
    "# akses ceo terakhir dengan indeks negatif\n",
    "print(ceo[-1])\n",
    "```\n",
    "\n",
    "Karena sifat `()` yang opsional, kita bisa mendefinisikan tuple hanya dengan `,`, seperti pada variabel `same_ceo`. Dari variabel `same_ceo`, karena sifat *iterable* pada Python, kita bisa membongkar (*unpack*) setiap elemen di dalamnya ke dalam beberapa variabel sesuai dengan jumlah elemennya.\n",
    "\n",
    "Misalkan, kita ingin membongkar elemen `same_ceo` ke dalam variabel `first_ceo` dan `second_ceo`. Kita bisa melakukan *indexing* dan memasukkan nilainya ke dalam variabel tersebut satu persatu seperti di bawah ini.\n",
    "\n",
    "```python\n",
    "first_ceo = ceo[0]\n",
    "second_ceo = ceo[1]\n",
    "```\n",
    "\n",
    "Atau, cara lain yang lebih *pythonic* adalah dengan melakukan *tuple unpacking*, yaitu membongkar secara langsung elemen-elemen tuple ke dalam variabel-variabel tersebut yang **dipisahkan dengan `,`**. Perhatikan kode singkat berikut.\n",
    "\n",
    "```python\n",
    "first_ceo, second_ceo = ceo\n",
    "```\n",
    "\n",
    "```{div} alert alert-block alert-info\n",
    "**Kuis:** Dengan *unpacking*, definisikan variabel `longitude` dan `latitude` dari variabel `location` pada cell bawah ini\n",
    "```"
   ]
  },
  {
   "cell_type": "code",
   "execution_count": 2,
   "id": "92fb8639-aa41-4649-9add-df9b432260e3",
   "metadata": {},
   "outputs": [
    {
     "name": "stdout",
     "output_type": "stream",
     "text": [
      "(-6.91589099562453, 107.62285836361218)\n"
     ]
    }
   ],
   "source": [
    "location = -6.91589099562453, 107.62285836361218\n",
    "print(location)\n",
    "\n",
    "# KETIK DI SINI\n",
    "\n"
   ]
  },
  {
   "cell_type": "markdown",
   "id": "d0eb6371-4197-4f3b-a2af-444d8e7be7a2",
   "metadata": {},
   "source": [
    "## Mendefinisikan Tuple dengan `tuple()`\n",
    "\n",
    "Sama dengan tipe data lainnya, Python menyediakan fungsi bawaan `tuple()` yang kegunaannya mirip dengan fungsi `list()`, yaitu untuk mendefinisikan tuple kosong atau mengonversi objek lain (misal, string) menjadi tuple.\n",
    "\n",
    "Sebagai contoh, kita lakukan hal yang sama seperti pada [list](./list.ipynb) sebelumnya pada string `\"bitlabs\"`. Selain itu, masih ingat dengan variabel `first_quarter_months`? Kita bisa mengubah list tersebut menjadi tuple dengan fungsi `tuple`."
   ]
  },
  {
   "cell_type": "code",
   "execution_count": 3,
   "id": "5f163b29-4272-4890-8104-df251f59d8ac",
   "metadata": {},
   "outputs": [
    {
     "name": "stdout",
     "output_type": "stream",
     "text": [
      "['January', 'February', 'March'] <class 'list'>\n",
      "('January', 'February', 'March') <class 'tuple'>\n",
      "()\n",
      "('b', 'i', 't', 'l', 'a', 'b', 's')\n"
     ]
    }
   ],
   "source": [
    "first_quarter_months = [\"January\", \"February\", \"March\"]\n",
    "\n",
    "print(first_quarter_months, type(first_quarter_months))\n",
    "print(tuple(first_quarter_months), type(tuple(first_quarter_months)))\n",
    "print(tuple())\n",
    "print(tuple(\"bitlabs\"))"
   ]
  },
  {
   "cell_type": "markdown",
   "id": "058f296a-081d-4535-be46-7b1f1a840c39",
   "metadata": {},
   "source": [
    "````{div} alert alert-block alert-info\n",
    "**Kuis:** Misal didefinisikan variabel di bawah ini.\n",
    "\n",
    "```python\n",
    "tuple_x = list(), str(), int(), float()\n",
    "tuple_y = (list(), str(), int(), float())\n",
    "```\n",
    "\n",
    "Kira-kira apa yang ditampilkan dari kode di bawah?\n",
    "\n",
    "```python\n",
    "print(tuple_x == tuple_y)\n",
    "print(tuple_y[0])\n",
    "```\n",
    "````"
   ]
  },
  {
   "cell_type": "code",
   "execution_count": 4,
   "id": "f29571e8-a608-4ffa-a974-7f8cb6643bd4",
   "metadata": {},
   "outputs": [],
   "source": [
    "# KETIK DI SINI"
   ]
  }
 ],
 "metadata": {
  "kernelspec": {
   "display_name": "Python 3",
   "language": "python",
   "name": "python3"
  },
  "language_info": {
   "codemirror_mode": {
    "name": "ipython",
    "version": 3
   },
   "file_extension": ".py",
   "mimetype": "text/x-python",
   "name": "python",
   "nbconvert_exporter": "python",
   "pygments_lexer": "ipython3",
   "version": "3.8.6"
  }
 },
 "nbformat": 4,
 "nbformat_minor": 5
}