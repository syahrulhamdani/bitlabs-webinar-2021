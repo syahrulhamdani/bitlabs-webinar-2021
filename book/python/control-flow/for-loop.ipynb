{
 "cells": [
  {
   "cell_type": "markdown",
   "id": "21b77e7f-e732-42f4-8fd1-1298d1096032",
   "metadata": {},
   "source": [
    "# Perulangan dengan For\n",
    "\n",
    "Selain dengan `while`, Python membolehkan kita untuk melakukan perulangan menggunakan pernyataan `for`. Berbeda dengan `while`, `for` merupakan jenis perulangan berbatas atau *finite loop* yang **akan berhenti tanpa perlu diberi kondisi**. Oleh karena itu, kita tidak perlu mendefinisikan kondisi yang membuat perulangan tersebut berhenti dan hanya memerlukan objek *iterable*.\n",
    "\n",
    "```{note}\n",
    "*Iterable* adalah suatu objek yang dapat mengembalikan salah satu elemennya dalam satu waktu. Beberapa tipe data yang termasuk dalam *iterable* adalah tipe barisan (`list`, `tuple`, dan `range`), string, dan pemetaan seperti `dict`. {cite}`intro-python-udacity`\n",
    "```\n",
    "\n",
    "\n",
    "## Komponen Pernyataan `for`\n",
    "\n",
    "Berbeda dengan `while`, pernyataan `for` memiliki beberapa komponen sebagai berikut:\n",
    "\n",
    "1. Pernyataan dimulai dengan kata kunci `for` yang menyatakan bahwa pernyataan ini adalah sebuah perulangan dengan `for`.\n",
    "2. Setelah `for`, dilanjutkan dengan sintaks `item in iterable`. Ada kata kunci `in` yang merupakan operator keanggotaan yang sudah dibahas pada bab {doc}`../data-structures/index` dan diapit oleh `item` dan `iterable`. Secara berturut-turut, `item` adalah **variabel iterasi** yang mewakili setiap elemen dalam `iterable` dan `iterable` adalah objek `iterable` tempat kita melakukan perulangan.\n",
    "3. Diakhiri dengan titik dua `:`\n",
    "4. Diikuti oleh blok kode `for` seperti pada blok kode yang lain.\n",
    "\n",
    "\n",
    "## Penggunaan `for`\n",
    "\n",
    "Kita akan menggunakan contoh kasus yang sama seperti `while`, yaitu variabel `names`. Dengan tujuan yang sama, penggunaan `for` bisa ditulis seperti potongan kode di bawah.\n",
    "\n",
    "```python\n",
    "for item in names:\n",
    "    print(item)\n",
    "```\n",
    "\n",
    "Di sini, `item` akan menjadi variabel dengan nilai setiap elemen dalam `names`. Supaya lebih gampang dipahami dan representatif, kita pakai variabel `name` dibandingkan dengan `item`."
   ]
  },
  {
   "cell_type": "code",
   "execution_count": 24,
   "id": "b4d3a241-7257-438a-9c3e-b43cde798638",
   "metadata": {},
   "outputs": [],
   "source": [
    "names = [\"brown\", \"james\", \"jackson\", \"lee\", \"johnson\", \"michael\", \"stephany\"]"
   ]
  },
  {
   "cell_type": "code",
   "execution_count": null,
   "id": "cc866288-95b6-45b4-9328-b8e8bcb76def",
   "metadata": {},
   "outputs": [],
   "source": [
    "for name in names:\n",
    "    print(name)"
   ]
  },
  {
   "cell_type": "markdown",
   "id": "db03eb55-daea-45fa-8fd0-bf022acae6d1",
   "metadata": {},
   "source": [
    "Sekarang, kita coba bandingkan dengan potongan kode `while` sebelumnya.\n",
    "\n",
    "```python\n",
    "idx = 0\n",
    "while idx < len(names):\n",
    "    print(names[idx])\n",
    "    idx += 1\n",
    "```\n",
    "\n",
    "Terlihat bahwa `for` lebih ringkas dan jelas. Kita juga tidak perlu membuat kondisi dan secara manual mendefinisikan penambahan indeks karena semua sudah diurus oleh `for`. Analoginya sama seperti saat kita bilang,\n",
    "\n",
    "> Untuk setiap `name` yang ada di dalam `names`, tampilkan `name`.\n",
    "\n",
    "Tentu saja kita bisa melakukan apapun selain hanya menampilkan elemen.\n",
    "\n",
    "### Perulangan `for` dengan `break` dan `continue`\n",
    "\n",
    "Sama dengan `while`, perulangan dengan `for` juga bisa dibubuhi pernyataan `break` dan `continue` dengan fungsionalitas yang sama.\n",
    "\n",
    "````{admonition} Contoh Kasus\n",
    "Misalkan kita ingin mengisi sebuah kargo dengan beberapa barang. Biasanya, ada **kapasitas maksimum** yang dimiliki oleh kargo, sehingga hanya beberapa barang saja yang bisa muat. Bagaimana implementasi masalah tersebut dengan menggunakan `for` dan mungkin menggunakan `break` dan/atau `continue`, jika didefinisikan `manifesto` di bawah ini?\n",
    "\n",
    "```python\n",
    "manifesto = [(\"bananas\", 15), (\"mattresses\", 24), (\"dog kernels\", 42), (\"computer\", 120), (\"cheeses\", 5)]\n",
    "```\n",
    "````"
   ]
  },
  {
   "cell_type": "code",
   "execution_count": 15,
   "id": "80a0f336-d2a3-4343-bbec-50be9fe301a2",
   "metadata": {},
   "outputs": [
    {
     "name": "stdout",
     "output_type": "stream",
     "text": [
      "current weight: 0\n",
      "- Adding bananas to cargo (weight: 20)\n",
      "current weight: 20\n",
      "- Adding mattresses to cargo (weight: 25)\n",
      "current weight: 45\n",
      "- Adding dog kennels to cargo (weight: 40)\n",
      "current weight: 85\n",
      ":: Skipping computer (weight: 95)\n",
      "current weight: 85\n",
      "- Adding cheeses to cargo (weight: 15)\n",
      "current weight: 100\n",
      "Stop loading. Total weight: 100\n",
      "\n",
      "Final weight: 100\n",
      "Items in cargo: ['bananas', 'mattresses', 'dog kennels', 'cheeses']\n"
     ]
    }
   ],
   "source": [
    "manifesto = [(\"bananas\", 20), (\"mattresses\", 25), (\"dog kennels\", 40), (\"computer\", 95), (\"cheeses\", 15), (\"drugs\", 15)]\n",
    "cargo = []\n",
    "total_weight = 0\n",
    "for cargo_name, cargo_weight in manifesto:\n",
    "    print(\"current weight:\", total_weight)\n",
    "    if total_weight >= 100:\n",
    "        print(\"Stop loading. Total weight:\", total_weight)\n",
    "        break\n",
    "\n",
    "    if cargo_weight + total_weight > 100:\n",
    "        print(\":: Skipping {} (weight: {})\".format(cargo_name, cargo_weight))\n",
    "    else:\n",
    "        print(\"- Adding {} to cargo (weight: {})\".format(cargo_name, cargo_weight))\n",
    "        cargo.append(cargo_name)\n",
    "        total_weight += cargo_weight\n",
    "\n",
    "print(\"\\nFinal weight:\", total_weight)\n",
    "print(\"Items in cargo:\", cargo)"
   ]
  },
  {
   "cell_type": "markdown",
   "id": "928860f2-bba4-42ae-bab8-3d7a767d1393",
   "metadata": {},
   "source": [
    "### Penggunaan `range` dalam `for`\n",
    "\n",
    "Fungsi bawaah `range` digunakan untuk menghasilkan sebuah objek sejenis barisan berurut yang dimulai dari `start` sampai `stop-1` dengan selisih antar elemen sebesar `step`. Nilai-nilai ini ditentukan ketika kita memanggil fungsi `range` dengan sintaks berikut:\n",
    "\n",
    "```python\n",
    "range(start, stop[, step])\n",
    "```\n",
    "\n",
    "Notasi `[, step]` menandakan bahwa `step` adalah argumen opsional karena tanpa menyediakan nilai `step` pun fungsi `range` tetap bisa dieksekusi dengan nilai bawaan `step` adalah `1`. Ini berarti, jika kita memanggil fungsi `range` dengan `range(5, 10)`, maka selisih antar elemen di dalamnya adalah `1`. Perhatikan contoh pada cell di bawah ini."
   ]
  },
  {
   "cell_type": "code",
   "execution_count": 19,
   "id": "a39eae4a-71c7-4745-aec4-1891520aedb2",
   "metadata": {},
   "outputs": [
    {
     "name": "stdout",
     "output_type": "stream",
     "text": [
      "range(5, 10) <class 'range'>\n",
      "range(0, 10) <class 'range'>\n",
      "range(0, 10, 2) <class 'range'>\n"
     ]
    }
   ],
   "source": [
    "five_to_nine = range(5, 10)\n",
    "to_ten = range(10)\n",
    "to_ten_with_two = range(0, 10, 2)\n",
    "\n",
    "print(five_to_nine, type(five_to_nine))\n",
    "print(to_ten, type(to_ten))\n",
    "print(to_ten_with_two, type(to_ten_with_two))"
   ]
  },
  {
   "cell_type": "markdown",
   "id": "ddf9eb32-2f79-49b9-8ba2-f33b82187e4f",
   "metadata": {},
   "source": [
    "Fungsi `range` akan menghasilkan tipe data `range`. Jika kita ingin melihat isi dari tipe data `range`, kita harus mengubahnya ke dalam jenis barisan yang lain, seperti `list` atau `tuple`."
   ]
  },
  {
   "cell_type": "code",
   "execution_count": 21,
   "id": "4c94d3ec-ad76-45b5-a7e1-c2bb84257bfb",
   "metadata": {},
   "outputs": [
    {
     "name": "stdout",
     "output_type": "stream",
     "text": [
      "[5, 6, 7, 8, 9] (5, 6, 7, 8, 9)\n",
      "[0, 1, 2, 3, 4, 5, 6, 7, 8, 9] (0, 1, 2, 3, 4, 5, 6, 7, 8, 9)\n",
      "[0, 2, 4, 6, 8] (0, 2, 4, 6, 8)\n"
     ]
    }
   ],
   "source": [
    "print(list(five_to_nine), tuple(five_to_nine))\n",
    "print(list(to_ten), tuple(to_ten))\n",
    "print(list(to_ten_with_two), tuple(to_ten_with_two))"
   ]
  },
  {
   "cell_type": "markdown",
   "id": "2ae940b0-d8e5-463c-a75d-2cc06eb595fc",
   "metadata": {},
   "source": [
    "Karena `range` juga termasuk dalam objek *iterable*, maka kita bisa melakukan perulangan menggunakan `range` seperti berikut"
   ]
  },
  {
   "cell_type": "code",
   "execution_count": 22,
   "id": "c7c1dbab-8f57-4c02-8ba8-99186b42c09b",
   "metadata": {},
   "outputs": [
    {
     "name": "stdout",
     "output_type": "stream",
     "text": [
      "5\n",
      "6\n",
      "7\n",
      "8\n",
      "9\n",
      "\n",
      "0\n",
      "1\n",
      "2\n",
      "3\n",
      "4\n",
      "5\n",
      "6\n",
      "7\n",
      "8\n",
      "9\n",
      "\n",
      "0\n",
      "2\n",
      "4\n",
      "6\n",
      "8\n"
     ]
    }
   ],
   "source": [
    "for x in five_to_nine:\n",
    "    print(x)\n",
    "print()\n",
    "for x in to_ten:\n",
    "    print(x)\n",
    "print()\n",
    "for x in to_ten_with_two:\n",
    "    print(x)"
   ]
  },
  {
   "cell_type": "markdown",
   "id": "aaa4d91d-f8f2-4f88-9f94-a6f07581a8c9",
   "metadata": {},
   "source": [
    "Karena dengan `range` kita punyai bilangan integer, kita bisa menggunakannya untuk melakukan *indexing* pada tipe barisan seperti `list`, yang secara sintaks lebih mirip dengan penggunaan `while`. Perhatikan perulangan `for` di bawah ini pada `names`."
   ]
  },
  {
   "cell_type": "code",
   "execution_count": 25,
   "id": "95075151-551e-4565-9baa-8894a90a12ba",
   "metadata": {},
   "outputs": [
    {
     "name": "stdout",
     "output_type": "stream",
     "text": [
      "brown\n",
      "james\n",
      "jackson\n",
      "lee\n",
      "johnson\n",
      "michael\n",
      "stephany\n"
     ]
    }
   ],
   "source": [
    "for i in range(len(names)):\n",
    "    print(names[i])"
   ]
  },
  {
   "cell_type": "markdown",
   "id": "1c87a626-3cbb-40f1-8890-5c64866cde6d",
   "metadata": {},
   "source": [
    "## Perulangan pada Dictionary\n",
    "\n",
    "Dictionary mempunyai metode bawaan `items()` yang mengembalikan sebuah `list` atas pasangan-pasangan `key` dan `value` sebagai `tuple`. Sehingga, dengan perulangan `for`, kita bisa mengakses `key` dan `value` seperti pada contoh kasus pertama di atas.\n",
    "\n",
    "```{div} alert alert-block alert-info\n",
    "Misalkan kita punyai variabel `dict_manifesto` yang merupakan `manifesto` dalam bentuk dictionary dengan `key` adalah nama barang dan `value` adalah beratnya.\n",
    "1. Definisikan `dict_manifesto` sebagai representasi dictionary dari `manifesto`.\n",
    "2. Menggunakan `items()`, tampilkan pasangan `key` dan `value` dalam pola `key: value` menggunakan fungsi `print`.\n",
    "```"
   ]
  },
  {
   "cell_type": "code",
   "execution_count": null,
   "id": "9571f4d7-69b5-4e76-9a27-a5e8c08ba01b",
   "metadata": {},
   "outputs": [],
   "source": [
    "# KETIK DI SINI"
   ]
  },
  {
   "cell_type": "markdown",
   "id": "974838f7-822c-4d36-88e9-f5edd251feb8",
   "metadata": {},
   "source": [
    "````{div} alert alert-block alert-info\n",
    "**Kuis:**\n",
    "Dengan masih menggunakan `dict_manifesto`, definisikan dulu `purchased_product` sebagai pemetaan antara nama produk dengan jumlah yang dibeli.\n",
    "\n",
    "```python\n",
    "purchased_product = {\"computer\": 3, \"cheeses\": 10, \"dog kennels\": 5, \"bananas\": 20}\n",
    "```\n",
    "\n",
    "Dari `purchased_product` di atas, kita ingin mengirimkan produk-produk di dalamnya ke para pembeli. Jika sekarang batas maksimal muatan dalam kargo adalah 1000, produk apa saja dalam `purchased_product` yang bisa dikirim, dengan berat masing-masing produk sesuai pada `dict_manifesto`.\n",
    "````"
   ]
  },
  {
   "cell_type": "code",
   "execution_count": null,
   "id": "d6b07a07-be34-4a6c-ae9b-a909d726cf4d",
   "metadata": {},
   "outputs": [],
   "source": [
    "# KETIK DI SINI"
   ]
  },
  {
   "cell_type": "markdown",
   "id": "5ff739a5-b7b5-43e8-8c45-45680eae0052",
   "metadata": {},
   "source": [
    "## *List*, *Set*, dan *Dictionary Comprehension*\n",
    "\n",
    "Sebelumnya pada bagian {doc}`../data-structures/index`, sudah dibahas berbagai cara untuk mendefinisikan `list`, `set`, dan juga `dict`. Setelah kita belajar perulangan `for`, ada cara yang lebih efektif dan cepat untuk mendefinisikan `list`, `set`, maupun `dict`.\n",
    "\n",
    "````{admonition} Contoh Kasus\n",
    "Misal didefinisikan `list` dari nama-nama baru dalam `new_names` berikut.\n",
    "\n",
    "```python\n",
    "new_names = [\"joko\", \"abdul\", \"toni\", \"marcus\", \"james\"]\n",
    "```\n",
    "\n",
    "Tugas kita ada 2:\n",
    "1. Dari `manifesto`, coba buat sebuah `list` yang diberi nama `list_product`. yang berisikan produk-produk dalam `manifesto`.\n",
    "2. Membuat variabel `unique_names` yang berisikan nama-nama dalam `names` yang baru dan tidak boleh ada duplikat\n",
    "````\n",
    "\n",
    "Untuk menyelesaikan masalah pada contoh kasus di atas, kita bisa menggunakan perulangan `for` dan metode `append` pada `list`. Mari kita coba implementasi."
   ]
  },
  {
   "cell_type": "code",
   "execution_count": 28,
   "id": "f119517a-b7ca-429d-b14c-5e157bf8c4ac",
   "metadata": {},
   "outputs": [
    {
     "name": "stdout",
     "output_type": "stream",
     "text": [
      "['bananas', 'mattresses', 'dog kennels', 'computer', 'cheeses', 'drugs']\n"
     ]
    }
   ],
   "source": [
    "list_product = []\n",
    "for product, _ in manifesto:\n",
    "    list_product.append(product)\n",
    "\n",
    "print(list_product)"
   ]
  },
  {
   "cell_type": "markdown",
   "id": "7dae7356-adfe-43c1-b222-1169c3188609",
   "metadata": {},
   "source": [
    "```{note}\n",
    "Penggunaan `_` dalam pernyataan `for` di atas dikarenakan kita hanya memerlukan elemen pertama dari setiap elemen `tuple` dalam `manifesto`, sehingga untuk menghemat memori, kita bisa pakai `_`. Ini sama saja dengan mengatakan \"hiraukan elemen kedua dari setiap elemen `tuple`\".\n",
    "```\n",
    "\n",
    "Kita butuh setidaknya 3 baris untuk membuat `list_product`. Dengan menggunakan *list comprehension*, kita hanya membutuhkan 1 baris. Bentuk *list comprehension* adalah sebagai berikut.\n",
    "\n",
    "```python\n",
    "[expression for item in iterable]\n",
    "```\n",
    "\n",
    "`expression` pada potongan kode di atasn adalah elemen yang akan mengisi `list` yang sedang didefinisikan. Sedangkan, `item` dan `iterable` adalah pernyataan `for` biasa. Sehingga, penerapan *list comprehension* untuk kasus pertama adalah seperti cell di bawah ini"
   ]
  },
  {
   "cell_type": "code",
   "execution_count": 30,
   "id": "b67bd9d6-b918-4847-a1c5-379c3f184663",
   "metadata": {},
   "outputs": [
    {
     "name": "stdout",
     "output_type": "stream",
     "text": [
      "['bananas', 'mattresses', 'dog kennels', 'computer', 'cheeses', 'drugs']\n",
      "True\n"
     ]
    }
   ],
   "source": [
    "list_product_comprehension = [product for product, _ in manifesto]\n",
    "print(list_product_comprehension)\n",
    "print(list_product == list_product_comprehension)"
   ]
  },
  {
   "cell_type": "markdown",
   "id": "431bc792-fc9b-4fff-86fb-d189bea19bb3",
   "metadata": {},
   "source": [
    "Sangat singkat bukan?\n",
    "\n",
    "```{tip}\n",
    "Jika memungkinkan, dalam mendefinisikan sebuah barisan, lakukanlah *list comprehension* dibanding perulangan `for` biasa. Hal ini karena *list comprehension* lebih efektif dan cepat dari segi memori dan *runtime*.\n",
    "```\n",
    "\n",
    "Implementasi *set comprehension* juga serupa dengan *list comprehension*, yang membedakan hanyalah `set` menggunakan `{}`. Sehingga, bentuk *set comprehension* adalah `{expression for item in iterable}`.\n",
    "\n",
    "```{div} alert alert-block alert-info\n",
    "Untuk kasus nomor 2, silakan dicoba sendiri. Silakan definisikan `unique_names` sebagai `set`.\n",
    "\n",
    "2. Membuat variabel `unique_names` yang berisikan nama-nama dalam `names` yang baru dan tidak boleh ada duplikat\n",
    "```"
   ]
  },
  {
   "cell_type": "code",
   "execution_count": 26,
   "id": "8f94f612-b860-489f-b2ea-8ddc2b9eeb8b",
   "metadata": {},
   "outputs": [],
   "source": [
    "# KETIK DI SINI"
   ]
  },
  {
   "cell_type": "markdown",
   "id": "267ca42b-83a6-40f3-993c-3c5bd6337a0a",
   "metadata": {},
   "source": [
    "Untuk *dictionary comprehension* juga memiliki implementasi yang serupa dengan *set comprehension* dalam hal kurung kurawal `{}`. Akan tetapi, yang membedakan adalah adanya `key` dan `value` yang harus ditulis dalam `expression`. Sehingga, implementasi *dictionary comprehension* adalah sebagai berikut.\n",
    "\n",
    "```python\n",
    "{key: value for item in iterable}\n",
    "```\n",
    "\n",
    "````{div} alert alert-block alert-info\n",
    "**Kuis:** Misalkan diketahui harga produk pada setiap barang pada `manifesto` adalah seperti pada tabel berikut.\n",
    "\n",
    "| product | price |\n",
    "| --- | --- |\n",
    "| bananas | 5.000 |\n",
    "| mattresses | 100.000 |\n",
    "| dog kennels | 250.000 |\n",
    "| computer | 1.000.000 |\n",
    "| cheeses | 10.000 |\n",
    "| drugs | 50.000 |\n",
    "\n",
    "Buatlah variabel bertipe `dict`, `product_to_price`, yang memetakan produk dengan harganya!\n",
    "\n",
    "Kemudian, dari histori transaksi pada tabel di bawah ini, buatlah variabel `users_spending` yang memetakan setiap nama pada `names` dan total pengeluaran masing-masing orang.\n",
    "\n",
    "| name | purchase history |\n",
    "| --- | --- |\n",
    "| brown | {\"bananas\": 10, \"drugs\": 5} |\n",
    "| james | {\"drugs\": 2} |\n",
    "| jackson | {\"computer\": 1, \"matresses\": 2} |\n",
    "| lee | {\"cheeses\": 5, \"bananas\": 5} |\n",
    "| johnson | {\"computer\": 2} |\n",
    "| michael | {\"drugs\": 1, \"bananas\": 1, \"mattresses\": 2} |\n",
    "| stephany | {\"drugs\": 10} |\n",
    "| joko | {\"computer\": 2, \"mattresses\": 3} |\n",
    "| abdul | {\"mattresses\": 5, \"drugs\": 1, \"computer\": 1, \"dog kennels\": 2} |\n",
    "| toni | {\"dog kennels\": 2, \"drugs\": 2} |\n",
    "| marcus | {\"cheeses\": 10} |\n",
    "````"
   ]
  },
  {
   "cell_type": "code",
   "execution_count": null,
   "id": "08430d0a-0458-4965-a5da-b40dc56d9902",
   "metadata": {},
   "outputs": [],
   "source": [
    "# KETIK DI SINI"
   ]
  }
 ],
 "metadata": {
  "kernelspec": {
   "display_name": "Python 3",
   "language": "python",
   "name": "python3"
  },
  "language_info": {
   "codemirror_mode": {
    "name": "ipython",
    "version": 3
   },
   "file_extension": ".py",
   "mimetype": "text/x-python",
   "name": "python",
   "nbconvert_exporter": "python",
   "pygments_lexer": "ipython3",
   "version": "3.8.6"
  }
 },
 "nbformat": 4,
 "nbformat_minor": 5
}
