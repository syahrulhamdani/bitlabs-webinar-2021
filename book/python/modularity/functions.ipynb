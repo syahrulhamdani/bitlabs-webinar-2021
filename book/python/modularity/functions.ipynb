{
 "cells": [
  {
   "cell_type": "markdown",
   "id": "62e870dd-938f-4013-bbc3-f853d5c0c028",
   "metadata": {},
   "source": [
    "# Functions\n",
    "\n",
    "Sampai dengan sekarang, semua kode Python yang kita tulis berupa potongan-potongan kode dan dijalankan secara sendiri-sendiri. Ini mungkin berguna dan dipakai untuk eksplorasi dan eksekusi singkat, tapi jika skrip kode sudah mulai kompleks, tidak mungkin kita menulis ulang semua kode tersebut. Oleh karena itu, diperlukan suatu cara untuk **mengelompokkan dan mengorganisir** kode menjadi **bagian-bagian yang lebih mudah untuk di kelola**.\n",
    "\n",
    "Cara pertama yang bisa dilakukan adalah mengumpulkan kode-kode yang memiliki alur dan tujuan agar bisa digunakan kembali tanpa menulis ulang kodenya ke dalam sebuah **fungsi (*function*)**. Kita bisa anggap sebuah fungsi sebagai **kumpulan kode yang bekerja untuk suatu tugas tertentu yang bisa menerima *input* apapun jenisnya dan berapapun jumlahnya, serta mengembalikan *output* apapun jenisnya dan berapapun jumlahnya**. {cite}`lubanovic2019intropython2nd`\n",
    "\n",
    "\n",
    "## Mendefinisikan Fungsi dengan `def`\n",
    "\n",
    "Untuk mendefinisikan fungsi, kita mulai dengan kata kunci `def`, diikuti oleh **nama fungsi** (aturan penamaan sama dengan variabel), tanda kurung (`()`) yang berisikan nol atau lebih parameter masukan yang diperlukan fungsi tersebut, dan diakhiri dengan `:`.\n",
    "\n",
    "Mari kita coba definisikan fungsi yang paling sederhana terlebih dahulu yang tidak memerlukan parameter masukan apapun dan tidak melakukan apapun.\n",
    "\n",
    "```python\n",
    "def do_nothing():\n",
    "    pass\n",
    "```\n",
    "\n",
    "```{note}\n",
    "Pernyataan `pass` pada Python digunakan sebagai penampung atau *placeholder* untuk kode nantinya. Ketika dieksekusi, `pass` tidak melakukan apa-apa, tapi kode tetap berjalan tanpa eror kekosongan kode, karena kode kosong (*empty code*) tidak diperbolehkan dalam sebuah perulangan, pendefinisian fungsi, pendefinisan kelas (*class*), atau pernyataan kondisional `if`.\n",
    "```"
   ]
  },
  {
   "cell_type": "code",
   "execution_count": null,
   "id": "689c2187-63dc-4d33-a6fa-77a01d86ab5a",
   "metadata": {},
   "outputs": [],
   "source": [
    "def do_nothing():\n",
    "    pass"
   ]
  },
  {
   "cell_type": "markdown",
   "id": "8027e16a-4261-4272-a66b-fb2ab6ab3732",
   "metadata": {},
   "source": [
    "Untuk menggunakan fungsi tersebut, kita bisa langsung panggil seperti ini."
   ]
  },
  {
   "cell_type": "code",
   "execution_count": null,
   "id": "64055a4f-383c-41a4-ab81-789bd5a26753",
   "metadata": {},
   "outputs": [],
   "source": [
    "do_nothing()"
   ]
  },
  {
   "cell_type": "markdown",
   "id": "d86e01d8-3735-476e-9ace-c4f66f0cd7ce",
   "metadata": {},
   "source": [
    "Sekarang, kita coba buat fungsi baru yang masih tidak memerlukan parameter masukan, tapi akan menampilkan suatu string dengan fungsi `print`."
   ]
  },
  {
   "cell_type": "code",
   "execution_count": null,
   "id": "8bc67b2d-1729-492c-a6e6-54d02ac175e4",
   "metadata": {},
   "outputs": [],
   "source": [
    "def make_sound():\n",
    "    print(\"moo..\")"
   ]
  },
  {
   "cell_type": "code",
   "execution_count": null,
   "id": "b1e90b9f-ab30-4d66-b8f6-84a1f6c2c793",
   "metadata": {},
   "outputs": [],
   "source": [
    "make_sound()"
   ]
  },
  {
   "cell_type": "markdown",
   "id": "1447ea65-5288-4979-ae40-d7ab1c268027",
   "metadata": {},
   "source": [
    "Fungsi `make_sound` yang sudah didefinisikan, jika dipanggil, akan menampilkan string `\"moo..\"` sesuai dengan blok kode di dalamnya.\n",
    "\n",
    "### Pernyataan `return` pada Fungsi\n",
    "\n",
    "Sekarang, kita coba buat fungsi yang mengembalikan sebuah nilai `True` seperti di bawah ini."
   ]
  },
  {
   "cell_type": "code",
   "execution_count": null,
   "id": "87999e4f-4ce0-49f2-9e0c-3482bad7b459",
   "metadata": {},
   "outputs": [],
   "source": [
    "def agree():\n",
    "    return True"
   ]
  },
  {
   "cell_type": "code",
   "execution_count": null,
   "id": "aab7fd0d-9ad5-4ec6-bff2-c736cf5883b8",
   "metadata": {},
   "outputs": [],
   "source": [
    "agree()"
   ]
  },
  {
   "cell_type": "markdown",
   "id": "9faaceee-ae36-40a3-8e37-5e609c965bd3",
   "metadata": {},
   "source": [
    "Suatu fungsi yang memiliki pernyataan `return`, akan **mengembalikan sebuah nilai keluaran ke pernyataan yang memanggilnya**. Pernyataan `return` terdiri dari kata kunci `return` yang kemudian diikuti oleh nilai balikan, dan dipisahkan dengan spasi. Jika kita ingin mengembalikan lebih dari satu nilai dari suatu fungsi, maka kita bisa tulis nilai-nilai tersebut dan dipisahkan dengan `,`, seperti `return value1, value2`.\n",
    "\n",
    "```{note}\n",
    "Suatu fungsi yang tidak memiliki pernyataan `return`, seperti pada fungsi `do_nothing` ataupun `make_sound`, maka nilai balikannya adalah `None`.\n",
    "```\n",
    "\n",
    "Untuk membandingkan fungsi dengan `return` dan yang tidak, mari kita coba definisikan sebuah variabel `sound` dan `is_agree` dengan memanggil fungsi `make_sound` dan `agree` secara berturut-turut."
   ]
  },
  {
   "cell_type": "code",
   "execution_count": null,
   "id": "cd69934a-3ed3-4c57-a938-dbd516c9fc50",
   "metadata": {},
   "outputs": [],
   "source": [
    "sound = make_sound()\n",
    "is_agree = agree()"
   ]
  },
  {
   "cell_type": "markdown",
   "id": "5434e85f-0dbc-49c2-a89a-9b2a364564c4",
   "metadata": {},
   "source": [
    "Setelah kita jalankan cell di atas, kita mendapatkan tampilan `moo..` yang berasal dari fungsi `make_sound`. Sedangkan, variabel `is_agree` tidak menampilkan apa-apa. Ini sama halnya saat kita mendefinisikan variabel sebelumnya, kita hanya memberikan nilai pada variabel.\n",
    "\n",
    "Jika kita coba tampilkan kedua variabel tersebut dengan `print`, maka `sound` tidak akan menampilkan apa-apa, sedangkan `is_agree` akan menampilkan nilai `True`. Ini terjadi karena fungsi `make_sound` **tidak mengembalikan nilai apa-apa** untuk disimpan dalam variabel `sound`, sedangkan `agree` mengembalikan nilai `True` yang kemudian disimpan dalam variabel `is_agree`."
   ]
  },
  {
   "cell_type": "code",
   "execution_count": null,
   "id": "ba9314e3-de3e-42a0-848a-409492655633",
   "metadata": {},
   "outputs": [],
   "source": [
    "print(sound)"
   ]
  },
  {
   "cell_type": "code",
   "execution_count": null,
   "id": "26e7b064-8b8a-4580-af79-040b37b8af37",
   "metadata": {},
   "outputs": [],
   "source": [
    "print(is_agree)"
   ]
  },
  {
   "cell_type": "markdown",
   "id": "e33aed50-b18d-4eb8-89d4-c2bc9d2f6f00",
   "metadata": {},
   "source": [
    "### Fungsi dengan Parameter Masukan\n",
    "\n",
    "Misalkan kita ingin membuat sebuah fungsi, yang bisa gunakan berkali-kali, untuk menghitung volume sebuah silinder. Ada beberapa hal yang harus kita ketahui terlebih dahulu:\n",
    "1. Nilai $\\Pi$\n",
    "2. Tinggi silinder\n",
    "3. Jari-jari silinder\n",
    "\n",
    "Ingat bahwa persamaan volume silinder adalah\n",
    "\n",
    "$$\n",
    "V = \\Pi \\cdot r^2 \\cdot h\n",
    "$$\n",
    "\n",
    "di mana $V$ adalah volume yang dihasilkan, $r$ adalah jari-jari silinder, dan $h$ adalah tinggi silinder.\n",
    "\n",
    "Untuk membuat fungsi tersebut dengan 3 nilai yang harus diketahui terlebih dahulu, ini berarti kita bisa membuat fungsi yang membutuhkan parameter masukan, dalam hal ini yaitu `r` dan `h`. Nilai $Pi$ tidak perlu kita anggap sebagai parameter karena nilainya yang selalu konstan. Sehingga, kita definisikan fungsi `cylinder_volume` seperti di bawah ini."
   ]
  },
  {
   "cell_type": "code",
   "execution_count": null,
   "id": "b74b829a-de91-4cb5-a744-2005679ae906",
   "metadata": {},
   "outputs": [],
   "source": [
    "def cylinder_volume(radius, height):\n",
    "    pi = 3.14159\n",
    "    return pi * height * radius**2"
   ]
  },
  {
   "cell_type": "code",
   "execution_count": null,
   "id": "c9ed8437-5b05-4379-8c28-04d3305402ac",
   "metadata": {},
   "outputs": [],
   "source": [
    "volume = cylinder_volume(10, 3)\n",
    "print(\"Cylinder volume:\", volume)"
   ]
  },
  {
   "cell_type": "markdown",
   "id": "796b9199-a07a-4ae5-9c90-1213c5acb67b",
   "metadata": {},
   "source": [
    "````{admonition} Eksplorasi\n",
    "Buatlah sebuah fungsi `commentary` yang menerima masukan dalam parameter `color` dan mengembalikan string tertentu sesuai dengan nilai `color` pada tabel di bawah ini.\n",
    "\n",
    "| color | comment |\n",
    "| --- | --- |\n",
    "| red | It's a tomato |\n",
    "| green | It's a green pepper |\n",
    "| bees | I don't know what it is, but looks like a bee |\n",
    "\n",
    "Jika nilai `color` tidak tersedia dalam tabel di atas, kembalikan string dengan pola di bawah ini\n",
    "\n",
    "```python\n",
    "\"I've never heard of the color yellow before\"\n",
    "```\n",
    "````"
   ]
  },
  {
   "cell_type": "code",
   "execution_count": null,
   "id": "2b48e149-86a3-42a7-8e14-8bf60a717f16",
   "metadata": {},
   "outputs": [],
   "source": [
    "def commentary(color):\n",
    "    # KETIK DI SINI\n",
    "    pass"
   ]
  },
  {
   "cell_type": "code",
   "execution_count": null,
   "id": "8a215a2f-e3ca-4a8e-a96c-807090d5df19",
   "metadata": {},
   "outputs": [],
   "source": [
    "green = commentary(\"green\")\n",
    "red = commentary(\"red\")\n",
    "yellow = commentary(\"yellow\")\n",
    "\n",
    "print(\"Have you heard color green?\", green)\n",
    "print(\"Have you heard color red?\", red)\n",
    "print(\"Have you heard color yellow?\", yellow)"
   ]
  },
  {
   "cell_type": "markdown",
   "id": "405d4868-fe2e-45e3-b550-20d976c1ceef",
   "metadata": {},
   "source": [
    "## Argumen dan Parameter\n",
    "\n",
    "Argumen dan parameter beberapa kali disebut pada penjelasan di atas. Kedua istilah ini seringkali disebut untuk mengacu pada hal yang sama, meskipun argumen berbeda dengan parameter. Fungsi `cylinder_volume` sebelumnya memiliki **2 parameter**, `height` dan `radius`. Saat `cylinder_volume` dipanggil, kita menyediakkan **2 argumen**, `10` dan `3` untuk `radius` dan `height` secara berturut-turut.\n",
    "\n",
    "```{note}\n",
    "Saying it another way: they're called *arguments* ouside of the function, but *parameters* inside. {cite}`lubanovic2019intropython2nd`\n",
    "```\n",
    "\n",
    "Kita bisa anggap parameter adalah variabel khusus dalam sebuah fungsi yang nilainya diambil dari argumen yang dimasukkan saat pemanggilan. Pada fungsi `echo` yang didefinisikan di bawah ini, nilai `bitlabs` yang kita masukkan saat memanggil fungsi `echo` akan \"diganti\" dengan parameter `anything` dalam fungsi tersebut. Nilai `bitlabs` disebut sebagai argumen, sedangkan `anything` adalah parameter dalam fungsi."
   ]
  },
  {
   "cell_type": "code",
   "execution_count": null,
   "id": "846fe0aa-f326-4682-af9d-c4042cc0e508",
   "metadata": {},
   "outputs": [],
   "source": [
    "def echo(anything):\n",
    "    return anything + \" \" + anything"
   ]
  },
  {
   "cell_type": "code",
   "execution_count": null,
   "id": "f3d56646-8d81-44f3-8c5c-70f2c496ffdd",
   "metadata": {},
   "outputs": [],
   "source": [
    "echo(\"bitlabs\")"
   ]
  },
  {
   "cell_type": "markdown",
   "id": "778ffe2e-f9e1-44b9-bb6b-8f874cd30f24",
   "metadata": {},
   "source": [
    "Jika kita memasukkan sejumlah argumen yang kurang atau lebih dari jumlah parameter yang seharusnya fungsi tersebut butuhkan, maka kita akan mendapatkan eror `TypeError` yang memberi tahu kita bahwa ada kesalahan dalam memasukkan argumen. Perhatikan contoh kode di bawah ini."
   ]
  },
  {
   "cell_type": "code",
   "execution_count": null,
   "id": "8b7ba820-e509-4300-9814-a7cbd36a2382",
   "metadata": {},
   "outputs": [],
   "source": [
    "cylinder_volume(10)"
   ]
  },
  {
   "cell_type": "code",
   "execution_count": null,
   "id": "df2439d9-1490-4e89-98c5-fe904c82749e",
   "metadata": {},
   "outputs": [],
   "source": [
    "echo(100, 200)"
   ]
  },
  {
   "cell_type": "markdown",
   "id": "c2404321-a527-47f2-a2be-e4b0bed97ae5",
   "metadata": {},
   "source": [
    "Kita bisa memasukkan *input* langsung sesuai dengan **posisi parameter** dalam fungsi atau **secara tidak berurutan dengan menyediakan nama parameternya**."
   ]
  },
  {
   "cell_type": "code",
   "execution_count": null,
   "id": "a656f038-0301-4ea2-af01-8672d7e1cf05",
   "metadata": {},
   "outputs": [],
   "source": [
    "def is_bounded(x, lower, upper):\n",
    "    return lower <= x <= upper"
   ]
  },
  {
   "cell_type": "code",
   "execution_count": null,
   "id": "321875c1-5323-4e71-85dc-587460f2b154",
   "metadata": {},
   "outputs": [],
   "source": [
    "is_bounded(2, 3, 4)"
   ]
  },
  {
   "cell_type": "code",
   "execution_count": null,
   "id": "9dfc497b-3131-4751-a519-63c62132a1a7",
   "metadata": {},
   "outputs": [],
   "source": [
    "is_bounded(lower=2, x=3, upper=4)"
   ]
  },
  {
   "cell_type": "markdown",
   "id": "f347b954-7dfa-4a15-93fb-655229225939",
   "metadata": {},
   "source": [
    "Pemanggilan fungsi yang pertama, `is_bounded(2, 3, 4)`, menghasilkan nilai `False` karena `x=2`, `lower=3`, dan `upper=4`, sehingga `3 <= 2 <= 4` sama dengan `False`. Sedangkan, pada pemanggilan fungsi yang kedua, karena kita memasukkan argumen dengan berdasarkan dan menyediakan parameternya, maka meskipun urutan nilai masukannya sama dengan pemanggilan fungsi pertama, tapi kita memberi tahu `is_bounded` bahwa argumen pertama ditujukan untuk `lower` dengan menuliskan `lower=2`. Urutan parameter tidak berlaku di sini dan yang terpenting adalah semua parameter yang **dibutuhkan** fungsi ditentukan."
   ]
  },
  {
   "cell_type": "code",
   "execution_count": null,
   "id": "f8612947-ff9b-43da-930a-b2336a8fb44a",
   "metadata": {},
   "outputs": [],
   "source": [
    "# pernyataan di bawah ini semuanya ekuivalen\n",
    "print(is_bounded(3, 2, 4))\n",
    "print(is_bounded(upper=4, lower=2, x=3))\n",
    "print(is_bounded(upper=4, x=3, lower=2))"
   ]
  },
  {
   "cell_type": "markdown",
   "id": "f5631b9a-e1d6-40fa-87da-cf9651cff315",
   "metadata": {},
   "source": [
    "Pemberian argumen dengan cara seperti ini disebut dengan ***keyword argument***, yaitu pemberian argumen dengan *keyword* parameter yang dituju.\n",
    "\n",
    "```{note}\n",
    "*Keyword argument* adalah sebuah argumen yang didahului oleh pengindentifikasi (misal `name=`) dalam sebuah pemanggilan fungsi. {cite}`pythonglossary`\n",
    "```"
   ]
  },
  {
   "cell_type": "markdown",
   "id": "61f5eb65-0bb1-49c2-af5c-630e6677193a",
   "metadata": {},
   "source": [
    "Tidak semua argumen harus disediakan dengan *keyword argument*. Kita juga bisa menggabungkan *positional argument* dengan *keyword argment* seperti di bawah ini.\n",
    "\n",
    "```python\n",
    "is_bounded(3, lower=2, upper=4)\n",
    "```\n",
    "\n",
    "Potongan kode di atas berarti kita menyediakan argumen `3` sebagai *positional argument* sehingga akan ditempatkan sesuai dengan posisi pertama parameter fungsi, yaitu `x`. Sedangkan, argumen `2` dan `3` sebagai *keyword argument* yang tidak dipengaruhi oleh posisi parameter.\n",
    "\n",
    "```{warning}\n",
    "Jika kita sudah memberikan argumen dalam bentuk *keyword argument*, maka argumen-argumen setelahnya juga harus dalam *keyword argument*. Jika setelah *keyword argument* kita memberikan argumen sebagai *positional argument*, maka akan memunculkan eror `SyntaxError`.\n",
    "```"
   ]
  },
  {
   "cell_type": "code",
   "execution_count": null,
   "id": "3cc7a32b-dcc0-4e02-8b01-691b07b4d259",
   "metadata": {},
   "outputs": [],
   "source": [
    "is_bounded(3, lower=2, upper=4)"
   ]
  },
  {
   "cell_type": "code",
   "execution_count": null,
   "id": "675d00a2-d710-4d35-b1a1-1511c9fe1327",
   "metadata": {},
   "outputs": [],
   "source": [
    "is_bounded(3, upper=3, 4)"
   ]
  },
  {
   "cell_type": "markdown",
   "id": "d56ee95d-e707-4fdd-8fe9-1a4463100388",
   "metadata": {},
   "source": [
    "Kita bisa menyediakan nilai default parameter saat pendefinisian fungsi. Nilai default ini akan dipakai jika fungsi dipanggil **tanpa menyediakan argumen** untuk parameter tersebut atau memang ingin **menggunakan nilai default**. Coba kita lihat fungsi `is_bounded` sebelumnya. Andaikan fungsi tersebut dipanggil untuk menentukan apakah `x` berada pada interval $[0, 10]$ dan sangat jarang untuk interval yang lain. Jika demikian, kita bisa menyediakan parameter `lower` dan `upper` dengan nilai default seperti di bawah ini.\n",
    "\n",
    "```python\n",
    "def is_bounded(x, lower=0, upper=10):\n",
    "    return lower <= x <= upper\n",
    "```\n",
    "\n",
    "Sekarang, kita bisa memanggil `is_bounded` hanya dengan menyediakan nilai `x` saja karena parameter yang lain sudah memiliki argumen default."
   ]
  },
  {
   "cell_type": "code",
   "execution_count": null,
   "id": "cdd0684c-74ec-469d-8e7a-a795a45b8c52",
   "metadata": {},
   "outputs": [],
   "source": [
    "is_bounded(2)"
   ]
  },
  {
   "cell_type": "markdown",
   "id": "98dd08ac-e978-45f1-818c-30ce170c64e6",
   "metadata": {},
   "source": [
    "Tentu saja, jika kita ingin menggunakan interval yang berbeda, kita bisa memberikan argumen sendiri yang akan mengganti argumen default fungsi."
   ]
  },
  {
   "cell_type": "code",
   "execution_count": null,
   "id": "84defcf9-f5be-45cf-b8f0-bebb496bf423",
   "metadata": {},
   "outputs": [],
   "source": [
    "is_bounded(2, lower=5)"
   ]
  },
  {
   "cell_type": "markdown",
   "id": "3ae460b4-3be4-4f5b-9aa3-01400382eaee",
   "metadata": {},
   "source": [
    "````{warning}\n",
    "Pendefinisian fungsi dengan argumen default pada parameter tidak boleh diikuti oleh *positional argument*, seperti di bawah ini.\n",
    "\n",
    "```python\n",
    "def is_bounded(x, lower=0, upper):\n",
    "    return lower <= x <= upper\n",
    "```\n",
    "\n",
    "Definisi fungsi di atas akan memunculkan eror `SyntaxError`, sama dengan saat kita menyediakan *keyword argument* dan diikuti oleh *positional argument* sebelumya.\n",
    "````"
   ]
  },
  {
   "cell_type": "markdown",
   "id": "b093b010-f02f-4de6-ba41-bfb8ea788c50",
   "metadata": {},
   "source": [
    "```{admonition} Eksplorasi Mandiri\n",
    "Python mengutamakan *readability* yang berarti kode yang ditulis haruslah mudah dibaca dan dipahami, baik bagi pengembang, pengguna, ataupun pembaca. Oleh karena itu, coba **baca, eksplor, dan terapkan** bagaimana kita membuat dokumentasi fungsi yang sudah kita buat melalui link berikut: [PEP-257 Docstring Convention](https://www.python.org/dev/peps/pep-0257/)\n",
    "```"
   ]
  },
  {
   "cell_type": "markdown",
   "id": "75e9d8b3-7587-4b09-b0d8-a039c67293c6",
   "metadata": {},
   "source": [
    "## Cakupan Variabel\n",
    "\n",
    "Cakupan variabel merujuk pada bagaimana suatu variabel dapat diakses oleh interpreter {cite}`python-like-you-mean-it`. Variabel-variabel atau parameter dalam sebuah fungsi **hanya bisa diakses dan berlaku di dalam fungsi** tersebut. Andaikan kita mendefinisikan variabel dengan nama yang sama diluar fungsi tersebut, maka fungsi tersebut tetap menggunakan variabel yang didefinisikan di dalamnya. Akan tetapi, jika kita mendefinisikan variabel di luar fungsi, lalu mengaksesnya di dalam fungsi, di mana tidak ada variabel dengan nama yang sama, maka fungsi tersebut akan menggunakan variabel dari luar fungsi.\n",
    "\n",
    "Untuk lebih jelasnya, kita gunakan fungsi `func` terakhir kita yang mengombinasikan *positional argument* dan *variable-length positional/keyword argument*"
   ]
  },
  {
   "cell_type": "code",
   "execution_count": null,
   "id": "155281dd-98bb-4c48-ada8-223a74f926cd",
   "metadata": {},
   "outputs": [],
   "source": [
    "x = 10\n",
    "y = 100\n",
    "\n",
    "func(5, 50)\n",
    "\n",
    "print(\"x outside function:\", x)\n",
    "print(\"y outside function:\", y)"
   ]
  },
  {
   "cell_type": "markdown",
   "id": "cf976a39-56f0-4d39-9cdf-c414d4ff329a",
   "metadata": {},
   "source": [
    "```{admonition} Good practice\n",
    "It is best to define variables in the smallest scope they will be needed in. While functions can refer to variables defined in a larger scope, this is very rarely a good idea since you may not know what variables you have defined if your program has a lot of variables. {cite}`intro-python-udacity`\n",
    "```"
   ]
  }
 ],
 "metadata": {
  "kernelspec": {
   "display_name": "Python 3 (ipykernel)",
   "language": "python",
   "name": "python3"
  },
  "language_info": {
   "codemirror_mode": {
    "name": "ipython",
    "version": 3
   },
   "file_extension": ".py",
   "mimetype": "text/x-python",
   "name": "python",
   "nbconvert_exporter": "python",
   "pygments_lexer": "ipython3",
   "version": "3.8.11"
  }
 },
 "nbformat": 4,
 "nbformat_minor": 5
}
