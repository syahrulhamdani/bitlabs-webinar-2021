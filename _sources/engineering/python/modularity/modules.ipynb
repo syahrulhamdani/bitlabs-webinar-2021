{
 "cells": [
  {
   "cell_type": "markdown",
   "id": "0b6a71b5-9c22-4ed9-87d5-d4259209f735",
   "metadata": {},
   "source": [
    "# Modul dan Paket dalam Python\n",
    "\n",
    "Pada bagian ini, kita akan mulai membuat sebuah program Python secara menyeluruh dengan menerapkan semua yang sudah kita pelajari sebelumnya. Kita akan menulis modul buatan kita sendiri dan menggunakan modul bawaan dari Python, atau yang disebut dengan **Python's Standard Library** dan modul-modul lainnya. Hal ini akan menjadi dasar melangkah ke *chapter* selanjutnya karena ke depannya kita akan menggunakan banyak sekali modul-modul buatan komunitas dan organisasi di luar sana.\n",
    "\n",
    "## Apa Itu Modul (*Module*)?\n",
    "\n",
    "Modul sebenarnya adalah **sebuah file Python dengan format `.py`**. Semua file Python (modul) dapat digunakan oleh file Python (modul) yang lain. Yang dimaksud dengan \"menggunakan\" di sini adalah menggunakan kode yang ada pada modul tersebut seolah-olah kode tersebut juga ditulis pada modul yang menggunakannya.\n",
    "\n",
    "Kita bisa memanggil dan menggunakan kode dari modul lain dengan menggunakan pernyataan `import`. Pernyataan `import` akan memuat semua objek yang ada di dalam modul lain dan bisa diakses oleh kode yang ada dalam modul yang memanggilnya.\n",
    "\n",
    "## Mengimpor Modul\n",
    "\n",
    "Cara sederhana penggunaan `import` adalah `import module`, dengan `module` adalah nama file Python yang ingin kita gunakan (tanpa ekstensi `.py`).\n",
    "\n",
    "Misalkan, kita ingin memilih makanan untuk makan siang dari sekian banyak layanan cepat saji. Daripada kita repot berpikir atau berdiskusi dengan yang lain, mari kita biarkan komputer untuk memilih. Kita buat sebuah modul program yang berisi fungsi yang mengembalikan pilihan makanan cepat saji secara acak.\n",
    "\n",
    "```{figure} ../../../assets/images/fastfood.py.png\n",
    ":name: fastfood.py\n",
    "Modul `fastfood.py`\n",
    "```\n",
    "\n",
    "Kemudian, kita buat program utama kita dalam `lunch.py` yang akan mengimpor semua objek dalam `fastfood.py` ke dalam `lunch.py` untuk bisa diakses dan digunakan. Berikut kode program utama kita di `lunch.py`.\n",
    "\n",
    "```{figure} ../../../assets/images/lunch.py.png\n",
    ":name: lunch.py\n",
    "Modul utama `lunch.py`\n",
    "```\n",
    "\n",
    "Jika kedua file tersebut berada dalam satu direktori yang sama, maka kita bisa menjalankan program utama `lunch.py` seperti di bawah ini.\n",
    "\n",
    "```{tip}\n",
    "Sangat disarankan untuk menjalankan program python (`.py`) melalui terminal.\n",
    "```"
   ]
  },
  {
   "cell_type": "code",
   "execution_count": null,
   "id": "c7291aa2-cbe1-4155-b3e4-158571ea8cbf",
   "metadata": {},
   "outputs": [],
   "source": [
    "!python lunch.py"
   ]
  },
  {
   "cell_type": "code",
   "execution_count": null,
   "id": "2865a589-70b9-4670-abb2-8cdaee4a82f7",
   "metadata": {},
   "outputs": [],
   "source": [
    "!python lunch.py"
   ]
  },
  {
   "cell_type": "code",
   "execution_count": null,
   "id": "71362707-c535-458d-9858-33194279f1cf",
   "metadata": {},
   "outputs": [],
   "source": [
    "!python lunch.py"
   ]
  },
  {
   "cell_type": "markdown",
   "id": "8458363f-2b8f-4656-82de-986afb0e801e",
   "metadata": {},
   "source": [
    "Dari dua file Python tersebut, kita melakukan impor modul di dua tempat berbeda:\n",
    "* Program utama `lunch.py` yang mengimpor modul `fastfood`.\n",
    "* Modul `fastfood` yang mengimpor modul bawaan Python atau *Python's Standard Library* bernama `random`.\n",
    "\n",
    "Kita juga melakukan impor dengan dua cara berbeda:\n",
    "* Pertama, kita mengimpor seluruh objek yang ada dalam `fastfood` dengan pernyataan `import fastfood`. Dengan cara ini, kita bisa menggunakan fungsi `pick` yang ada di dalamnya dengan awalan `fastfood.` (seperti pada akses atribut dan metode objek sebelumnya) sebelum nama fungsinya. Ini berguna agar tidak terjadi konflik jikalau ada fungsi dengan nama yang sama, `pick` pada modul `lunch` atau pada modul lain.\n",
    "* Kedua, kita menggunakan pernyataan `from random import choice` pada modul `fastfood` yang menyebabkan hanya fungsi `choice` saja yang tersedia untuk digunakan. Ini sangat direkomendasikan jika memang kita hanya menggunakan salah satu atau beberapa fungsi/kelas/variabel saja dari suatu modul dan tidak ingin mengakses semua objek di dalamnya karena alasan efisiensi memori.\n",
    "\n",
    "```{warning}\n",
    "Kita bisa mengimpor seperti pada kasus kedua dengan pertimbangan bahwa tidak akan terjadi konflik dengan fungsi/kelas/variabel atau objek lainnya dengan nama yang sama, `choice`.\n",
    "```\n",
    "\n",
    "## Mengimpor Modul dengan Alias\n",
    "\n",
    "Bagaimanana jika ternyata ada objek bernama `fastfood` juga dalam program utama `lunch.py`? Bagaimana kita bisa mengimpor modul `fastfood`?\n",
    "\n",
    "Untuk mengatasi konflik tersebut, kita memiliki opsi untuk mengimpor sebuah modul atau bagian dari modul dengan menggunakan sebuah **alias**. Alias berarti kita mengimpor suatu modul dan kemudian membuat sebuah alias dengan nama lain. Ini bisa dilakukan dengan menambahkan kata kunci `as` pada setiap objek yang diimpor.\n",
    "\n",
    "Sebagai contoh, kita bisa memodifikasi program utama `lunch.py` untuk mengimpor `fastfood` menggunakan alias seperti di bawah ini.\n",
    "\n",
    "\n",
    "```python\n",
    "import fastfood as ff\n",
    "\n",
    "place = ff.pick()\n",
    "print(\"Let's go to {} for lunch.\".format(place))\n",
    "```\n",
    "\n",
    "## Impor Hanya Yang Dibutuhkan\n",
    "\n",
    "Kita sudah menerapkan hal ini pada kasus kedua sebelumnya, di mana kita hanya mengimpor fungsi `choice` dari modul `random`. Sebagai contoh, karena kita hanya membutuhkan fungsi `pick` pada modul `fastfood` dan tidak membutuhkan `places`, kita bisa memodifikasi lagi program utama `lunch.py` menjadi berikut.\n",
    "\n",
    "```python\n",
    "from fastfood import pick\n",
    "\n",
    "place = pick()\n",
    "print(\"Let's go to {} for lunch.\".format(place))\n",
    "```\n",
    "\n",
    "Atau, kita gunakan alias seperti di bawah ini.\n",
    "\n",
    "```python\n",
    "from fastfood import pick as fastpick\n",
    "\n",
    "place = fastpick()\n",
    "print(\"Let's go to {} for lunch.\".format(place))\n",
    "```\n",
    "\n",
    "```{div} alert alert-block alert-info\n",
    "**Kuis:** Impor pustaka standar Python `math` dan gunakan modul `math` untuk menghitung $e^3$.\n",
    "```"
   ]
  },
  {
   "cell_type": "code",
   "execution_count": null,
   "id": "8998cde5-6eda-4bae-9b83-3ff0e867dfef",
   "metadata": {},
   "outputs": [],
   "source": [
    "# KETIK DI SINI"
   ]
  },
  {
   "cell_type": "markdown",
   "id": "5da592bd-3864-48a9-90de-6d36b921e37f",
   "metadata": {},
   "source": [
    "```{admonition} Tugas Baca\n",
    "Lakukan riset dan eksplorasi tentang beberapa [pustaka standar Python](https://docs.python.org/3/library/) berikut dan coba beberapa modul di dalamnya:\n",
    "1. `datetime`\n",
    "2. `os`\n",
    "3. `time`\n",
    "4. `csv`\n",
    "5. `json`\n",
    "6. `random`\n",
    "```"
   ]
  },
  {
   "cell_type": "code",
   "execution_count": null,
   "id": "4d610f8c-3630-4a6e-bbd7-13ca8e240487",
   "metadata": {},
   "outputs": [],
   "source": [
    "# KETIK DI SINI"
   ]
  },
  {
   "cell_type": "code",
   "execution_count": null,
   "id": "cf7a04f3-8668-4ed8-b1ff-f39d3cf6327b",
   "metadata": {},
   "outputs": [],
   "source": [
    "# KETIK DI SINI"
   ]
  },
  {
   "cell_type": "code",
   "execution_count": null,
   "id": "e9e62d30-4cb4-405b-9762-972005998f4e",
   "metadata": {},
   "outputs": [],
   "source": [
    "# KETIK DI SINI"
   ]
  },
  {
   "cell_type": "code",
   "execution_count": null,
   "id": "fe5aab4d-1b02-4c2e-85d8-e7d36c416b2c",
   "metadata": {},
   "outputs": [],
   "source": [
    "# KETIK DI SINI"
   ]
  },
  {
   "cell_type": "code",
   "execution_count": null,
   "id": "f56f0c39-5f29-4562-afb6-ce648efb3dc7",
   "metadata": {},
   "outputs": [],
   "source": [
    "# KETIK DI SINI"
   ]
  },
  {
   "cell_type": "code",
   "execution_count": null,
   "id": "9087114c-17a9-41ee-ae20-c5ae1031da5d",
   "metadata": {},
   "outputs": [],
   "source": [
    "# KETIK DI SINI"
   ]
  },
  {
   "cell_type": "markdown",
   "id": "8d125848-49b1-465c-99f1-9ddd846a0716",
   "metadata": {},
   "source": [
    "## Paket dalam Python\n",
    "\n",
    "Secara singkat, paket (*package*) dalam Python berarti **kumpulan modul dalam sebuah folder** (kumpulan file berekstensi `.py` dalam sebuah folder). Dengan adanya *package*, kita bisa membuat beberapa modul yang dikelompokkan dalam sebuah direktori dengan tugas khusus. Sebuah *package* bisa saja terdiri dari beberapa *sub-package*, yang berarti direktori yang memiliki sub-direktori.\n",
    "\n",
    "Satu hal yang dibutuhkan agar Python mengenali bahwa sebuah direktori bukan direktori biasa, melainkan sebuah *package*, adalah modul `__init__.py`. Modul `__init__.py` umumnya hanya file berekstensi `.py` kosong. Meski begitu, kita juga bisa mengisinya dengan objek/fungsi/kelas/variabel layaknya modul pada umumnya.\n",
    "\n",
    "```{note}\n",
    "File `__init__.py` sebenarnya dibutuhkan oleh Python versi 3.3 ke belakang untuk mengenali sebuah direktori adalah *package*.\n",
    "```\n",
    "\n",
    "Sekarang, mari kita coba buat sebuah *package* yang memanfaatkan modul-modul yang sudah kita buat sebelumnya. Struktur direktori yang akan kita buat adalah seperti di bawah ini.\n",
    "\n",
    "```\n",
    "|--- questions.py\n",
    "|--- choices\n",
    "     |--- fastfood.py\n",
    "     |--- advice.py\n",
    "```\n",
    "\n",
    "```{figure} ../../../assets/images/questions.py.png\n",
    ":name: questions.py\n",
    "Modul `questions.py`\n",
    "```\n",
    "\n",
    "```{figure} ../../../assets/images/fastfood.py.png\n",
    ":name: choices.fastfood.py\n",
    "Modul `choices/fastfood.py` yang ada di dalam `choices`\n",
    "```\n",
    "\n",
    "```{figure} ../../../assets/images/choices.advice.py.png\n",
    ":name: choices.advice.py\n",
    "Modul `choices/advice.py` yang ada di dalam `choices`\n",
    "```\n",
    "\n",
    "Untuk menjalankan program utama `questions.py`, tempatkan `questions.py` sejajar dengan direktori `choices`."
   ]
  },
  {
   "cell_type": "code",
   "execution_count": null,
   "id": "66b2f216-d762-422e-bf5b-f5eebbee7943",
   "metadata": {},
   "outputs": [],
   "source": [
    "!python questions.py"
   ]
  },
  {
   "cell_type": "code",
   "execution_count": null,
   "id": "5cdc8740-2749-424c-ae62-5e8e79038ab4",
   "metadata": {},
   "outputs": [],
   "source": [
    "!python questions.py"
   ]
  },
  {
   "cell_type": "code",
   "execution_count": null,
   "id": "df37c080-35de-4008-8f86-9d62ced546ac",
   "metadata": {},
   "outputs": [],
   "source": [
    "!python questions.py"
   ]
  },
  {
   "cell_type": "markdown",
   "id": "b5c64d63-7f20-48e1-a7ae-3397ef27f76a",
   "metadata": {},
   "source": [
    "````{div} alert alert-block alert-info\n",
    "**Kuis:** Buatlah sebuah *package* `password` yang memiliki sebuah fungsi `generate_password` yang **memilih 3 kata secara acak** dari sebuah daftar kata `word_list` yang memuat kata-kata dalam file `words.txt` dan menggabungkan ketiga karakter tersebut menjadi satu string. Jika *package* berfungsi dengan benar, maka bisa digunakan untuk membangkitkan kata sandi seperit di bawah ini.\n",
    "\n",
    "```python\n",
    "pw = password.generate_password()\n",
    "```\n",
    "\n",
    "Silakan unduh file `words.txt` [di sini](https://storage.googleapis.com/bitlabs-dataset/words.txt).\n",
    "````"
   ]
  }
 ],
 "metadata": {
  "kernelspec": {
   "display_name": "Python 3",
   "language": "python",
   "name": "python3"
  },
  "language_info": {
   "codemirror_mode": {
    "name": "ipython",
    "version": 3
   },
   "file_extension": ".py",
   "mimetype": "text/x-python",
   "name": "python",
   "nbconvert_exporter": "python",
   "pygments_lexer": "ipython3",
   "version": "3.8.6"
  }
 },
 "nbformat": 4,
 "nbformat_minor": 5
}
