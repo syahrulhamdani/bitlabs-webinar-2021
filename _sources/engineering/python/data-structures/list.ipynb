{
 "cells": [
  {
   "cell_type": "markdown",
   "id": "d8e5a33e-1998-4df8-b5b4-b34e24c64066",
   "metadata": {},
   "source": [
    "# List\n",
    "\n",
    "List adalah salah satu struktur data Python di mana kita bisa menggabungkan atau menyimpan barisan objek Python yang lain, sesuai dengan arti harafiahnya. List digunakan jika kita ingin membuat sebuah barisan data dalam urutan tertentu dan bisa berubah (diganti, ditambah, atau dikurangi) sewaktu-waktu.\n",
    "\n",
    "```{note}\n",
    "Tipe data **barisan** (*sequence*) dalam Python dibedakan menjadi 2 jenis:\n",
    "1. Barisan yang bisa diubah (**mutable**)\n",
    "2. Barisan yang tidak bisa diubah (**immutable**)\n",
    "\n",
    "`list` termasuk ke dalam jenis tipe data barisan yang bisa diubah (*mutable*)\n",
    "```\n",
    "\n",
    "## Mendefinsikan List dengan `[]`\n",
    "\n",
    "Kita bisa mendefinisikan list dengan menggunakan kurung siku (`[]`) dan data-data yang ada di dalamnya dipisahkan dengan koma (`,`), misalkan `[item_1, item_2, item_3, ..., item_n]`. Sebuah `list` bisa terdiri dari nol atau lebih data. Kasus pertama disebut dengan list kosong (`empty list`), yaitu sebuah list yang tidak memiliki data/elemen apa-apa.\n",
    "\n",
    "```python\n",
    "empty_list = []\n",
    "first_quarter_months = [\"January\", \"February\", \"March\"]\n",
    "last_5_years = [2016, 2017, 2018, 2019, 2020]\n",
    "list_mix = [100, 3.14, \"bitlabs\", True, -9, 7+2j, -1.]\n",
    "```"
   ]
  },
  {
   "cell_type": "code",
   "execution_count": null,
   "id": "6ecaa73a-a850-4d8d-9cba-387249f6c62a",
   "metadata": {},
   "outputs": [],
   "source": [
    "print([], type([]))\n",
    "print([1, 1, 2, 3], type([1, 1, 2, 3]))"
   ]
  },
  {
   "cell_type": "markdown",
   "id": "043a7633-1b28-407d-a8d8-ad7849f78faf",
   "metadata": {},
   "source": [
    "Karena list merupakan barisan data, sangat masuk akal jika penasaran berapa jumlah elemen yang ada di dalamnya. Python menyediakan fungsi bawaan `len` yang bisa digunakan untuk mengembalikan jumlah elemen dari suatu `list`. Dokumentasi dari fungsi `list` bisa dilihat [di sini](https://docs.python.org/3/library/functions.html#len)."
   ]
  },
  {
   "cell_type": "code",
   "execution_count": null,
   "id": "6b11c124-aaca-40f7-a32c-0c3ae72192df",
   "metadata": {},
   "outputs": [],
   "source": [
    "empty_list = []\n",
    "last_5_years = [2016, 2017, 2018, 2019, 2020]\n",
    "\n",
    "print(\"length of empty_list var:\", len(empty_list))\n",
    "print(\"length of last_5_years var:\", len(last_5_years))"
   ]
  },
  {
   "cell_type": "markdown",
   "id": "6b9155a8-0faa-42fd-b6b0-4a12b1a04537",
   "metadata": {},
   "source": [
    "## Fungsi Bawaan `list()`\n",
    "\n",
    "Selain dengan mendaftarkan manual barisan data menjadi `list` dengan `[]`, kita juga bisa menggunakan fungsi bawaan `list()` yang bisa mengonversi tipe data barisan yang lain menjadi sebuah `list`. Sebagai contoh, kita mengubah string `\"bitlabs\"` menjadi sebuah barisan karakter yang menyusunnya dengan `list(\"bitlabs\")`, yang menghasilkan list `[\"b\", \"i\", \"t\", \"l\", \"a\", \"b\", \"s\"]`."
   ]
  },
  {
   "cell_type": "code",
   "execution_count": null,
   "id": "bdb890ec-a5c0-433a-ad04-de662a951a7c",
   "metadata": {},
   "outputs": [],
   "source": [
    "print(list())\n",
    "print(list(\"bitlabs\"))"
   ]
  },
  {
   "cell_type": "markdown",
   "id": "35c27529-63af-473a-a146-354b34c17206",
   "metadata": {},
   "source": [
    "Beberapa fungsi atau metode bawaan Python lainnya yang bisa digunakan pada tipe data list seperti:\n",
    "* `max` - mengembalikan elemen terbesar dalam barisan\n",
    "* `min` - mengembalikan elemen terkecil dalam barisan\n",
    "* `sorted` - mengembalikan duplikat barisan yang terurut dari yang paling kecil ke paling besar, atau sebaliknya\n",
    "* `append` - menambahkan elemen baru setelah elemen terakhir dari barisan tersebut\n",
    "* `join` - sebuah metode pada string yang argumen masukan sebuah list dan mengembalikan gabungan elemen-elemen di dalamnya dalam bentuk string yang dipisah oleh string tersebut.\n",
    "\n",
    "```{note}\n",
    "Python menyediakan fungsi dan metode yang bisa gunakan untuk mempermudah kode kita. Berikut adalah perbedannya:\n",
    "* Sebuah fungsi bisa digunakan untuk beberapa tipe data, misal `print`, `max`, dan lainnya.\n",
    "* Sebuah metode **hanya** bisa digunakan untuk tipe data tertentu. Misalkan, metode `split` hanya bisa digunakan untuk tipe data string dan metode `append` yang hanya bisa digunakan untuk tipe data list.\n",
    "\n",
    "Detail fungsi bawaan yang disediakan oleh Python dapat diakses dan kemudian dibaca di [dokumentasi](https://docs.python.org/3.8/library/functions.html). Khusus untuk metode dalam list, silakan baca [dokumentasi khusus list](https://docs.python.org/3.8/library/stdtypes.html#lists).\n",
    "```\n",
    "\n",
    "```{div} alert alert-block alert-info\n",
    "**Kuis:**\n",
    "1. Buatlah sebuah list `less_than_ten` yang berisi bilangan 0 sampai 9: `[0, 1, 2, 3, ..., 9]`.\n",
    "2. Urutkan list `less_than_ten` dimulai dari yang paling besar hingga paling kecil.\n",
    "3. Buat sebuah string dari elemen-elemen `less_than_ten` yang dipisahkan oleh kata `\"bit\"`.\n",
    "```"
   ]
  },
  {
   "cell_type": "code",
   "execution_count": null,
   "id": "b3cb330d-cbc4-494f-b592-0a9e10f6c908",
   "metadata": {},
   "outputs": [],
   "source": [
    "# KETIK DI SINI\n"
   ]
  },
  {
   "cell_type": "markdown",
   "id": "7d10c5aa-0783-47d2-8ec7-890bc3f17086",
   "metadata": {},
   "source": [
    "## *Indexing* dan *Slicing*\n",
    "\n",
    "Misalkan dipunyai list \n",
    "\n",
    "```python\n",
    "names = [\"John\", \"Andrew\", \"Sebastian\", \"Josh\"]\n",
    "```\n",
    "\n",
    "dan kita ingin mengakses elemen pertama dari list tersebut, atau mengakses 2 nama terakhir dalam list. List menyediakan cara untuk mengakses elemen di dalamnya melalui **indeks**.\n",
    "\n",
    "Terdapat 4 elemen pada list `names`. Penomoran indeks dalam list dimulai dari `0`, `1`, `2`, dan seterusnya sampai elemen terakhir berindeks `n-1`, dengan `n` adalah jumlah elemen.\n",
    "\n",
    "```{note}\n",
    "Hal ini serupa dengan string di mana kita bisa mengakses karakter di dalam string dengan pola indeks yang sama.\n",
    "```\n",
    "\n",
    "Selain *indexing* yang dimulai dari `0`, penomoran indeks dalam list juga bisa menggunakan integer negatif. Penomoran indeks negatif ini dimulai dari elemen paling belakang ke elemen paling depan/awal dengan indeks `-1`, `-2`, sampai dengan `-n`.\n",
    "\n",
    "Perhatikan contoh di bawah ini."
   ]
  },
  {
   "cell_type": "code",
   "execution_count": null,
   "id": "3706740c-a5dc-4a5e-839f-852100baf079",
   "metadata": {},
   "outputs": [],
   "source": [
    "names = [\"John\", \"Andrew\", \"Sebastian\", \"Josh\"]\n",
    "\n",
    "print(\"names[0]:\", names[0])\n",
    "print(\"names[1]:\", names[1])\n",
    "print(\"names[2]:\", names[2])\n",
    "\n",
    "print(\"names[-3]:\", names[-3])\n",
    "print(\"names[-2]:\", names[-2])\n",
    "print(\"names[-1]:\", names[-1])"
   ]
  },
  {
   "cell_type": "markdown",
   "id": "887d9908-185a-48ba-89b4-b60d9387215e",
   "metadata": {},
   "source": [
    "Kita juga bisa mengakses dua atau lebih elemen dari sebuah list dengan menggunakan teknik *slicing*. Hasil dari *slicing* juga merupakan list. *Slicing* bekerja dengan notasi `list[start:stop:step]` yang berarti \"ambil elemen dari indeks nomor `start` sampai indeks nomor `stop-1` sebesar `step`, di mana nilai default `step` adalah `1`\".\n",
    "\n",
    "Sebagai contoh, jika kita ingin mengakses elemen `0` dan `1` pada `names`, kita bisa mengiris dengan `names[0:2]`. Di sini, `start = 0` berarti kita  mulai ambil elemen dengan indeks `0` sampai dengan indeks `stop-1 = 2-1 = 1`.\n",
    "\n",
    "```{tip}\n",
    "jika kita ingin mengakses nilai awal dan akhir suatu list, kita tidak perlu menyertakan indeks `0` dan indeks `n-1` karena kita bisa langsung tulis `names[:2]` dan `names[2:]` untuk mengakses 2 elemen pertama dan 2 elemen terakhir.\n",
    "```\n",
    "\n",
    "```{div} alert alert-block alert-info\n",
    "**Kuis:** Dari list `random_dates` di bawah ini, coba tampilkan tanggal-tanggal dengan tahun genap dan juga gasal.\n",
    "```"
   ]
  },
  {
   "cell_type": "code",
   "execution_count": null,
   "id": "dd6a260c-34b3-48cd-828b-8ce0dad3cac2",
   "metadata": {},
   "outputs": [],
   "source": [
    "random_dates = ['June 21, 2001', 'December 4, 2002', 'August 23, 2003',\n",
    "                'March 29, 2004', 'August 1, 2005', 'July 22, 2006',\n",
    "                'July 11, 2007', 'November 13, 2008', 'March 20, 2009',\n",
    "                'March 9, 2010']\n",
    "\n",
    "# KETIK DI SINI - tanggal dengan tahun genap\n",
    "\n",
    "\n",
    "# KETIK DI SINI - tanggal dengan tahun gasal\n"
   ]
  }
 ],
 "metadata": {
  "kernelspec": {
   "display_name": "Python 3",
   "language": "python",
   "name": "python3"
  },
  "language_info": {
   "codemirror_mode": {
    "name": "ipython",
    "version": 3
   },
   "file_extension": ".py",
   "mimetype": "text/x-python",
   "name": "python",
   "nbconvert_exporter": "python",
   "pygments_lexer": "ipython3",
   "version": "3.8.6"
  }
 },
 "nbformat": 4,
 "nbformat_minor": 5
}
