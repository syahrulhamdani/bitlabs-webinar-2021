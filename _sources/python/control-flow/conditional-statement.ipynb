{
 "cells": [
  {
   "cell_type": "markdown",
   "id": "d2a3f7ac-463e-4e7f-9013-4e911e689998",
   "metadata": {},
   "source": [
    "# Pernyataan Kondisional\n",
    "\n",
    "Sampai saat ini, saat kita menjalankan sebuah cell kode, interpreter akan mengeksekusi dari baris pertama sampai dengan baris terakhir pada cell tersebut. Lalu, bagaimana jika kita ingin menambahkan fungisonalitas untuk **mengeksekusi baris tertentu jika suatu kondisi terpenuhi**? Tentu saja, kita bisa melakukannya dengan membuat sebuah **pernyataan kondisional** (conditional statements).\n",
    "\n",
    "## Pernyataan Kondisioal dengan `if` (dan `else`)\n",
    "\n",
    "```{admonition} Contoh Kasus\n",
    "Sebagai contoh kasus, misalkan kita ingin memutuskan apa yang harus kita beli di sebuah toko buku. Setelah dicari tahu, ternyata kita punya pilihan:\n",
    "1. Komik seharga Rp 20.000,-\n",
    "2. Pulang dari toko buku karena uang tidak cukup\n",
    "\n",
    "Jika kita punya uang sebesar Rp 10.000,- dan ingin membeli satu produk apa saja yang paling mahal yang bisa dibeli, tentu saja kita **tidak bisa** membeli komik yang kita mau dan akhirnya pulang. Jika kita ternyata punya Rp 99.000, maka kita bisa membeli komik yang kita mau.\n",
    "```\n",
    "\n",
    "Dari contoh kasus di atas, kita bisa membuat kode yang membantu kita untuk memilih dengan pernyataan `if`. Dengan `if`, kita harus menyediakan sebuah **kondisi** yang akan dicek terlebih dahulu oleh Python. Jika **kondisi benar**, maka semua blok kode di dalamnya, akan dieksekusi. Jika tidak, maka lanjutkan ke luar blok kode tersebut.\n",
    "\n",
    "```python\n",
    "if money >= 20000:\n",
    "    print(\"buy comic\")\n",
    "```\n",
    "\n",
    "Penulisan pernyataan `if` dimulai dengan kata kunci `if`, dilanjutkan dengan pernyataan **kondisi** yang harus menghasilkan nilai `bool` (`True` atau `False`). Blok kode akan dieksekusi jika dan hanya jika nilai boolean dari kondisi tersebut adalah `True`. Sehingga, pernyataan `print(\"buy comic\")` akan dieksekusi jika dan hanya terdapat variabel `money` dengan nilai `>= 20000`."
   ]
  },
  {
   "cell_type": "code",
   "execution_count": null,
   "id": "4d486eef-100b-4708-819a-907a7905367a",
   "metadata": {},
   "outputs": [],
   "source": [
    "money = 50000\n",
    "\n",
    "if money >= 20000:\n",
    "    # akan dieksekusi\n",
    "    print(\"let's buy a comic\")"
   ]
  },
  {
   "cell_type": "code",
   "execution_count": null,
   "id": "f50ec356-f0ec-4a9b-9488-ddf8f83a7041",
   "metadata": {},
   "outputs": [],
   "source": [
    "money = 10000\n",
    "\n",
    "if money >= 20000:\n",
    "    # tidak akan dieksekusi\n",
    "    print(\"let's buy a comic\")"
   ]
  },
  {
   "cell_type": "markdown",
   "id": "24f3398b-45c6-4b8d-89e4-50462a3c318c",
   "metadata": {},
   "source": [
    "Pada cell kode pertama, blok kode `if` akan dieksekusi karena `money >= 20000` menghasilkan nilai `True`. Sedangkan, cell kode kedua tidak karena kondisinya tidak terpenuhi.\n",
    "\n",
    "Selain `if`, ada juga kata kunci `else` yang **tidak** perlu disediakan kondisi dan blok kode di dalamnya akan dieksekusi ketika blok `if` \"di atasnya\" tidak terpenuhi. Sebagai contoh, perhatikan cell kode di bawah ini.\n",
    "\n",
    "````{note}\n",
    "Penulisan `else` juga diakhiri dengan tanda `:` dan tanpa ada kondisi.\n",
    "```python\n",
    "if True:\n",
    "    # some statements\n",
    "else:\n",
    "    # other statements\n",
    "```\n",
    "````"
   ]
  },
  {
   "cell_type": "code",
   "execution_count": null,
   "id": "8e4f360b-277f-4712-9e3e-a883a32438b4",
   "metadata": {},
   "outputs": [],
   "source": [
    "money = 10000\n",
    "\n",
    "if money >= 20000:\n",
    "    # tidak akan dieksekusi\n",
    "    print(\"let's buy a comic\")\n",
    "else:\n",
    "    print(\"let's go home and collect more money!\")"
   ]
  },
  {
   "cell_type": "markdown",
   "id": "c352e564-15bd-480b-8c3a-af1ebdce1ade",
   "metadata": {},
   "source": [
    "````{tip}\n",
    "Ekspresi `money >= 20000` bisa juga ditugaskan ke dalam sebuah variabel, misal `is_enough_money`, yang juga otomatis bernilai boolean. Kemudian, kita tidak perlu menuliskan secara eksplisit ekspresi kondisi tersebut, akan tetapi bisa langsung ditulis\n",
    "```python\n",
    "money = 10000\n",
    "is_enough_money = money >= 20000\n",
    "if is_enough_money:\n",
    "    print(\"let's buy a comic\")\n",
    "else:\n",
    "    print(\"let's go home and collect more money!\")\n",
    "```\n",
    "````"
   ]
  },
  {
   "cell_type": "markdown",
   "id": "486c9943-2607-44a9-a30c-aef8b3f68efc",
   "metadata": {},
   "source": [
    "## Kondisonal Berlipat dengan `elif`\n",
    "\n",
    "```{admonition} Contoh Kasus\n",
    "Sebagai contoh kasus, misalkan kita ingin memutuskan apa yang harus kita beli di sebuah toko buku. Setelah dicari tahu, ternyata kita punya pilihan:\n",
    "1. Komik seharga Rp 20.000,-\n",
    "2. Novel seharga Rp 75.000,-\n",
    "3. Majalah seharga Rp 100.000,-\n",
    "\n",
    "Jika kita punya uang sebesar Rp 50.000,- dan ingin membeli satu produk apa saja yang paling mahal yang bisa dibeli, tentu saja kita **tidak bisa** membeli novel ataupun majalah. Jika kita ternyata punya Rp 99.000, maka kita bisa membeli novel yang kita mau.\n",
    "```\n",
    "\n",
    "Jika dihadapkan dengan beberapa kondisi dengan beberapa keputusan seperti contoh kasus di atas, salah satu yang bisa kita lakukan adalah seperti pada cell di bawah ini."
   ]
  },
  {
   "cell_type": "code",
   "execution_count": null,
   "id": "a45b0d37-6a53-443e-aa62-a9b7e4db2d93",
   "metadata": {},
   "outputs": [],
   "source": [
    "money = 5000\n",
    "\n",
    "if (money >= 20000) and (money < 75000):\n",
    "    print(\"let's buy a comic\")\n",
    "else:\n",
    "    if (money >= 75000) and (money < 100000):\n",
    "        print(\"let's buy a brand new novel\")\n",
    "    else:\n",
    "        if money >= 100000:\n",
    "            print(\"Yup! let's buy the expensive magazine\")\n",
    "        else:\n",
    "            print(\"let's go home and collect more money\")"
   ]
  },
  {
   "cell_type": "markdown",
   "id": "ebcf4ff0-bf7c-431b-84a8-7f178943e3b5",
   "metadata": {},
   "source": [
    "**Sangat merepotkan bukan?**\n",
    "\n",
    "Karena *engineer* adalah pemalas, sebisa mungkin kita mencoba dengan sedikit usaha tapi menghasilkan sesuatu yang besar. Khusus untuk kasus tersebut di atas, kita bisa gunakan pernyataan `elif`. Pernyataan `elif`, bisa dibilang gabungan antara `else` dan `if` (`elif`) yang dengannya kita bisa menambahkan kondisi seperti pada `if`, tapi hanya akan dieksekusi jika dan hanya jika pernyataan `if` atau `elif` sebelumnya tidak terpenuhi.\n",
    "\n",
    "Umumnya, penulisan pernyataan `if`, `elif` dan `else` adalah sebagai berikut.\n",
    "\n",
    "```python\n",
    "if a_condition:\n",
    "    # some statements\n",
    "elif another_condition:\n",
    "    # another statements\n",
    "elif and_another_condition:\n",
    "    # just wait\n",
    "...\n",
    "elif the_last_condition:\n",
    "    # let's end this\n",
    "else:\n",
    "    # the end\n",
    "```\n",
    "\n",
    "Pada prinsipnya, kita bisa menambahkan berapapun banyaknya pernyataan `if`, `elif`, dan `else`, tergantung kondisi dan kasus yang akan kita kerjakan. Sehingga, untuk contoh kasus di atas, kita bisa memanfaaatkan `elif` sehingga kode terlihat lebih rapi dan ringkas, tapi masih dengan fungsionalitas yang sama."
   ]
  },
  {
   "cell_type": "code",
   "execution_count": null,
   "id": "052f0c15-dffc-468e-8d27-fc10c1df2269",
   "metadata": {},
   "outputs": [],
   "source": [
    "money = 80000\n",
    "\n",
    "if (money >= 20000) and (money < 75000):\n",
    "    print(\"let's buy a comic\")\n",
    "elif (money >= 75000) and (money < 100000):\n",
    "    print(\"let's buy a brand new novel\")\n",
    "elif money >= 100000:\n",
    "    print(\"Yup! let's buy the expensive magazine\")\n",
    "else:\n",
    "    print(\"let's go home and collect more money\")"
   ]
  },
  {
   "cell_type": "markdown",
   "id": "06c638f8-e065-4335-a5f1-7626c89238a8",
   "metadata": {},
   "source": [
    "```{admonition} Eksplorasi\n",
    "1. Dengan menggunakan pernyataan kondisional, coba implementasikan beberapa kemungkinan untuk memenangkan doorprize seperti pada tabel di bawah.\n",
    "\n",
    "    | points | prize |\n",
    "    | ----- | ------|\n",
    "    | 1 - 50 | wooden rabbit |\n",
    "    | 51 - 150 | no prize |\n",
    "    | 151 - 180 | wafer-thin mint |\n",
    "    | 181 - 200 | penguin |\n",
    "\n",
    "2. Misalkan kita ingin mengecek apakah suatu `list` memiliki elemen atau tidak. Jika tidak ada, maka tampilkan `\"Sayang sekali, tidak ada elemen di sini\"`. Jika ada, tampilkan `\"Untung ada elemennya!\"`.\n",
    "```"
   ]
  },
  {
   "cell_type": "code",
   "execution_count": null,
   "id": "c1deac59-3860-4b9a-88b5-a6f641c92908",
   "metadata": {},
   "outputs": [],
   "source": [
    "# KETIK DI SINI (1)\n",
    "\n",
    "# KETIK DI SINI (2)\n"
   ]
  }
 ],
 "metadata": {
  "kernelspec": {
   "display_name": "Python 3 (ipykernel)",
   "language": "python",
   "name": "python3"
  },
  "language_info": {
   "codemirror_mode": {
    "name": "ipython",
    "version": 3
   },
   "file_extension": ".py",
   "mimetype": "text/x-python",
   "name": "python",
   "nbconvert_exporter": "python",
   "pygments_lexer": "ipython3",
   "version": "3.8.11"
  }
 },
 "nbformat": 4,
 "nbformat_minor": 5
}
