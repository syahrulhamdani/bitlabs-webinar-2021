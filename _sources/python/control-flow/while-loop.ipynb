{
 "cells": [
  {
   "cell_type": "markdown",
   "id": "b4c37ab6-0276-47cd-afd9-ff9160efc2ed",
   "metadata": {},
   "source": [
    "# Perulangan dengan While\n",
    "\n",
    "Pada pernyataan kondisional, kode program masih dieksekusi dari atas ke bawah per baris. Perbedannya hanya ada pada apakah suatu blok kode dieksekusi atau tidak berdasarkan kondisi yang diberikan. Tapi, kita terkadang perlu juga untuk mengeksekusi sesuatu lebih dari satu kali dan berulang. Python membolehkan kita untuk melakukan hal tersebut dengan `while`. {cite}`lubanovic2019intropython2nd`\n",
    "\n",
    "## Perulangan\n",
    "\n",
    "Misalkan diberikan sebuah daftar nama dalam bentuk `list` berikut:\n",
    "\n",
    "```python\n",
    "names = [\"brown\", \"james\", \"jackson\", \"lee\"]\n",
    "```\n",
    "\n",
    "Jika kita ingin menampilkan setiap nama yang ada pada `names`, cara paling sederhana adalah dengan mengakses satu per satu indeks seperti di bawah ini."
   ]
  },
  {
   "cell_type": "code",
   "execution_count": 1,
   "id": "defeaacd-d3bf-4d47-a115-6e9d7f6e3a32",
   "metadata": {},
   "outputs": [],
   "source": [
    "names = [\"brown\", \"james\", \"jackson\", \"lee\"]"
   ]
  },
  {
   "cell_type": "code",
   "execution_count": 2,
   "id": "3b15a08d-b4ea-4e63-bd68-6ec569f30519",
   "metadata": {},
   "outputs": [
    {
     "name": "stdout",
     "output_type": "stream",
     "text": [
      "brown\n",
      "james\n",
      "jackson\n",
      "lee\n"
     ]
    }
   ],
   "source": [
    "print(names[0])\n",
    "print(names[1])\n",
    "print(names[2])\n",
    "print(names[3])"
   ]
  },
  {
   "cell_type": "markdown",
   "id": "f7382cbf-648a-4c17-b560-0bf7ee2f7411",
   "metadata": {},
   "source": [
    "Masih bisa dilakukan jika jumlah elemennya tidak terlalu banyak. Tapi, akan buang-buang waktu dan merepotkan jika ternyata ada lebih dari 100 nama di dalamnya.\n",
    "\n",
    "Dalam setiap bahasa pemrograman, kita bisa melakukan perulangan secara otomatis tanpa harus mendaftarkan semua elemen, begitu juga Python. Konsep ini dikenal dengan **Don't Repeat Yourself (DRY)**.\n",
    "\n",
    "```{admonition} Apa Itu DRY?\n",
    "DRY is a principle of software development aimed at reducing repetition of software patterns,[1] replacing it with abstractions or using data normalization to avoid redundancy. {cite}`dry-wikipedia`\n",
    "```"
   ]
  },
  {
   "cell_type": "markdown",
   "id": "c2e5fb97-bf86-425a-b877-3420be53d778",
   "metadata": {},
   "source": [
    "## Penggunaan `while`\n",
    "\n",
    "Untuk menggunakan `while` kita perlu membuat **kondisi** yang selama kondisi itu benar (bernilai `True`), blok kode dalam `while` akan terus dieksekusi. Sintaks `while` juga mirip dengan `if`, yaitu\n",
    "\n",
    "```python\n",
    "while condition:\n",
    "    # run statement here\n",
    "```\n",
    "\n",
    "Untuk contoh kasus di atas, tujuan kita adalah **menampilkan setiap elemen yang ada dalam `names`**. Maka, kondisi yang menyebabkan perulangan berhenti adalah ketika tidak ada elemen lagi yang bisa diakses atau **sampai indeks terakhir**. Oleh karena itu, kita akan menggunakan jumlah elemen dalam `names` sebagai batas perulangan. Langkah-langkah perulangannya adalah sebagai berikut:\n",
    "\n",
    "1. Definisikan jumlah elemen (opsional, bisa langsung dalam kondisi).\n",
    "2. Mulai dari indeks pertama atau `0`.\n",
    "3. Cek kondisi, selama indeks \"saat ini\" masih **kurang dari** jumlah elemen, lakukan langkah 4-6. Jika indeks \"saat ini\" **sama dengan** jumlah elemen, lakukan langkah 7.\n",
    "4. Tampilkan indeks \"saat ini\".\n",
    "5. Tambah indeks untuk jadi indeks berikutnya.\n",
    "6. Kembali ke langkah 3.\n",
    "7. Jika langkah 3 terpenuhi, akhiri perulangan.\n",
    "\n",
    "Dari langkah-langkah yang sudah ditulis di atas, sintaks yang perlu ditulis adalah:\n",
    "\n",
    "```python\n",
    "num_names = len(names)\n",
    "idx = 0\n",
    "\n",
    "while idx < num_names:\n",
    "    print(names[idx])\n",
    "    idx += 1\n",
    "```\n",
    "\n",
    "Untuk mengujinya, jalankan saja cell di bawah ini."
   ]
  },
  {
   "cell_type": "code",
   "execution_count": 3,
   "id": "386e33f9-ffa5-48eb-a840-6ea16e638c70",
   "metadata": {},
   "outputs": [
    {
     "name": "stdout",
     "output_type": "stream",
     "text": [
      "brown\n",
      "james\n",
      "jackson\n",
      "lee\n"
     ]
    }
   ],
   "source": [
    "num_names = len(names)\n",
    "idx = 0\n",
    "\n",
    "while idx < num_names:\n",
    "    print(names[idx])\n",
    "    idx += 1"
   ]
  },
  {
   "cell_type": "markdown",
   "id": "59cd955c-78f0-4835-98b9-af65a26dbcd2",
   "metadata": {},
   "source": [
    "```{admonition} Eksplorasi\n",
    "Lakukan perulangan untuk `names` dengan menggunakan indeks negatif.\n",
    "```"
   ]
  },
  {
   "cell_type": "markdown",
   "id": "0bb350f0-32b6-445b-8053-33cf82ac8894",
   "metadata": {},
   "source": [
    "### Keluar dari `while` dengan `break`\n",
    "\n",
    "Jika kita ingin melakukan perulangan sampai sesuatu terjadi, tapi kita tidak tahu kapan, kita bisa menggunakan pernyataan `break`.\n",
    "\n",
    "```python\n",
    "idx = 0\n",
    "\n",
    "while idx < len(names):\n",
    "    if len(names[idx]) < 5:\n",
    "        break\n",
    "    print(names[idx])\n",
    "    idx += 1\n",
    "```"
   ]
  },
  {
   "cell_type": "code",
   "execution_count": 5,
   "id": "23fb0bc0-b2e0-4c22-b58c-70ff895f61a5",
   "metadata": {},
   "outputs": [
    {
     "name": "stdout",
     "output_type": "stream",
     "text": [
      "brown\n",
      "james\n",
      "jackson\n"
     ]
    }
   ],
   "source": [
    "idx = 0\n",
    "\n",
    "while idx < len(names):\n",
    "    if len(names[idx]) < 5:\n",
    "        break\n",
    "    print(names[idx])\n",
    "    idx += 1"
   ]
  },
  {
   "cell_type": "markdown",
   "id": "ab830e3f-2a93-4d31-9998-8f28bbffa6ab",
   "metadata": {},
   "source": [
    "Pernyataan `while` di atas akan menampilkan nama yang ada dalam `names` sampai bertemu dengan nama dengan jumlah karakter yang kurang dari 5. Itulah kenapa `lee` tidak ditampilkan, yaitu karena jumlah karakter `lee` hanya 3."
   ]
  },
  {
   "cell_type": "markdown",
   "id": "4474b3d5-dbff-4868-8647-3469a1914a13",
   "metadata": {},
   "source": [
    "### Pernyataan `continue` dalam Perulangan\n",
    "\n",
    "Selain kita bisa keluar dari sebuah blok kode perulangan, kita juga bisa melewati suatu baris pernyataan, jika kita tidak ingin keluar tapi hanya melewatkan suatu pernyataan dengan sengaja (*skip*). Ada pernyataan `continue` yang bisa digunakan.\n",
    "\n",
    "Dengan prinsip yang masih sama dengan `break`, misalkan kita ingin melanjutkan menampilkan nama dalam `names` meskipun ditemukan nama dengan jumlah karakter kurang dari 5. Kita bisa ganti `break` di atas dengan `continue` seperti di bawah ini."
   ]
  },
  {
   "cell_type": "code",
   "execution_count": 6,
   "id": "312914b6-3870-46e3-9ae2-cc8260bd5805",
   "metadata": {},
   "outputs": [],
   "source": [
    "names.append(\"johnson\")"
   ]
  },
  {
   "cell_type": "code",
   "execution_count": 8,
   "id": "02bc97d2-24eb-4f1c-8535-f0de16eededa",
   "metadata": {},
   "outputs": [
    {
     "name": "stdout",
     "output_type": "stream",
     "text": [
      "brown\n",
      "james\n",
      "jackson\n",
      "johnson\n"
     ]
    }
   ],
   "source": [
    "idx = 0\n",
    "\n",
    "while idx < len(names):\n",
    "    if len(names[idx]) < 5:\n",
    "        idx += 1\n",
    "        continue\n",
    "    print(names[idx])\n",
    "    idx += 1"
   ]
  },
  {
   "cell_type": "markdown",
   "id": "ef9ac2d7-48df-4be2-8464-0af1e60dfa5a",
   "metadata": {},
   "source": [
    "Pada kode di atas, kita tidak \"keluar\" dari `while`, tapi hanya melewati nama yang tidak memenuhi kondisi pada pernyataan `if`. Satu hal yang membedakan `continue` dengan `break` pada kode di atas adalah perlunya *increment* indeks dalam blok kode `if`. Ini dikarenakan `continue` tidak keluar dari `while`, tapi kembali ke atas untuk dilakukan pengecekan kondisi. Jika tidak ada penambahan indeks, maka nilai `idx` akan selalu sama, sehingga perulangan menjadi tak hingga (*infinite loop*).\n",
    "\n",
    "```{note}\n",
    "Pada dasarnya, perulangan dengan `while` tergolong ke dalam *infinite loop* karena kode akan dieksekusi selama kondisi terpenuhi. Oleh karena itu, perulangan `while` memerlukan kondisi untuk berhenti dan logika kode supaya kondisi bisa jadi **tidak terpenuhi (`False`)** sedemikian sehingga perulangan bisa berhenti.\n",
    "```\n",
    "\n",
    "````{admonition} Eksplorasi\n",
    "**Kuis:** Buat perulangan dengan `while` untuk membuat sebuah string *news* yang panjangnya **150 karakter** dari kumpulan judul berita dalam `headlines` yang setiap judul dipisahkan oleh **spasi**. Jika diperlukan, potong judul berita terakhir sedemikian hingga panjang keseluruhan `news` tepat **150 karakter**.\n",
    "\n",
    "```python\n",
    "headlines = [\"Pemprov DKI Perpanjang PPKM Mikro hingga 14 Juni\",\n",
    "             \"Manchester City Dekati Sergio Ramos\",\n",
    "             \"8 Juta Dosis Vaksin Sinovac Tiba di Tanah Air\",\n",
    "             \"10 Potret Kece Tatjana Saphira Berkacamata, Stylish Banget!\",]\n",
    "```\n",
    "````"
   ]
  },
  {
   "cell_type": "code",
   "execution_count": null,
   "id": "4ccea9ce-e75f-40ec-9677-b02336bde16d",
   "metadata": {},
   "outputs": [],
   "source": [
    "headlines = [\"Pemprov DKI Perpanjang PPKM Mikro hingga 14 Juni\",\n",
    "             \"Manchester City Dekati Sergio Ramos\",\n",
    "             \"8 Juta Dosis Vaksin Sinovac Tiba di Tanah Air\",\n",
    "             \"10 Potret Kece Tatjana Saphira Berkacamata, Stylish Banget!\",]\n",
    "\n",
    "# KETIK DI SINI\n"
   ]
  }
 ],
 "metadata": {
  "kernelspec": {
   "display_name": "Python 3 (ipykernel)",
   "language": "python",
   "name": "python3"
  },
  "language_info": {
   "codemirror_mode": {
    "name": "ipython",
    "version": 3
   },
   "file_extension": ".py",
   "mimetype": "text/x-python",
   "name": "python",
   "nbconvert_exporter": "python",
   "pygments_lexer": "ipython3",
   "version": "3.8.11"
  }
 },
 "nbformat": 4,
 "nbformat_minor": 5
}
